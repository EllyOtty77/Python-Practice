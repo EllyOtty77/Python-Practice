{
 "cells": [
  {
   "cell_type": "markdown",
   "id": "5241c05b-203c-46fe-8cdc-2dab6e8c1a2f",
   "metadata": {},
   "source": [
    "#Lists"
   ]
  },
  {
   "cell_type": "code",
   "execution_count": 5,
   "id": "b6b15f43-a2cc-4327-b45b-beb9e39c6967",
   "metadata": {},
   "outputs": [],
   "source": [
    "animals = ['cow', 'cat', 'goat', 'duck', 'lemur', 'panda']"
   ]
  },
  {
   "cell_type": "code",
   "execution_count": 6,
   "id": "6d1ddd4a-84d6-4e1b-afee-538157c80651",
   "metadata": {},
   "outputs": [
    {
     "data": {
      "text/plain": [
       "['cow', 'cat', 'goat', 'duck', 'lemur', 'panda']"
      ]
     },
     "execution_count": 6,
     "metadata": {},
     "output_type": "execute_result"
    }
   ],
   "source": [
    "animals"
   ]
  },
  {
   "cell_type": "markdown",
   "id": "10d03c7a-84fd-47aa-b993-feee9a6f5c89",
   "metadata": {},
   "source": [
    "##Appending to the List"
   ]
  },
  {
   "cell_type": "code",
   "execution_count": 7,
   "id": "46216c16-bd1e-491d-af7f-afbdc87f2386",
   "metadata": {},
   "outputs": [],
   "source": [
    "animals.append('mama_puss')"
   ]
  },
  {
   "cell_type": "code",
   "execution_count": 8,
   "id": "652afd91-75e0-4ffe-9dca-00081607051b",
   "metadata": {},
   "outputs": [
    {
     "data": {
      "text/plain": [
       "['cow', 'cat', 'goat', 'duck', 'lemur', 'panda', 'mama_puss']"
      ]
     },
     "execution_count": 8,
     "metadata": {},
     "output_type": "execute_result"
    }
   ],
   "source": [
    "animals"
   ]
  },
  {
   "cell_type": "code",
   "execution_count": null,
   "id": "2be2258f-784f-4f27-9e1c-5cb6f2bd9c3a",
   "metadata": {},
   "outputs": [],
   "source": []
  }
 ],
 "metadata": {
  "kernelspec": {
   "display_name": "Python 3 (ipykernel)",
   "language": "python",
   "name": "python3"
  },
  "language_info": {
   "codemirror_mode": {
    "name": "ipython",
    "version": 3
   },
   "file_extension": ".py",
   "mimetype": "text/x-python",
   "name": "python",
   "nbconvert_exporter": "python",
   "pygments_lexer": "ipython3",
   "version": "3.11.5"
  }
 },
 "nbformat": 4,
 "nbformat_minor": 5
}
