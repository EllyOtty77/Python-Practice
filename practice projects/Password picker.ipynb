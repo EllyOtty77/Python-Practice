{
 "cells": [
  {
   "cell_type": "code",
   "execution_count": 15,
   "id": "c5a29b84",
   "metadata": {},
   "outputs": [],
   "source": [
    "import random \n",
    "import string"
   ]
  },
  {
   "cell_type": "code",
   "execution_count": 16,
   "id": "2b27f40a",
   "metadata": {},
   "outputs": [],
   "source": [
    "nouns = ['apple', 'dinosaur', 'ball',\n",
    "         'toaster', 'goat', 'dragon',\n",
    "         'hammer', 'duck', 'panda',\n",
    "         'telephone', 'banana', 'teacher']\n",
    "\n",
    "adjectives = ['sleepy', 'slow', 'smelly',\n",
    "              'wet', 'fat', 'red',\n",
    "              'orange', 'yellow', 'green',\n",
    "              'blue', 'purple', 'fluffy',\n",
    "              'white', 'proud', 'brave']"
   ]
  },
  {
   "cell_type": "code",
   "execution_count": 22,
   "id": "8fca39bd",
   "metadata": {},
   "outputs": [
    {
     "name": "stdout",
     "output_type": "stream",
     "text": [
      "Welcome to Password Picker!\n",
      "\n",
      "Your new password is: slowbanana52#\n",
      "Your new password is: redball9>\n",
      "Your new password is: whitedragon47}\n",
      "Would you like more passwords? Type y or n: n\n",
      "\n",
      "You're good to go!\n"
     ]
    }
   ],
   "source": [
    "print('Welcome to Password Picker!\\n')\n",
    "\n",
    "while True:\n",
    "    \n",
    "    # The for loop runs 3 times, and selects 3 different passwords\n",
    "    for num in range(3):\n",
    "        adjective = random.choice(adjectives)\n",
    "        noun = random.choice(nouns)\n",
    "        number = random.randrange(0, 100)\n",
    "        special_char = random.choice(string.punctuation)\n",
    "\n",
    "        password = adjective + noun + str(number) + special_char\n",
    "        print('Your new password is: %s' % password)\n",
    "\n",
    "    response = input('Would you like more passwords? Type y or n: ')\n",
    "    if response == 'n':\n",
    "        print(f\"\\nYou're good to go!\")\n",
    "        break\n",
    "    "
   ]
  },
  {
   "cell_type": "code",
   "execution_count": null,
   "id": "687e1c83",
   "metadata": {},
   "outputs": [],
   "source": []
  }
 ],
 "metadata": {
  "kernelspec": {
   "display_name": "Python 3",
   "language": "python",
   "name": "python3"
  },
  "language_info": {
   "codemirror_mode": {
    "name": "ipython",
    "version": 3
   },
   "file_extension": ".py",
   "mimetype": "text/x-python",
   "name": "python",
   "nbconvert_exporter": "python",
   "pygments_lexer": "ipython3",
   "version": "3.11.5"
  }
 },
 "nbformat": 4,
 "nbformat_minor": 5
}
