{
    "metadata": {
        "kernelspec": {
            "name": "python3",
            "display_name": "Python 3",
            "language": "python"
        },
        "language_info": {
            "name": "python",
            "version": "3.11.5",
            "mimetype": "text/x-python",
            "codemirror_mode": {
                "name": "ipython",
                "version": 3
            },
            "pygments_lexer": "ipython3",
            "nbconvert_exporter": "python",
            "file_extension": ".py"
        }
    },
    "nbformat_minor": 2,
    "nbformat": 4,
    "cells": [
        {
            "cell_type": "markdown",
            "source": [
                "# **Functions**"
            ],
            "metadata": {
                "azdata_cell_guid": "3bedc523-32f2-4cf7-afee-d8c7fc99bb6c"
            },
            "attachments": {}
        },
        {
            "cell_type": "markdown",
            "source": [
                "- a function is a named sequence of statements that performs a computation. When you define a function, you specify the name and the sequence of statements. Later, you can “call” the function by name\n",
                "- It is common to say that a function “takes” an argument and “returns” a result. The result is called the return value\n",
                "- def is a keyword that indicates that this is a function definition\n",
                "- Inside the function, the arguments are assigned to variables called parameters.\n",
                "-  Functions can make a program smaller by eliminating repetitive code. Later, if you make a change, you only have to make it in one place. \n",
                "-  Dividing a long program into functions allows you to debug the parts one at a time and then assemble them into a working whole. \n",
                "- Well-designed functions are often useful for many programs. Once you write and debug one, you can reuse it."
            ],
            "metadata": {
                "azdata_cell_guid": "db7df8a9-e08b-4321-855d-df4dc8f1a9c3"
            },
            "attachments": {}
        },
        {
            "cell_type": "code",
            "source": [
                "# The expression in parentheses is called the argument of the function. \r\n",
                "# The argument is a value or variable that we are passing into the function as input to the function\r\n",
                "\r\n",
                "def greet_user(name):\r\n",
                "    \"\"\"Takes your name and\r\n",
                "    prints a welcome message\"\"\"\r\n",
                "\r\n",
                "    print(f\"Welcome {name.title()}! Enjoy your stay.\")\r\n",
                "\r\n",
                "greet_user('eliud')"
            ],
            "metadata": {
                "azdata_cell_guid": "3546f0d0-1086-4bd1-8043-0a46623f63db",
                "language": "python"
            },
            "outputs": [
                {
                    "output_type": "stream",
                    "name": "stdout",
                    "text": "Welcome Eliud! Enjoy your stay.\n"
                }
            ],
            "execution_count": 1
        },
        {
            "cell_type": "code",
            "source": [
                "# add a default value to the parameter to make argument optional\r\n",
                "def hello(name='whirl'):\r\n",
                "    return f'Hello, {name}!'\r\n",
                "hello()"
            ],
            "metadata": {
                "azdata_cell_guid": "10cd610d-2c64-45e5-b43f-96e76422973e",
                "language": "python"
            },
            "outputs": [
                {
                    "output_type": "execute_result",
                    "execution_count": 8,
                    "data": {
                        "text/plain": "'Hello, whirl!'"
                    },
                    "metadata": {}
                }
            ],
            "execution_count": 8
        },
        {
            "cell_type": "code",
            "source": [
                "# Positional arguments\r\n",
                "def describe_pet(animal_type, pet_name):\r\n",
                "    \"\"\"Display information about a pet.\"\"\"\r\n",
                "    print(f\"\\nI have a {animal_type}.\")\r\n",
                "    print(f\"My {animal_type}'s name is {pet_name.title()}.\")\r\n",
                "\r\n",
                "describe_pet('hamster', 'harry')\r\n",
                "describe_pet('dog', 'willie')"
            ],
            "metadata": {
                "azdata_cell_guid": "8aacf23b-fec9-4e45-ae02-8b1cb25e2d42",
                "language": "python"
            },
            "outputs": [
                {
                    "output_type": "stream",
                    "name": "stdout",
                    "text": "\nI have a hamster.\nMy hamster's name is Harry.\n\nI have a dog.\nMy dog's name is Willie.\n"
                }
            ],
            "execution_count": 6
        },
        {
            "cell_type": "code",
            "source": [
                "# Keyword Arguments\r\n",
                "\r\n",
                "# Free you from having to worry about correctly ordering your arguments in the function call.\r\n",
                "# They clarify the role of each value in the function call.\r\n",
                "\r\n",
                "def describe_pet(animal_type, pet_name):\r\n",
                "    \"\"\"Display information about a pet.\"\"\"\r\n",
                "\r\n",
                "    print(f\"\\nI have a {animal_type}.\")\r\n",
                "    print(f\"My {animal_type}'s name is {pet_name.title()}.\")\r\n",
                "\r\n",
                "describe_pet(animal_type='cat', pet_name='minute')\r\n",
                "describe_pet(pet_name='messi', animal_type='goat')"
            ],
            "metadata": {
                "azdata_cell_guid": "08898400-5430-4f11-a5fc-764e876c4087",
                "language": "python"
            },
            "outputs": [
                {
                    "output_type": "stream",
                    "name": "stdout",
                    "text": "\nI have a cat.\nMy cat's name is Minute.\n\nI have a goat.\nMy goat's name is Messi.\n"
                }
            ],
            "execution_count": 7
        },
        {
            "cell_type": "code",
            "source": [
                "def make_shirt(size, message):\r\n",
                "    \"\"\"graphic tee\"\"\"\r\n",
                "\r\n",
                "    print(f\"Shirt size {size} with print:\")\r\n",
                "    print(f\"{message.capitalize()}\")\r\n",
                "\r\n",
                "make_shirt('large', 'anarchy')"
            ],
            "metadata": {
                "azdata_cell_guid": "fe0e93f9-970e-4a89-828d-89d9bd87b097",
                "language": "python"
            },
            "outputs": [
                {
                    "output_type": "stream",
                    "name": "stdout",
                    "text": "Shirt size large with print:\nAnarchy\n"
                }
            ],
            "execution_count": 11
        },
        {
            "cell_type": "code",
            "source": [
                "# return dict\r\n",
                "def build_person(first_name, last_name, age=None):\r\n",
                "    \"\"\"Return a dictionary of information about a person.\"\"\"\r\n",
                "    person = {'first': first_name, 'last': last_name}\r\n",
                "    if age:\r\n",
                "        person['age'] = age\r\n",
                "    return person\r\n",
                "artist = build_person('jimi', 'hendrix', age=27)\r\n",
                "print(artist)"
            ],
            "metadata": {
                "azdata_cell_guid": "ef0a61ab-3c00-471f-a0b9-d50e5fc6e723",
                "language": "python"
            },
            "outputs": [
                {
                    "output_type": "stream",
                    "name": "stdout",
                    "text": "{'first': 'jimi', 'last': 'hendrix', 'age': 27}\n"
                }
            ],
            "execution_count": 12
        },
        {
            "cell_type": "code",
            "source": [
                "# Passing a list\r\n",
                "def greet_users(names):\r\n",
                "    \"\"\"Print a simple greeting to each user in the list.\"\"\"\r\n",
                "    for name in names:\r\n",
                "        msg = f\"Hello, {name.title()}!\"\r\n",
                "        print(msg)\r\n",
                "usernames = ['hannah', 'ty', 'margot']\r\n",
                "greet_users(usernames)"
            ],
            "metadata": {
                "azdata_cell_guid": "6df87832-e4cb-4c43-b970-6753e4592084",
                "language": "python"
            },
            "outputs": [
                {
                    "output_type": "stream",
                    "name": "stdout",
                    "text": "Hello, Hannah!\nHello, Ty!\nHello, Margot!\n"
                }
            ],
            "execution_count": 13
        },
        {
            "cell_type": "markdown",
            "source": [
                "## **Projects**"
            ],
            "metadata": {
                "azdata_cell_guid": "f69fcc68-7a3f-4dd1-8b8a-32fc92645d0b"
            },
            "attachments": {}
        },
        {
            "cell_type": "markdown",
            "source": [
                "### **Formatted name**"
            ],
            "metadata": {
                "azdata_cell_guid": "8a89c4bc-9f7c-4182-bd99-1dca1b634786"
            },
            "attachments": {}
        },
        {
            "cell_type": "code",
            "source": [
                "def get_formatted_name(first_name, last_name):\r\n",
                "    \"\"\"Return a full name, neatly formatted.\"\"\"\r\n",
                "    full_name = f\"{first_name} {last_name}\"\r\n",
                "    return full_name.title()\r\n",
                "\r\n",
                "while True:\r\n",
                "    print(\"\\nPlease tell me your name:\")\r\n",
                "    print(\"(enter 'q' at any time to quit)\")\r\n",
                "\r\n",
                "    f_name = input(\"First name: \")\r\n",
                "    if f_name == 'q':\r\n",
                "        break\r\n",
                "\r\n",
                "    l_name = input(\"Last name: \")\r\n",
                "    if l_name == 'q':\r\n",
                "        break\r\n",
                "    formatted_name = get_formatted_name(f_name, l_name)\r\n",
                "    print(f\"\\nHello, {formatted_name}!\")"
            ],
            "metadata": {
                "azdata_cell_guid": "afb7319f-43a8-46ac-a70d-beb6610ec36d",
                "language": "python"
            },
            "outputs": [
                {
                    "output_type": "stream",
                    "name": "stdout",
                    "text": "\nPlease tell me your name:\n(enter 'q' at any time to quit)\n"
                },
                {
                    "output_type": "stream",
                    "name": "stdout",
                    "text": "\nHello, Elly Otty!\n\nPlease tell me your name:\n(enter 'q' at any time to quit)\n"
                }
            ],
            "execution_count": 14
        },
        {
            "cell_type": "markdown",
            "source": [
                "### **Pizza**"
            ],
            "metadata": {
                "azdata_cell_guid": "53ffd3a5-4520-4471-827c-21c5c2096a88"
            },
            "attachments": {}
        },
        {
            "cell_type": "code",
            "source": [
                "def make_pizza(*toppings):\r\n",
                "    \"\"\"Print the list of toppings that have been requested.\"\"\"\r\n",
                "    print(toppings)\r\n",
                "\r\n",
                "make_pizza('pepperoni')\r\n",
                "make_pizza('mushrooms', 'green peppers', 'extra cheese')\r\n",
                "\r\n",
                "# The asterisk in the parameter name *toppings tells Python to make an\r\n",
                "# empty tuple called toppings and pack whatever values it receives into this tuple"
            ],
            "metadata": {
                "azdata_cell_guid": "9b0f41fc-6111-4af9-a2ff-e575f4f02bc4",
                "language": "python"
            },
            "outputs": [
                {
                    "output_type": "stream",
                    "name": "stdout",
                    "text": "('pepperoni',)\n('mushrooms', 'green peppers', 'extra cheese')\n"
                }
            ],
            "execution_count": 16
        },
        {
            "cell_type": "code",
            "source": [
                "# the parameter that accepts an arbitrary number of arguments must be placed last\r\n",
                "def make_pizza1(size, *toppings):\r\n",
                "    \"\"\"Summarize the pizza we are about to make.\"\"\"\r\n",
                "    print(f\"\\nMaking a {size}-inch pizza with the following toppings:\")\r\n",
                "    for topping in toppings:\r\n",
                "        print(f\"- {topping}\")\r\n",
                "\r\n",
                "make_pizza1(16, 'pepperoni')\r\n",
                "make_pizza1(12, 'mushrooms', 'green peppers', 'extra cheese')\r\n",
                "\r\n",
                "# **kwargs used to collect non-specific keyword arguments"
            ],
            "metadata": {
                "azdata_cell_guid": "71f07b29-bb99-468e-976a-3d580ec797a6",
                "language": "python"
            },
            "outputs": [
                {
                    "output_type": "stream",
                    "name": "stdout",
                    "text": "\nMaking a 16-inch pizza with the following toppings:\n- pepperoni\n\nMaking a 12-inch pizza with the following toppings:\n- mushrooms\n- green peppers\n- extra cheese\n"
                }
            ],
            "execution_count": 17
        },
        {
            "cell_type": "markdown",
            "source": [
                "### **Text color**"
            ],
            "metadata": {
                "azdata_cell_guid": "924fc251-097f-4cc5-90f0-9e45fef5fc61"
            },
            "attachments": {}
        },
        {
            "cell_type": "code",
            "source": [
                "import random\r\n",
                "from sty import fg\r\n",
                "\r\n",
                "def generateRGB():\r\n",
                "    red = random.randint(0, 256)\r\n",
                "    green= random.randint(0, 256)\r\n",
                "    blue= random.randint(0, 256)\r\n",
                "\r\n",
                "    return red, green, blue\r\n",
                "def generateColor(red, green, blue):\r\n",
                "    return fg(red, green, blue)\r\n",
                "\r\n",
                "red, green, blue = generateRGB()\r\n",
                "color = generateColor(red, green, blue)\r\n",
                "print(color, \"I change color\")"
            ],
            "metadata": {
                "azdata_cell_guid": "f0e1c689-7848-4009-8cd5-c2ac949126ae",
                "language": "python"
            },
            "outputs": [
                {
                    "output_type": "error",
                    "ename": "ModuleNotFoundError",
                    "evalue": "No module named 'sty'",
                    "traceback": [
                        "\u001b[1;31m---------------------------------------------------------------------------\u001b[0m",
                        "\u001b[1;31mModuleNotFoundError\u001b[0m                       Traceback (most recent call last)",
                        "Cell \u001b[1;32mIn[18], line 2\u001b[0m\n\u001b[0;32m      1\u001b[0m \u001b[38;5;28;01mimport\u001b[39;00m \u001b[38;5;21;01mrandom\u001b[39;00m\n\u001b[1;32m----> 2\u001b[0m \u001b[38;5;28;01mfrom\u001b[39;00m \u001b[38;5;21;01msty\u001b[39;00m \u001b[38;5;28;01mimport\u001b[39;00m fg\n\u001b[0;32m      4\u001b[0m \u001b[38;5;28;01mdef\u001b[39;00m \u001b[38;5;21mgenerateRGB\u001b[39m():\n\u001b[0;32m      5\u001b[0m     red \u001b[38;5;241m=\u001b[39m random\u001b[38;5;241m.\u001b[39mrandint(\u001b[38;5;241m0\u001b[39m, \u001b[38;5;241m256\u001b[39m)\n",
                        "\u001b[1;31mModuleNotFoundError\u001b[0m: No module named 'sty'"
                    ]
                }
            ],
            "execution_count": 18
        },
        {
            "cell_type": "markdown",
            "source": [
                "## **Functional programming**"
            ],
            "metadata": {
                "azdata_cell_guid": "d6691bdc-b588-4e5b-83c7-cc45c88a0183"
            },
            "attachments": {}
        },
        {
            "cell_type": "markdown",
            "source": [
                "- Functional programming aims to make programs more reliable by keeping functions short and data immutable \n",
                "- Functional programming also assumes that functions can be passed as arguments to other functions\n",
                "- When you want to transform an iterable into a list, you should use a comprehension."
            ],
            "metadata": {
                "azdata_cell_guid": "9e6dce3f-da32-4a2a-bcdd-6201b3d4e41d"
            },
            "attachments": {}
        },
        {
            "cell_type": "markdown",
            "source": [
                "### **Comprehensions**"
            ],
            "metadata": {
                "azdata_cell_guid": "2e4dca02-32bf-4ad7-94d9-856af673ad0e"
            },
            "attachments": {}
        },
        {
            "cell_type": "markdown",
            "source": [
                "- <span style=\"color: var(--vscode-foreground);\">Comprehensions make it relatively easy to create lists, sets, and dicts based on other data structures<br></span>\n",
                "- <span style=\"color: var(--vscode-foreground);\">A comprehension with curly braces and a colon is a dict comprehension; without the colon, it’s a set comprehension</span>\n",
                "- <span style=\"color: var(--vscode-foreground);\">Separate the Expression, iteration, condition on different lines</span>"
            ],
            "metadata": {
                "azdata_cell_guid": "77f5a9aa-7be8-4a08-8b59-7d0ea5ba54ae"
            },
            "attachments": {}
        },
        {
            "cell_type": "code",
            "source": [
                "def sum_numbers(numbers):\r\n",
                "    return sum(int(number)\r\n",
                "        for number in numbers.split()\r\n",
                "        if number.isdigit())\r\n",
                "\r\n",
                "print(sum_numbers('1 2 3 a b c 4'))"
            ],
            "metadata": {
                "azdata_cell_guid": "d66aa8b7-4c28-45ab-8066-0ac455183999",
                "language": "python"
            },
            "outputs": [
                {
                    "name": "stdout",
                    "text": "10\n",
                    "output_type": "stream"
                }
            ],
            "execution_count": 1
        },
        {
            "cell_type": "code",
            "source": [
                "# Flatten list\r\n",
                "def flatten(mylist):\r\n",
                "    return [one_element\r\n",
                "        for one_sublist in mylist\r\n",
                "        for one_element in one_sublist]\r\n",
                "        \r\n",
                "print(flatten([[1,2], [3,4]]))  "
            ],
            "metadata": {
                "azdata_cell_guid": "c7c066bc-d6db-4683-9499-0af5f4286572",
                "language": "python"
            },
            "outputs": [
                {
                    "name": "stdout",
                    "text": "[1, 2, 3, 4]\n",
                    "output_type": "stream"
                }
            ],
            "execution_count": 2
        },
        {
            "cell_type": "code",
            "source": [
                "# Dict comprehensions\r\n",
                "# Dict comprehensions provide us with a useful way to create new dicts.\r\n",
                "# They’re typically used when you want to create a dict based on an iterable, such as a list or file\r\n",
                "\r\n",
                "def flipped_dict(a_dict):\r\n",
                "    return {value: key\r\n",
                "    for key, value in a_dict.items()}\r\n",
                "\r\n",
                "flipped_dict({'a':1, 'b':2, 'c':3})"
            ],
            "metadata": {
                "azdata_cell_guid": "db6b3abd-b046-4f84-a320-1cf2f3fef1ba",
                "language": "python"
            },
            "outputs": [
                {
                    "data": {
                        "text/plain": "{1: 'a', 2: 'b', 3: 'c'}"
                    },
                    "metadata": {},
                    "execution_count": 3,
                    "output_type": "execute_result"
                }
            ],
            "execution_count": 3
        },
        {
            "cell_type": "markdown",
            "source": [
                "### <span style=\"color: var(--vscode-foreground);\"><b>Generator expressions</b></span>"
            ],
            "metadata": {
                "azdata_cell_guid": "6346d171-442c-4984-b8eb-04eeb93c8e9e"
            },
            "attachments": {}
        },
        {
            "cell_type": "markdown",
            "source": [
                "- Generator expressions look just like list comprehensions, except that instead of using square brackets, they use regular, round parentheses. \n",
                "- A list comprehension has to create and return its output list in one fell swoop, which can potentially use lots of memory. A generator expression, by contrast, returns its output one piece at a time. \n",
                "- The generator returns one element at a time, waiting for sum to request the next item in line. In this way, we’re only consuming one integer’s worth of memory at a time, rather than a huge list of integers’ memory."
            ],
            "metadata": {
                "azdata_cell_guid": "28b5eaa7-834e-49e7-823a-f1138fe38a50"
            },
            "attachments": {}
        },
        {
            "cell_type": "code",
            "source": [
                "sum((x*x for x in range(100000))) "
            ],
            "metadata": {
                "language": "python",
                "azdata_cell_guid": "b3c7cb67-db67-4067-bf1d-0c1380c0040a"
            },
            "outputs": [
                {
                    "data": {
                        "text/plain": "333328333350000"
                    },
                    "metadata": {},
                    "execution_count": 4,
                    "output_type": "execute_result"
                }
            ],
            "execution_count": 4
        },
        {
            "cell_type": "code",
            "source": [
                "# It turns out that when we put a generator expression in a function call, we can remove the inner parentheses: \r\n",
                "sum(x*x for x in range(100000))"
            ],
            "metadata": {
                "azdata_cell_guid": "ff8446fb-6f7e-4f0e-ad21-dd707fb6f0ca",
                "language": "python",
                "tags": []
            },
            "outputs": [
                {
                    "data": {
                        "text/plain": "333328333350000"
                    },
                    "metadata": {},
                    "execution_count": 5,
                    "output_type": "execute_result"
                }
            ],
            "execution_count": 5
        },
        {
            "cell_type": "code",
            "source": [
                "def join_numbers(numbers):\n",
                "    # Applies str to each number and puts the new string in the output list\r\n",
                "    return ','.join(str(number)\n",
                "    # Iterates over the elements of numbers\r\n",
                "    for number in numbers)\r\n",
                "\r\n",
                "print(join_numbers(range(15)))"
            ],
            "metadata": {
                "azdata_cell_guid": "d530b2e7-e1eb-4c9b-b62c-bb8279c7e8ec",
                "language": "python"
            },
            "outputs": [
{
    "name": "stdout",
    "text": "0,1,2,3,4,5,6,7,8,9,10,11,12,13,14\n",
    "output_type": "stream"
}
],
            "execution_count": 6
        }
    ]
}