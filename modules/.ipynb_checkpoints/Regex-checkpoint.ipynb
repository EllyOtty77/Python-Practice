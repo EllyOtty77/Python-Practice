{
 "cells": [
  {
   "cell_type": "code",
   "execution_count": 1,
   "id": "e38fc835-586a-4f09-aa43-5f2b4c6799c0",
   "metadata": {},
   "outputs": [],
   "source": [
    "import re"
   ]
  },
  {
   "cell_type": "code",
   "execution_count": 16,
   "id": "276a29a6-c27a-4f66-b9fc-8858b382fbd4",
   "metadata": {},
   "outputs": [],
   "source": [
    "quote = \"I am a Data Analyst. I love data. My goal is to help you learn everything Data.\""
   ]
  },
  {
   "cell_type": "code",
   "execution_count": 4,
   "id": "fa55f8cb-ef5a-41bf-8ecd-edc52062bfd3",
   "metadata": {},
   "outputs": [
    {
     "data": {
      "text/plain": [
       "<re.Match object; span=(80, 84), match='goal'>"
      ]
     },
     "execution_count": 4,
     "metadata": {},
     "output_type": "execute_result"
    }
   ],
   "source": [
    "re.search('goal', quote)"
   ]
  },
  {
   "cell_type": "code",
   "execution_count": 6,
   "id": "289e8a26-6f80-4e49-bd91-f59f63cccaf3",
   "metadata": {},
   "outputs": [
    {
     "data": {
      "text/plain": [
       "'Data'"
      ]
     },
     "execution_count": 6,
     "metadata": {},
     "output_type": "execute_result"
    }
   ],
   "source": [
    "re.search('Data', quote).group()"
   ]
  },
  {
   "cell_type": "code",
   "execution_count": 7,
   "id": "9219bb49-bade-4423-8a3f-b6eb7bccd69a",
   "metadata": {},
   "outputs": [
    {
     "data": {
      "text/plain": [
       "['Data', 'Data']"
      ]
     },
     "execution_count": 7,
     "metadata": {},
     "output_type": "execute_result"
    }
   ],
   "source": [
    "# Returns a list\n",
    "re.findall('Data', quote)"
   ]
  },
  {
   "cell_type": "code",
   "execution_count": 8,
   "id": "c9fd2440-7bcd-47dd-801a-e7339be384b8",
   "metadata": {},
   "outputs": [
    {
     "data": {
      "text/plain": [
       "2"
      ]
     },
     "execution_count": 8,
     "metadata": {},
     "output_type": "execute_result"
    }
   ],
   "source": [
    "len(re.findall('Data', quote))"
   ]
  },
  {
   "cell_type": "code",
   "execution_count": 14,
   "id": "184a7d25-e3d6-408b-8688-bb292a3295cb",
   "metadata": {},
   "outputs": [
    {
     "data": {
      "text/plain": [
       "['I am a Data Analyst',\n",
       " \" That's what this channel is all about\",\n",
       " ' My goal is to help you learn everything Data',\n",
       " '']"
      ]
     },
     "execution_count": 14,
     "metadata": {},
     "output_type": "execute_result"
    }
   ],
   "source": [
    "re.split('\\.', quote)"
   ]
  },
  {
   "cell_type": "code",
   "execution_count": 15,
   "id": "8d291527-3828-42e4-b528-80ffe62fc0aa",
   "metadata": {},
   "outputs": [
    {
     "data": {
      "text/plain": [
       "\"I am a Data Analyst. That's what this channel is all about. My task is to help you learn everything Data.\""
      ]
     },
     "execution_count": 15,
     "metadata": {},
     "output_type": "execute_result"
    }
   ],
   "source": [
    "re.sub('goal', 'task', quote)"
   ]
  },
  {
   "cell_type": "code",
   "execution_count": 18,
   "id": "6811b7e2-76f2-4c5a-858b-00d3653042d6",
   "metadata": {},
   "outputs": [
    {
     "data": {
      "text/plain": [
       "'You am a Data Analyst. I love data. My goal is to help you learn everything Data.'"
      ]
     },
     "execution_count": 18,
     "metadata": {},
     "output_type": "execute_result"
    }
   ],
   "source": [
    "re.sub('I', 'You', quote, count=1)"
   ]
  },
  {
   "cell_type": "code",
   "execution_count": null,
   "id": "b1f43aee-84a5-49ab-a1cd-35a1c85911ed",
   "metadata": {},
   "outputs": [],
   "source": []
  }
 ],
 "metadata": {
  "kernelspec": {
   "display_name": "Python 3 (ipykernel)",
   "language": "python",
   "name": "python3"
  },
  "language_info": {
   "codemirror_mode": {
    "name": "ipython",
    "version": 3
   },
   "file_extension": ".py",
   "mimetype": "text/x-python",
   "name": "python",
   "nbconvert_exporter": "python",
   "pygments_lexer": "ipython3",
   "version": "3.11.5"
  }
 },
 "nbformat": 4,
 "nbformat_minor": 5
}
