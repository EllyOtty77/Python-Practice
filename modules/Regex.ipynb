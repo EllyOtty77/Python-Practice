{
 "cells": [
  {
   "cell_type": "markdown",
   "id": "50e83c83",
   "metadata": {},
   "source": [
    "# Regular expressions "
   ]
  },
  {
   "cell_type": "markdown",
   "id": "a3012f1c",
   "metadata": {},
   "source": [
    "This task of searching and extracting is so common that Python has a very powerful\n",
    "library called regular expressions that handles many of these tasks quite elegantly"
   ]
  },
  {
   "cell_type": "code",
   "execution_count": 1,
   "id": "e38fc835-586a-4f09-aa43-5f2b4c6799c0",
   "metadata": {},
   "outputs": [],
   "source": [
    "import re"
   ]
  },
  {
   "cell_type": "code",
   "execution_count": 2,
   "id": "276a29a6-c27a-4f66-b9fc-8858b382fbd4",
   "metadata": {},
   "outputs": [],
   "source": [
    "quote = \"I am a Data Analyst. I love data. My goal is to help you learn everything Data.\""
   ]
  },
  {
   "cell_type": "markdown",
   "id": "d442db44",
   "metadata": {},
   "source": [
    "## Search"
   ]
  },
  {
   "cell_type": "code",
   "execution_count": 3,
   "id": "fa55f8cb-ef5a-41bf-8ecd-edc52062bfd3",
   "metadata": {},
   "outputs": [
    {
     "data": {
      "text/plain": [
       "<re.Match object; span=(37, 41), match='goal'>"
      ]
     },
     "execution_count": 3,
     "metadata": {},
     "output_type": "execute_result"
    }
   ],
   "source": [
    "re.search('goal', quote)"
   ]
  },
  {
   "cell_type": "code",
   "execution_count": 4,
   "id": "289e8a26-6f80-4e49-bd91-f59f63cccaf3",
   "metadata": {},
   "outputs": [
    {
     "data": {
      "text/plain": [
       "'Data'"
      ]
     },
     "execution_count": 4,
     "metadata": {},
     "output_type": "execute_result"
    }
   ],
   "source": [
    "re.search('Data', quote).group()"
   ]
  },
  {
   "cell_type": "markdown",
   "id": "a674db73",
   "metadata": {},
   "source": [
    "## Find "
   ]
  },
  {
   "cell_type": "code",
   "execution_count": 5,
   "id": "9219bb49-bade-4423-8a3f-b6eb7bccd69a",
   "metadata": {},
   "outputs": [
    {
     "data": {
      "text/plain": [
       "['Data', 'Data']"
      ]
     },
     "execution_count": 5,
     "metadata": {},
     "output_type": "execute_result"
    }
   ],
   "source": [
    "# Returns a list\n",
    "re.findall('Data', quote)"
   ]
  },
  {
   "cell_type": "code",
   "execution_count": 6,
   "id": "c9fd2440-7bcd-47dd-801a-e7339be384b8",
   "metadata": {},
   "outputs": [
    {
     "data": {
      "text/plain": [
       "2"
      ]
     },
     "execution_count": 6,
     "metadata": {},
     "output_type": "execute_result"
    }
   ],
   "source": [
    "len(re.findall('Data', quote))"
   ]
  },
  {
   "cell_type": "code",
   "execution_count": 7,
   "id": "d44bba1e",
   "metadata": {},
   "outputs": [
    {
     "name": "stdout",
     "output_type": "stream",
     "text": [
      "['csev@umich.edu', 'cwen@iupui.edu']\n"
     ]
    }
   ],
   "source": [
    "s = 'A message from csev@umich.edu to cwen@iupui.edu about meeting @2PM'\n",
    "lst = re.findall('\\S+@\\S+', s)\n",
    "print(lst)"
   ]
  },
  {
   "cell_type": "markdown",
   "id": "e626f042",
   "metadata": {},
   "source": [
    "The findall() method searches the string in the second argument and returns a\n",
    "list of all of the strings that look like email addresses. We are using a two-character\n",
    "sequence that matches a non-whitespace character (\\S)."
   ]
  },
  {
   "cell_type": "markdown",
   "id": "ae7aacc4",
   "metadata": {},
   "source": [
    "We can indicate that we want to simply match a character by prefixing that character with a backslash."
   ]
  },
  {
   "cell_type": "markdown",
   "id": "aee29224",
   "metadata": {},
   "source": [
    "## Split"
   ]
  },
  {
   "cell_type": "code",
   "execution_count": 8,
   "id": "184a7d25-e3d6-408b-8688-bb292a3295cb",
   "metadata": {
    "scrolled": true
   },
   "outputs": [
    {
     "data": {
      "text/plain": [
       "['I am a Data Analyst',\n",
       " ' I love data',\n",
       " ' My goal is to help you learn everything Data',\n",
       " '']"
      ]
     },
     "execution_count": 8,
     "metadata": {},
     "output_type": "execute_result"
    }
   ],
   "source": [
    "re.split('\\.', quote)"
   ]
  },
  {
   "cell_type": "markdown",
   "id": "794cfe46",
   "metadata": {},
   "source": [
    "## Sub "
   ]
  },
  {
   "cell_type": "code",
   "execution_count": 9,
   "id": "8d291527-3828-42e4-b528-80ffe62fc0aa",
   "metadata": {},
   "outputs": [
    {
     "data": {
      "text/plain": [
       "'I am a Data Analyst. I love data. My task is to help you learn everything Data.'"
      ]
     },
     "execution_count": 9,
     "metadata": {},
     "output_type": "execute_result"
    }
   ],
   "source": [
    "re.sub('goal', 'task', quote)"
   ]
  },
  {
   "cell_type": "code",
   "execution_count": 10,
   "id": "6811b7e2-76f2-4c5a-858b-00d3653042d6",
   "metadata": {},
   "outputs": [
    {
     "data": {
      "text/plain": [
       "'You am a Data Analyst. I love data. My goal is to help you learn everything Data.'"
      ]
     },
     "execution_count": 10,
     "metadata": {},
     "output_type": "execute_result"
    }
   ],
   "source": [
    "re.sub('I', 'You', quote, count=1)"
   ]
  },
  {
   "cell_type": "markdown",
   "id": "e29a4114",
   "metadata": {},
   "source": [
    "## Pattern matching "
   ]
  },
  {
   "cell_type": "markdown",
   "id": "9f198cd2",
   "metadata": {},
   "source": [
    "Search finds from the whole string. Match only finds if the string starts with\n",
    "that character"
   ]
  },
  {
   "cell_type": "code",
   "execution_count": 11,
   "id": "42563951",
   "metadata": {},
   "outputs": [],
   "source": [
    "# Uppercase match ^ is the start and $ the end \n",
    "pattern = re.compile(\"^[A-Z]+$\")"
   ]
  },
  {
   "cell_type": "code",
   "execution_count": 12,
   "id": "5fa19866",
   "metadata": {},
   "outputs": [],
   "source": [
    "pattern.search('Hello World')"
   ]
  },
  {
   "cell_type": "code",
   "execution_count": 13,
   "id": "223cb382",
   "metadata": {},
   "outputs": [],
   "source": [
    "pattern.search('HELLO WORLD')"
   ]
  },
  {
   "cell_type": "code",
   "execution_count": 14,
   "id": "50799efc",
   "metadata": {},
   "outputs": [
    {
     "data": {
      "text/plain": [
       "<re.Match object; span=(0, 10), match='HELLOWORLD'>"
      ]
     },
     "execution_count": 14,
     "metadata": {},
     "output_type": "execute_result"
    }
   ],
   "source": [
    "pattern.search('HELLOWORLD')"
   ]
  },
  {
   "cell_type": "code",
   "execution_count": 15,
   "id": "6c6fdbcc",
   "metadata": {},
   "outputs": [],
   "source": [
    "pattern = re.compile(\"^[a-zA-Z\\s]+$\")"
   ]
  },
  {
   "cell_type": "code",
   "execution_count": 16,
   "id": "8c9cd199",
   "metadata": {},
   "outputs": [
    {
     "name": "stdout",
     "output_type": "stream",
     "text": [
      "<re.Match object; span=(0, 11), match='Hello World'>\n"
     ]
    }
   ],
   "source": [
    "print(pattern.search('Hello World'))"
   ]
  },
  {
   "cell_type": "code",
   "execution_count": 17,
   "id": "0f55712e",
   "metadata": {},
   "outputs": [
    {
     "name": "stdout",
     "output_type": "stream",
     "text": [
      "<re.Match object; span=(0, 11), match='Hello world'>\n"
     ]
    }
   ],
   "source": [
    "print(pattern.search('Hello world'))"
   ]
  },
  {
   "cell_type": "code",
   "execution_count": 18,
   "id": "a1cbf0dc",
   "metadata": {},
   "outputs": [
    {
     "name": "stdout",
     "output_type": "stream",
     "text": [
      "<re.Match object; span=(0, 10), match='helloworld'>\n"
     ]
    }
   ],
   "source": [
    "print(pattern.search('helloworld'))"
   ]
  },
  {
   "cell_type": "markdown",
   "id": "946b8a0a",
   "metadata": {},
   "source": [
    "## Extra methods"
   ]
  },
  {
   "cell_type": "markdown",
   "id": "ebb833f3",
   "metadata": {},
   "source": [
    "- ˆ Matches the beginning of the line.\n",
    "- $ Matches the end of the line.\n",
    "- . Matches any character (a wildcard).\n",
    "- \\s Matches a whitespace character.\n",
    "- \\S Matches a non-whitespace character (opposite of \\s).\n",
    "- * Applies to the immediately preceding character and indicates to match zero or more of the preceding character(s).\n",
    "- *? Applies to the immediately preceding character and indicates to match zero or more of the preceding character(s) in “non-greedy mode”.\n",
    "- + Applies to the immediately preceding character and indicates to match one ormore of the preceding character(s).\n",
    "- +? Applies to the immediately preceding character and indicates to match one or more of the preceding character(s) in “non-greedy mode”.\n",
    "- [aeiou] Matches a single character as long as that character is in the specified set.\n",
    "In this example, it would match “a”, “e”, “i”, “o”, or “u”, but no other characters.\n",
    "[a-z0-9] You can specify ranges of characters using the minus sign. This example is a single character that must be a lowercase letter or a digit.\n",
    "- [ˆA-Za-z] When the first character in the set notation is a caret, it inverts the logic.This example matches a single character that is anything other than an uppercase or lowercase letter.\n",
    "- ( ) When parentheses are added to a regular expression, they are ignored for the purpose of matching, but allow you to extract a particular subset of the matched string rather than the whole string when using findall()\n",
    "- \\b Matches the empty string, but only at the start or end of a word.\n",
    "- \\B Matches the empty string, but not at the start or end of a word.\n",
    "- \\d Matches any decimal digit; equivalent to the set [0-9].\n",
    "- \\D Matches any non-digit character; equivalent to the set [ˆ0-9]."
   ]
  },
  {
   "cell_type": "code",
   "execution_count": null,
   "id": "ff98298f",
   "metadata": {},
   "outputs": [],
   "source": []
  }
 ],
 "metadata": {
  "kernelspec": {
   "display_name": "Python 3",
   "language": "python",
   "name": "python3"
  },
  "language_info": {
   "codemirror_mode": {
    "name": "ipython",
    "version": 3
   },
   "file_extension": ".py",
   "mimetype": "text/x-python",
   "name": "python",
   "nbconvert_exporter": "python",
   "pygments_lexer": "ipython3",
   "version": "3.11.5"
  }
 },
 "nbformat": 4,
 "nbformat_minor": 5
}
