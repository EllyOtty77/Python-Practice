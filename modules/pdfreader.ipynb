{
 "cells": [
  {
   "cell_type": "code",
   "execution_count": 11,
   "id": "7422ef04",
   "metadata": {
    "scrolled": true
   },
   "outputs": [],
   "source": [
    "import PyPDF2 as pdf"
   ]
  },
  {
   "cell_type": "code",
   "execution_count": 19,
   "id": "e61c1980",
   "metadata": {},
   "outputs": [
    {
     "name": "stdout",
     "output_type": "stream",
     "text": [
      "The number of pages: 217\n",
      "\n",
      "TRUE DETECTIVE\n",
      "AND PHILOSOPHY\n"
     ]
    }
   ],
   "source": [
    "# Open the PDF file\n",
    "with open('True detective  philosophy.pdf', 'rb') as pdf_item:\n",
    "    pdf_file_reader = pdf.PdfReader(pdf_item)\n",
    "    \n",
    "    # no of pages\n",
    "    print(f'The number of pages: {len(pdf_file_reader.pages)}\\n')\n",
    "    \n",
    "    # first page\n",
    "    f_page = pdf_file_reader.pages[0]\n",
    "    print(f_page.extract_text())\n",
    "    \n",
    "    # page object \n",
    "    pages = pdf_file_reader.pages\n",
    "    \n",
    "    # extract multiple pages\n",
    "    for page in pages:\n",
    "        page = page.extract_text()\n",
    "        #print(page)\n",
    "\n"
   ]
  },
  {
   "cell_type": "code",
   "execution_count": 32,
   "id": "e846a09e",
   "metadata": {},
   "outputs": [],
   "source": [
    "# Extract a section \n",
    "sect = pages[60:69]\n",
    "\n",
    "# Initialize a string to store the extracted text\n",
    "text = \"\"\n",
    "\n",
    "# Loop through each page and extract text\n",
    "for page in sect:\n",
    "    page = page.extract_text()\n",
    "    text += page\n",
    "\n",
    "# Close the PDF file\n",
    "pdf_file.close()\n",
    "\n",
    "# Print or process the extracted text as needed\n",
    "# print(text)\n",
    "filename = 'cruelty.txt'\n",
    "with open(filename, 'w') as f:\n",
    "    f.write(text)\n"
   ]
  },
  {
   "cell_type": "code",
   "execution_count": null,
   "id": "9a09d955",
   "metadata": {},
   "outputs": [],
   "source": []
  }
 ],
 "metadata": {
  "kernelspec": {
   "display_name": "Python 3",
   "language": "python",
   "name": "python3"
  },
  "language_info": {
   "codemirror_mode": {
    "name": "ipython",
    "version": 3
   },
   "file_extension": ".py",
   "mimetype": "text/x-python",
   "name": "python",
   "nbconvert_exporter": "python",
   "pygments_lexer": "ipython3",
   "version": "3.11.5"
  }
 },
 "nbformat": 4,
 "nbformat_minor": 5
}
