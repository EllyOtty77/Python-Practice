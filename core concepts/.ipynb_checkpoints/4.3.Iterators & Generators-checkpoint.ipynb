{
 "cells": [
  {
   "cell_type": "markdown",
   "id": "b10b11c8",
   "metadata": {},
   "source": [
    "# Iterators"
   ]
  },
  {
   "cell_type": "markdown",
   "id": "99363eaf",
   "metadata": {},
   "source": [
    "An iterator is an object that contains a sequence or countable values that can be traversed upon."
   ]
  },
  {
   "cell_type": "code",
   "execution_count": 1,
   "id": "1a63ea85",
   "metadata": {},
   "outputs": [],
   "source": [
    "my_object = ['Yet', 'To', 'Come']\n",
    "iter_obj = iter(my_object)"
   ]
  },
  {
   "cell_type": "code",
   "execution_count": 2,
   "id": "06f7f18d",
   "metadata": {},
   "outputs": [
    {
     "name": "stdout",
     "output_type": "stream",
     "text": [
      "Yet\n"
     ]
    }
   ],
   "source": [
    "print(next(iter_obj))"
   ]
  },
  {
   "cell_type": "code",
   "execution_count": 3,
   "id": "dc88fc37",
   "metadata": {},
   "outputs": [
    {
     "name": "stdout",
     "output_type": "stream",
     "text": [
      "To\n"
     ]
    }
   ],
   "source": [
    "print(next(iter_obj))"
   ]
  },
  {
   "cell_type": "code",
   "execution_count": 4,
   "id": "093d4077",
   "metadata": {},
   "outputs": [
    {
     "name": "stdout",
     "output_type": "stream",
     "text": [
      "Come\n"
     ]
    }
   ],
   "source": [
    "print(next(iter_obj))"
   ]
  },
  {
   "cell_type": "code",
   "execution_count": 5,
   "id": "36708682",
   "metadata": {},
   "outputs": [],
   "source": [
    "mstr = 'Prutter'\n",
    "it = iter(mstr)"
   ]
  },
  {
   "cell_type": "code",
   "execution_count": 6,
   "id": "00b9ffd9",
   "metadata": {},
   "outputs": [
    {
     "name": "stdout",
     "output_type": "stream",
     "text": [
      "P\n"
     ]
    }
   ],
   "source": [
    "print(it.__next__())"
   ]
  },
  {
   "cell_type": "code",
   "execution_count": 7,
   "id": "f9f5e9a8",
   "metadata": {
    "scrolled": false
   },
   "outputs": [
    {
     "name": "stdout",
     "output_type": "stream",
     "text": [
      "r\n"
     ]
    }
   ],
   "source": [
    "print(it.__next__())"
   ]
  },
  {
   "cell_type": "markdown",
   "id": "d7066814",
   "metadata": {},
   "source": [
    "The __iterator protocol__ consists of three parts:\n",
    "- The __ iter__ method, which returns an iterator\n",
    "- The __ next__ method, which must be defined on the iterator\n",
    "- The StopIteration exception, which the iterator raises to signal the end of the iterations\n",
    "\n",
    "In C-like languages, we need a numeric index\n",
    "for our iterations. That’s so the loop can go through each of the elements of the collection, one at a time. In those cases, the loop is responsible for keeping track of the current location. In Python, the object itself is responsible for producing the next item. The for loop doesn’t know whether we’re on the first item or the last one. But it does know when we’ve reached the end."
   ]
  },
  {
   "cell_type": "markdown",
   "id": "b0294753",
   "metadata": {},
   "source": [
    "If you’re defining a new class, you can make it iterable as follows:\n",
    "- Define an __ iter__ method that takes only self as an argument and returns\n",
    "self. In other words, when Python asks your object, “Are you iterable?” the\n",
    "answer will be, “Yes, and I’m my own iterator.”\n",
    "- Define a __ next__ method that takes only self as an argument. This method\n",
    "should either return a value or raise StopIteration. If it never returns StopIteration, then any for loop on this object will never exit"
   ]
  },
  {
   "cell_type": "markdown",
   "id": "185627b2",
   "metadata": {},
   "source": [
    "Here’s a simple class that implements the protocol, wrapping itself around an iterable object but indicating when it reaches each stage of iteration:"
   ]
  },
  {
   "cell_type": "code",
   "execution_count": 8,
   "id": "62c1e91a",
   "metadata": {},
   "outputs": [
    {
     "name": "stdout",
     "output_type": "stream",
     "text": [
      "\tNow in __init__\n",
      "\tNow in __iter__\n",
      "\tNow in __next__\n",
      "\tGot value a, incremented index to 1\n",
      "a\n",
      "\tNow in __next__\n",
      "\tGot value b, incremented index to 2\n",
      "b\n",
      "\tNow in __next__\n",
      "\tGot value c, incremented index to 3\n",
      "c\n",
      "\tNow in __next__\n",
      "\tself.index (3) is too big; exiting\n"
     ]
    }
   ],
   "source": [
    "class LoudIterator():\n",
    "    def __init__(self, data):\n",
    "        print('\\tNow in __init__')\n",
    "        # Stores the data in an attribute, self.data\n",
    "        self.data = data\n",
    "        # Creates an index attribute, keeping track of our current position\n",
    "        self.index = 0\n",
    "    \n",
    "    # Our __iter__ does the simplest thing, returning self.\n",
    "    def __iter__(self):\n",
    "        print('\\tNow in __iter__')\n",
    "        return self\n",
    "    \n",
    "    def __next__(self):\n",
    "        print('\\tNow in __next__')\n",
    "        # Raises StopIteration if our self.index has reached the end\n",
    "        if self.index >= len(self.data):\n",
    "            print(f'\\tself.index ({self.index}) is too big; exiting')\n",
    "            raise StopIteration\n",
    "        \n",
    "        # Grabs the current value, but doesn’t return it yet\n",
    "        value = self.data[self.index]\n",
    "        # Increments self.index\n",
    "        self.index += 1\n",
    "        print(f'\\tGot value {value}, incremented index to {self.index}')\n",
    "        return value\n",
    "    \n",
    "for one_item in LoudIterator('abc'):\n",
    "    print(one_item)"
   ]
  },
  {
   "cell_type": "markdown",
   "id": "0a840cd6",
   "metadata": {},
   "source": [
    "The two terms iterable and iterator are very similar but have different meanings:\n",
    "An __iterable__ object can be put inside a for loop or list comprehension. For something to be iterable, it must implement the __iter__ method. That method\n",
    "should return an iterator.\n",
    "An __iterator__ is an object that implements the __ next__ method.\n",
    "In many cases, an iterable is its own iterator. \n",
    "For example, file objects are their own iterators. But in many other cases, such as strings and lists, the iterable object returns a\n",
    "separate, different object as an iterator"
   ]
  },
  {
   "cell_type": "markdown",
   "id": "7e7f6262",
   "metadata": {},
   "source": [
    "Adding such methods to a class works when you’re creating your own new types.\n",
    "There are two other ways to create iterators in Python:\n",
    "- You can use a generator expression. Generator expressions look and work similarly to list comprehensions, except that you use round parentheses rather than square brackets.\n",
    "But unlike list comprehensions, which return lists that might consume a great\n",
    "deal of memory, generator expressions return one element at a time.\n",
    "- You can use a generator function—something that looks like a function, but when\n",
    "executed acts like an iterator; for example"
   ]
  },
  {
   "cell_type": "code",
   "execution_count": 9,
   "id": "b2bb6bef",
   "metadata": {},
   "outputs": [],
   "source": [
    "def foo():\n",
    "    yield 1\n",
    "    yield 2\n",
    "    yield 3"
   ]
  },
  {
   "cell_type": "markdown",
   "id": "3f0c2694",
   "metadata": {},
   "source": [
    "When we execute foo, the function’s body doesn’t execute. Rather, we get a generator\n",
    "object back—that is, something that implements the iterator protocol. We can thus\n",
    "put it in a for loop:"
   ]
  },
  {
   "cell_type": "code",
   "execution_count": 10,
   "id": "fb71385e",
   "metadata": {},
   "outputs": [
    {
     "name": "stdout",
     "output_type": "stream",
     "text": [
      "1\n",
      "2\n",
      "3\n"
     ]
    }
   ],
   "source": [
    "g = foo()\n",
    "for one_item in g:\n",
    "    print(one_item)"
   ]
  },
  {
   "cell_type": "markdown",
   "id": "018cc44b",
   "metadata": {},
   "source": [
    "With each iteration (i.e., each time we\n",
    "call next on g), the function executes through the next yield statement, returns\n",
    "the value it got from yield, and then goes to sleep, waiting for the next iteration.\n",
    "When the generator function exits, it automatically raises StopIteration, thus ending the loop.\n",
    " Iterators are pervasive in Python because they’re so convenient—and in many\n",
    "ways, they’ve been made convenient because they’re pervasive."
   ]
  },
  {
   "cell_type": "markdown",
   "id": "75bf1383",
   "metadata": {},
   "source": [
    "The built-in enumerate function allows us to get not just the elements of a sequence,\n",
    "but also the index of each element, as in:"
   ]
  },
  {
   "cell_type": "code",
   "execution_count": 11,
   "id": "3a98070d",
   "metadata": {},
   "outputs": [
    {
     "name": "stdout",
     "output_type": "stream",
     "text": [
      "0: a\n",
      "1: b\n",
      "2: c\n"
     ]
    }
   ],
   "source": [
    "for index, letter in enumerate('abc'):\n",
    "    print(f'{index}: {letter}')"
   ]
  },
  {
   "cell_type": "markdown",
   "id": "fd13c4c9",
   "metadata": {},
   "source": [
    "## Cards project"
   ]
  },
  {
   "cell_type": "code",
   "execution_count": 12,
   "id": "5c8fc6c7",
   "metadata": {},
   "outputs": [],
   "source": [
    "import itertools\n",
    "\n",
    "ranks = list(range(2, 11)) + ['J', 'Q', 'K', 'A']\n",
    "ranks = [str(rank) for rank in ranks]\n",
    "suits = ['Hearts', 'Clubs', 'Diamonds', 'Spades']\n",
    "\n",
    "deck = [card for card in itertools.product(ranks, suits)]\n",
    "hands = [hand for hand in itertools.combinations(deck, 5)]"
   ]
  },
  {
   "cell_type": "code",
   "execution_count": 13,
   "id": "20c4bd26",
   "metadata": {},
   "outputs": [
    {
     "data": {
      "text/plain": [
       "['2', '3', '4', '5', '6', '7', '8', '9', '10', 'J', 'Q', 'K', 'A']"
      ]
     },
     "execution_count": 13,
     "metadata": {},
     "output_type": "execute_result"
    }
   ],
   "source": [
    "ranks"
   ]
  },
  {
   "cell_type": "code",
   "execution_count": 14,
   "id": "caf93656",
   "metadata": {},
   "outputs": [
    {
     "name": "stdout",
     "output_type": "stream",
     "text": [
      "1 ('2', 'Hearts')\n",
      "2 ('2', 'Clubs')\n",
      "3 ('2', 'Diamonds')\n",
      "4 ('2', 'Spades')\n",
      "5 ('3', 'Hearts')\n",
      "6 ('3', 'Clubs')\n",
      "7 ('3', 'Diamonds')\n",
      "8 ('3', 'Spades')\n",
      "9 ('4', 'Hearts')\n",
      "10 ('4', 'Clubs')\n",
      "11 ('4', 'Diamonds')\n",
      "12 ('4', 'Spades')\n",
      "13 ('5', 'Hearts')\n",
      "14 ('5', 'Clubs')\n",
      "15 ('5', 'Diamonds')\n",
      "16 ('5', 'Spades')\n",
      "17 ('6', 'Hearts')\n",
      "18 ('6', 'Clubs')\n",
      "19 ('6', 'Diamonds')\n",
      "20 ('6', 'Spades')\n",
      "21 ('7', 'Hearts')\n",
      "22 ('7', 'Clubs')\n",
      "23 ('7', 'Diamonds')\n",
      "24 ('7', 'Spades')\n",
      "25 ('8', 'Hearts')\n",
      "26 ('8', 'Clubs')\n",
      "27 ('8', 'Diamonds')\n",
      "28 ('8', 'Spades')\n",
      "29 ('9', 'Hearts')\n",
      "30 ('9', 'Clubs')\n",
      "31 ('9', 'Diamonds')\n",
      "32 ('9', 'Spades')\n",
      "33 ('10', 'Hearts')\n",
      "34 ('10', 'Clubs')\n",
      "35 ('10', 'Diamonds')\n",
      "36 ('10', 'Spades')\n",
      "37 ('J', 'Hearts')\n",
      "38 ('J', 'Clubs')\n",
      "39 ('J', 'Diamonds')\n",
      "40 ('J', 'Spades')\n",
      "41 ('Q', 'Hearts')\n",
      "42 ('Q', 'Clubs')\n",
      "43 ('Q', 'Diamonds')\n",
      "44 ('Q', 'Spades')\n",
      "45 ('K', 'Hearts')\n",
      "46 ('K', 'Clubs')\n",
      "47 ('K', 'Diamonds')\n",
      "48 ('K', 'Spades')\n",
      "49 ('A', 'Hearts')\n",
      "50 ('A', 'Clubs')\n",
      "51 ('A', 'Diamonds')\n",
      "52 ('A', 'Spades')\n"
     ]
    }
   ],
   "source": [
    "for index, card in enumerate(deck):\n",
    "    print(1 + index, card)"
   ]
  },
  {
   "cell_type": "code",
   "execution_count": 15,
   "id": "158611d9",
   "metadata": {},
   "outputs": [
    {
     "name": "stdout",
     "output_type": "stream",
     "text": [
      "The number of 5-card poker hands is: 2598960.\n"
     ]
    }
   ],
   "source": [
    "print(f'The number of 5-card poker hands is: {len(hands)}.')"
   ]
  },
  {
   "cell_type": "code",
   "execution_count": null,
   "id": "770dbfec",
   "metadata": {},
   "outputs": [],
   "source": []
  }
 ],
 "metadata": {
  "kernelspec": {
   "display_name": "Python 3",
   "language": "python",
   "name": "python3"
  },
  "language_info": {
   "codemirror_mode": {
    "name": "ipython",
    "version": 3
   },
   "file_extension": ".py",
   "mimetype": "text/x-python",
   "name": "python",
   "nbconvert_exporter": "python",
   "pygments_lexer": "ipython3",
   "version": "3.11.5"
  }
 },
 "nbformat": 4,
 "nbformat_minor": 5
}
