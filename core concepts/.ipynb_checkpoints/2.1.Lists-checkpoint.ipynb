{
    "metadata": {
        "kernelspec": {
            "name": "python3",
            "display_name": "Python 3",
            "language": "python"
        },
        "language_info": {
            "name": "python",
            "version": "3.11.5",
            "mimetype": "text/x-python",
            "codemirror_mode": {
                "name": "ipython",
                "version": 3
            },
            "pygments_lexer": "ipython3",
            "nbconvert_exporter": "python",
            "file_extension": ".py"
        }
    },
    "nbformat_minor": 2,
    "nbformat": 4,
    "cells": [
        {
            "cell_type": "markdown",
            "source": [
                "# **Lists**"
            ],
            "metadata": {
                "azdata_cell_guid": "13282bca-f758-4fba-ba3a-7fbcb0f375e0"
            },
            "attachments": {}
        },
        {
            "cell_type": "markdown",
            "source": [
                "- A list is a versatile and mutable data structure in Python used to store ordered and heterogeneous elements\n",
                "- Lists are created by enclosing elements in square brackets \\[\\] and separating them with commas \n",
                "- We use indexes to reference items in a list \n",
                "- For storing and manipulating collections of data\n",
                "- Suitable for scenarios where the order of elements matters, and dynamic changes to the collection are required"
            ],
            "metadata": {
                "azdata_cell_guid": "86c0a403-0fbb-44bc-ab41-1f7146d23a1e"
            },
            "attachments": {}
        },
        {
            "cell_type": "code",
            "source": [
                "cats = ['tabby', 'pixie', 'ginger', 'shorthair']\r\n",
                "cats"
            ],
            "metadata": {
                "azdata_cell_guid": "5677161e-b196-47a8-a5e8-eca30d83ecb6",
                "language": "python",
                "tags": []
            },
            "outputs": [
                {
                    "data": {
                        "text/plain": "['tabby', 'pixie', 'ginger', 'shorthair']"
                    },
                    "metadata": {},
                    "execution_count": 341,
                    "output_type": "execute_result"
                }
            ],
            "execution_count": 341
        },
        {
            "cell_type": "markdown",
            "source": [
                "## <u>List methods</u>"
            ],
            "metadata": {
                "azdata_cell_guid": "55c3c1ca-b20c-4fc8-864b-f6b53d4b776c"
            },
            "attachments": {}
        },
        {
            "cell_type": "markdown",
            "source": [
                "### **append****()**"
            ],
            "metadata": {
                "azdata_cell_guid": "fc4178c7-1187-48ce-b18a-a2121ab97302"
            },
            "attachments": {}
        },
        {
            "cell_type": "code",
            "source": [
                "# adds new element to end of list\r\n",
                "# list.append() takes exactly one argument  \r\n",
                "cats.append('mama_puss')\r\n",
                "cats"
            ],
            "metadata": {
                "azdata_cell_guid": "4ddf6128-b50f-4e30-b32e-eae9f5701406",
                "language": "python"
            },
            "outputs": [
                {
                    "data": {
                        "text/plain": "['tabby', 'pixie', 'ginger', 'shorthair', 'mama_puss']"
                    },
                    "metadata": {},
                    "execution_count": 342,
                    "output_type": "execute_result"
                }
            ],
            "execution_count": 342
        },
        {
            "cell_type": "markdown",
            "source": [
                "### **extend****()**"
            ],
            "metadata": {
                "language": "python",
                "azdata_cell_guid": "f1aba269-52b3-4305-8256-f4c57e637d1b"
            },
            "attachments": {}
        },
        {
            "cell_type": "code",
            "source": [
                "# adds new list to end of list\r\n",
                "cats.extend(['lynx', 'toto'])\r\n",
                "cats"
            ],
            "metadata": {
                "language": "python",
                "azdata_cell_guid": "cae1f07f-8b6e-4cff-b99a-b87637b4eb78"
            },
            "outputs": [
                {
                    "data": {
                        "text/plain": "['tabby', 'pixie', 'ginger', 'shorthair', 'mama_puss', 'lynx', 'toto']"
                    },
                    "metadata": {},
                    "execution_count": 343,
                    "output_type": "execute_result"
                }
            ],
            "execution_count": 343
        },
        {
            "cell_type": "markdown",
            "source": [
                "### **insert****()**"
            ],
            "metadata": {
                "azdata_cell_guid": "d56aac4c-a525-4e96-84e9-36ac896d056a"
            },
            "attachments": {}
        },
        {
            "cell_type": "code",
            "source": [
                "# Inserts element at the specified index \r\n",
                "cats.insert(1, 'korat')\r\n",
                "cats"
            ],
            "metadata": {
                "azdata_cell_guid": "e997c451-69ed-4a9a-be07-7345d7da1328",
                "language": "python"
            },
            "outputs": [
                {
                    "data": {
                        "text/plain": "['tabby', 'korat', 'pixie', 'ginger', 'shorthair', 'mama_puss', 'lynx', 'toto']"
                    },
                    "metadata": {},
                    "execution_count": 344,
                    "output_type": "execute_result"
                }
            ],
            "execution_count": 344
        },
        {
            "cell_type": "markdown",
            "source": [
                "### <span style=\"font-size: 16.38px;\"><b>remove</b></span>**()**"
            ],
            "metadata": {
                "language": "python",
                "azdata_cell_guid": "58e5cd2b-bf8e-4560-9110-1983bb362c03"
            },
            "attachments": {}
        },
        {
            "cell_type": "code",
            "source": [
                "# removes an element completely from a list\r\n",
                "cats.remove('shorthair')\r\n",
                "cats"
            ],
            "metadata": {
                "language": "python",
                "azdata_cell_guid": "ee9f2a97-051e-4dd0-9381-68378e61c660"
            },
            "outputs": [
                {
                    "data": {
                        "text/plain": "['tabby', 'korat', 'pixie', 'ginger', 'mama_puss', 'lynx', 'toto']"
                    },
                    "metadata": {},
                    "execution_count": 345,
                    "output_type": "execute_result"
                }
            ],
            "execution_count": 345
        },
        {
            "cell_type": "markdown",
            "source": [
                "### **Del method**"
            ],
            "metadata": {
                "language": "python",
                "azdata_cell_guid": "0f1a57fb-8e41-42bc-852e-c8ddc07760a7"
            },
            "attachments": {}
        },
        {
            "cell_type": "code",
            "source": [
                "# removes element with position\r\n",
                "del cats[-4]\r\n",
                "cats"
            ],
            "metadata": {
                "language": "python",
                "azdata_cell_guid": "eafa36a8-59a0-4b5c-bbcb-fca0909872cc"
            },
            "outputs": [
                {
                    "data": {
                        "text/plain": "['tabby', 'korat', 'pixie', 'mama_puss', 'lynx', 'toto']"
                    },
                    "metadata": {},
                    "execution_count": 346,
                    "output_type": "execute_result"
                }
            ],
            "execution_count": 346
        },
        {
            "cell_type": "markdown",
            "source": [
                "### **pop****()**"
            ],
            "metadata": {
                "azdata_cell_guid": "95fb416a-22b9-4e95-86af-156dbe161867",
                "language": ""
            },
            "attachments": {}
        },
        {
            "cell_type": "code",
            "source": [
                "# removes and returns the last element from the  list \r\n",
                "popped_item = cats.pop()\r\n",
                "popped_item"
            ],
            "metadata": {
                "azdata_cell_guid": "685e1d2c-7eca-47d6-b345-f7837bed135c",
                "language": "python"
            },
            "outputs": [
                {
                    "data": {
                        "text/plain": "'toto'"
                    },
                    "metadata": {},
                    "execution_count": 347,
                    "output_type": "execute_result"
                }
            ],
            "execution_count": 347
        },
        {
            "cell_type": "code",
            "source": [
                "cats"
            ],
            "metadata": {
                "language": "python",
                "azdata_cell_guid": "6e742a65-cdee-45e9-a8b4-ebf29b3ff50a"
            },
            "outputs": [
                {
                    "data": {
                        "text/plain": "['tabby', 'korat', 'pixie', 'mama_puss', 'lynx']"
                    },
                    "metadata": {},
                    "execution_count": 348,
                    "output_type": "execute_result"
                }
            ],
            "execution_count": 348
        },
        {
            "cell_type": "code",
            "source": [
                "# Removes and returns the element at index\r\n",
                "popped_item = cats.pop(-3)\r\n",
                "popped_item"
            ],
            "metadata": {
                "language": "python",
                "azdata_cell_guid": "6a45a51f-7071-4fc4-bb47-48702653cea4"
            },
            "outputs": [
                {
                    "data": {
                        "text/plain": "'pixie'"
                    },
                    "metadata": {},
                    "execution_count": 349,
                    "output_type": "execute_result"
                }
            ],
            "execution_count": 349
        },
        {
            "cell_type": "code",
            "source": [
                "cats"
            ],
            "metadata": {
                "language": "python",
                "azdata_cell_guid": "f2263475-bd06-4d49-96ef-be590c74cade"
            },
            "outputs": [
                {
                    "data": {
                        "text/plain": "['tabby', 'korat', 'mama_puss', 'lynx']"
                    },
                    "metadata": {},
                    "execution_count": 350,
                    "output_type": "execute_result"
                }
            ],
            "execution_count": 350
        },
        {
            "cell_type": "markdown",
            "source": [
                "### **<span style=\"color: var(--vscode-foreground);\"><span style=\"line-height: 107%; font-size: 16.38px;\">i</span><span style=\"font-size: 11pt; line-height: 107%; font-family: Calibri, sans-serif;\">ndex</span></span>()**"
            ],
            "metadata": {
                "language": "python",
                "azdata_cell_guid": "3e3bce63-beb8-42de-8a2c-e68715ac909e"
            },
            "attachments": {}
        },
        {
            "cell_type": "code",
            "source": [
                "# Returns the index of the first occurrence of a specified element\r\n",
                "cats.index('lynx')"
            ],
            "metadata": {
                "language": "python",
                "azdata_cell_guid": "300fd6d4-9dd0-4157-8038-88fad509e572"
            },
            "outputs": [
                {
                    "data": {
                        "text/plain": "3"
                    },
                    "metadata": {},
                    "execution_count": 351,
                    "output_type": "execute_result"
                }
            ],
            "execution_count": 351
        },
        {
            "cell_type": "markdown",
            "source": [
                "### **count()**"
            ],
            "metadata": {
                "language": "python",
                "azdata_cell_guid": "0a1e1fe4-2035-4b50-b304-01e2155a49c9"
            },
            "attachments": {}
        },
        {
            "cell_type": "code",
            "source": [
                "#Returns the number of occurrences of a specified element\r\n",
                "cats.count('mama_puss')"
            ],
            "metadata": {
                "language": "python",
                "azdata_cell_guid": "479d1285-06c8-4510-9986-4d22b1444a44",
                "tags": []
            },
            "outputs": [
                {
                    "data": {
                        "text/plain": "1"
                    },
                    "metadata": {},
                    "execution_count": 352,
                    "output_type": "execute_result"
                }
            ],
            "execution_count": 352
        },
        {
            "cell_type": "markdown",
            "source": [
                "### **len()**"
            ],
            "metadata": {
                "language": "python",
                "azdata_cell_guid": "6e976c2c-2e42-4ab1-b0ca-5545658483d3"
            },
            "attachments": {}
        },
        {
            "cell_type": "code",
            "source": [
                "# returns length of list\r\n",
                "len(cats)"
            ],
            "metadata": {
                "language": "python",
                "azdata_cell_guid": "01aabb88-06ff-459f-9b82-1ca443de6958"
            },
            "outputs": [
                {
                    "data": {
                        "text/plain": "4"
                    },
                    "metadata": {},
                    "execution_count": 353,
                    "output_type": "execute_result"
                }
            ],
            "execution_count": 353
        },
        {
            "cell_type": "markdown",
            "source": [
                "### **max()**"
            ],
            "metadata": {
                "language": "python",
                "azdata_cell_guid": "2888faf1-5624-4493-9813-962907cb267c"
            },
            "attachments": {}
        },
        {
            "cell_type": "code",
            "source": [
                "# returns largest item\r\n",
                "max(cats)"
            ],
            "metadata": {
                "language": "python",
                "azdata_cell_guid": "b130a35d-9bb4-4dc7-9a0c-205ef3e3decf"
            },
            "outputs": [
                {
                    "data": {
                        "text/plain": "'tabby'"
                    },
                    "metadata": {},
                    "execution_count": 354,
                    "output_type": "execute_result"
                }
            ],
            "execution_count": 354
        },
        {
            "cell_type": "markdown",
            "source": [
                "### **min()**"
            ],
            "metadata": {
                "language": "python",
                "azdata_cell_guid": "bcf494f3-f11e-4445-a53b-d0b8550b781d"
            },
            "attachments": {}
        },
        {
            "cell_type": "code",
            "source": [
                "# returns smallest item\r\n",
                "min(cats)"
            ],
            "metadata": {
                "language": "python",
                "azdata_cell_guid": "8a27734e-11be-46d4-bf86-b4ffeb4cac55"
            },
            "outputs": [
                {
                    "data": {
                        "text/plain": "'korat'"
                    },
                    "metadata": {},
                    "execution_count": 355,
                    "output_type": "execute_result"
                }
            ],
            "execution_count": 355
        },
        {
            "cell_type": "markdown",
            "source": [
                "### **sort()**"
            ],
            "metadata": {
                "language": "python",
                "azdata_cell_guid": "b33de6de-07ea-470c-8cb6-666f6cc7ba80"
            },
            "attachments": {}
        },
        {
            "cell_type": "code",
            "source": [
                "# sorts in ascending order\r\n",
                "cats.sort()\r\n",
                "cats"
            ],
            "metadata": {
                "language": "python",
                "azdata_cell_guid": "79eb60c1-1b33-4210-8cab-f0e85cf12aae"
            },
            "outputs": [
                {
                    "data": {
                        "text/plain": "['korat', 'lynx', 'mama_puss', 'tabby']"
                    },
                    "metadata": {},
                    "execution_count": 356,
                    "output_type": "execute_result"
                }
            ],
            "execution_count": 356
        },
        {
            "cell_type": "code",
            "source": [
                "# Reverses the order of the list\r\n",
                "cats.reverse()\r\n",
                "cats"
            ],
            "metadata": {
                "azdata_cell_guid": "86ebc113-ada3-4f86-ab91-22fe08de14c4",
                "language": "python",
                "tags": []
            },
            "outputs": [
                {
                    "data": {
                        "text/plain": "['tabby', 'mama_puss', 'lynx', 'korat']"
                    },
                    "metadata": {},
                    "execution_count": 357,
                    "output_type": "execute_result"
                }
            ],
            "execution_count": 357
        },
        {
            "cell_type": "code",
            "source": [
                "# sort in descending order\r\n",
                "cats.sort(reverse=True)\r\n",
                "cats"
            ],
            "metadata": {
                "azdata_cell_guid": "f535ba8f-2ea6-4f3d-8c0b-e01767b9102a",
                "language": "python",
                "tags": []
            },
            "outputs": [
                {
                    "data": {
                        "text/plain": "['tabby', 'mama_puss', 'lynx', 'korat']"
                    },
                    "metadata": {},
                    "execution_count": 358,
                    "output_type": "execute_result"
                }
            ],
            "execution_count": 358
        },
        {
            "cell_type": "markdown",
            "source": [
                "### **Mixed sort**"
            ],
            "metadata": {
                "language": "python",
                "azdata_cell_guid": "2300eab1-19a7-4a58-adaf-9ebee6554868"
            },
            "attachments": {}
        },
        {
            "cell_type": "code",
            "source": [
                "Mlist = ['abc', 'ABD', 'aBe']"
            ],
            "metadata": {
                "language": "python",
                "azdata_cell_guid": "642898a3-74e9-42ad-a589-1780094dcf86"
            },
            "outputs": [],
            "execution_count": 359
        },
        {
            "cell_type": "code",
            "source": [
                "# Sort with mixed case\r\n",
                "Mlist.sort()\r\n",
                "Mlist"
            ],
            "metadata": {
                "language": "python",
                "azdata_cell_guid": "3635f383-1701-4fc2-a345-af29951507ca"
            },
            "outputs": [
                {
                    "data": {
                        "text/plain": "['ABD', 'aBe', 'abc']"
                    },
                    "metadata": {},
                    "execution_count": 360,
                    "output_type": "execute_result"
                }
            ],
            "execution_count": 360
        },
        {
            "cell_type": "code",
            "source": [
                "# Normalize to lowercase\r\n",
                "Mlist.sort(key=str.lower)\r\n",
                "Mlist"
            ],
            "metadata": {
                "language": "python",
                "azdata_cell_guid": "7d9dfe04-1773-4001-af25-79d5cd314239"
            },
            "outputs": [
                {
                    "data": {
                        "text/plain": "['abc', 'ABD', 'aBe']"
                    },
                    "metadata": {},
                    "execution_count": 361,
                    "output_type": "execute_result"
                }
            ],
            "execution_count": 361
        },
        {
            "cell_type": "markdown",
            "source": [
                "### **clear()**"
            ],
            "metadata": {
                "language": "python",
                "azdata_cell_guid": "cec8ebef-7dfc-47cd-a246-f5a02747f726"
            },
            "attachments": {}
        },
        {
            "cell_type": "code",
            "source": [
                "# Removes all elements from the list\r\n",
                "Mlist.clear()\r\n",
                "Mlist"
            ],
            "metadata": {
                "language": "python",
                "azdata_cell_guid": "b70a72e8-3498-4303-b612-2cb86f0ebf86"
            },
            "outputs": [
                {
                    "data": {
                        "text/plain": "[]"
                    },
                    "metadata": {},
                    "execution_count": 362,
                    "output_type": "execute_result"
                }
            ],
            "execution_count": 362
        },
        {
            "cell_type": "markdown",
            "source": [
                "### <span style=\"font-size: 14px;\"><b>Range generator&nbsp;</b></span>"
            ],
            "metadata": {
                "language": "python",
                "azdata_cell_guid": "df0e99d2-3324-4a9b-be16-f2be07a36b36"
            },
            "attachments": {}
        },
        {
            "cell_type": "code",
            "source": [
                "# This function call generates a sequence of numbers starting from 1 (inclusive) up to, but not including, 7 (exclusive). \r\n",
                "# So, it generates the numbers 1, 2, 3, 4, 5, and 6.\r\n",
                "num_list = list(range(1,7))\r\n",
                "num_list "
            ],
            "metadata": {
                "language": "python",
                "azdata_cell_guid": "6596e353-b5f1-42be-b4e4-64b9e7330d2b"
            },
            "outputs": [
                {
                    "data": {
                        "text/plain": "[1, 2, 3, 4, 5, 6]"
                    },
                    "metadata": {},
                    "execution_count": 363,
                    "output_type": "execute_result"
                }
            ],
            "execution_count": 363
        },
        {
            "cell_type": "markdown",
            "source": [
                "### **List comprehension**"
            ],
            "metadata": {
                "azdata_cell_guid": "6cb7cab1-5d47-466e-8f12-b121d079d879"
            },
            "attachments": {}
        },
        {
            "cell_type": "code",
            "source": [
                "# Generates a sequence of numbers starting from 1 and ending at 11 (exclusive), with a step of 2. \r\n",
                "# So, it generates the numbers 1, 3, 5, 7, 9, and 11. \r\n",
                "# Then calculates the square of each value generated by the range() function.\r\n",
                "squares = [value **2 for value in range(1,12,2)]\r\n",
                "squares"
            ],
            "metadata": {
                "azdata_cell_guid": "79b51220-1f38-4aca-b065-06025ab57b41",
                "language": "python"
            },
            "outputs": [
                {
                    "data": {
                        "text/plain": "[1, 9, 25, 49, 81, 121]"
                    },
                    "metadata": {},
                    "execution_count": 364,
                    "output_type": "execute_result"
                }
            ],
            "execution_count": 364
        },
        {
            "cell_type": "markdown",
            "source": [
                "### **Slicing**"
            ],
            "metadata": {
                "azdata_cell_guid": "3b5739c1-6dc6-4c8f-9ccc-c1585f4190f8"
            },
            "attachments": {}
        },
        {
            "cell_type": "code",
            "source": [
                "dogs = ['husky', 'rott', 'retriever', 'labrador', 'bulldog', 'wild', 'pitt',]\r\n",
                "dogs"
            ],
            "metadata": {
                "azdata_cell_guid": "1ffc401e-7566-4e7f-a283-c232201f1738",
                "language": "python"
            },
            "outputs": [
                {
                    "data": {
                        "text/plain": "['husky', 'rott', 'retriever', 'labrador', 'bulldog', 'wild', 'pitt']"
                    },
                    "metadata": {},
                    "execution_count": 365,
                    "output_type": "execute_result"
                }
            ],
            "execution_count": 365
        },
        {
            "cell_type": "code",
            "source": [
                "# elements from index 2 (inclusive) up to index 5 (exclusive) \r\n",
                "sliced_dogs = dogs[2:5]\r\n",
                "sliced_dogs"
            ],
            "metadata": {
                "language": "python",
                "azdata_cell_guid": "c2c96bc2-41bf-4c9a-8ca1-489ee822ca30"
            },
            "outputs": [
                {
                    "data": {
                        "text/plain": "['retriever', 'labrador', 'bulldog']"
                    },
                    "metadata": {},
                    "execution_count": 366,
                    "output_type": "execute_result"
                }
            ],
            "execution_count": 366
        },
        {
            "cell_type": "markdown",
            "source": [
                "### Step slice (\\[start:stop:step\\])"
            ],
            "metadata": {
                "language": "python",
                "azdata_cell_guid": "5ef55298-0bde-4216-ba1d-c5236bcbf248"
            },
            "attachments": {}
        },
        {
            "cell_type": "code",
            "source": [
                "# elements from index 1 to index 5(exclusive) of the list, skipping every second element\r\n",
                "sliced_skip = dogs[1:6:2]\r\n",
                "sliced_skip"
            ],
            "metadata": {
                "language": "python",
                "azdata_cell_guid": "5dbddc53-fcec-445d-85ef-a7d8c306ecdc"
            },
            "outputs": [
                {
                    "data": {
                        "text/plain": "['rott', 'labrador', 'wild']"
                    },
                    "metadata": {},
                    "execution_count": 367,
                    "output_type": "execute_result"
                }
            ],
            "execution_count": 367
        },
        {
            "cell_type": "markdown",
            "source": [
                "### **List copy**"
            ],
            "metadata": {
                "azdata_cell_guid": "355e2294-b7dc-4f41-bb73-672397599d09"
            },
            "attachments": {}
        },
        {
            "cell_type": "code",
            "source": [
                "duplicate_dogs = dogs[:]\r\n",
                "copied_dogs = dogs.copy()\r\n",
                "duplicate_dogs\r\n",
                "copied_dogs"
            ],
            "metadata": {
                "azdata_cell_guid": "c2c271e9-3275-454e-993f-47b5aaf8f3cf",
                "language": "python"
            },
            "outputs": [
                {
                    "data": {
                        "text/plain": "['husky', 'rott', 'retriever', 'labrador', 'bulldog', 'wild', 'pitt']"
                    },
                    "metadata": {},
                    "execution_count": 368,
                    "output_type": "execute_result"
                }
            ],
            "execution_count": 368
        },
        {
            "cell_type": "markdown",
            "source": [
                "### **Aggregation**"
            ],
            "metadata": {
                "azdata_cell_guid": "438499e4-8325-4cf6-821b-813aa4b6b28e"
            },
            "attachments": {}
        },
        {
            "cell_type": "code",
            "source": [
                "pets = cats + dogs\r\n",
                "pets"
            ],
            "metadata": {
                "azdata_cell_guid": "dd0472e3-f42d-4ddb-bf0c-715d731b2fc3",
                "language": "python",
                "tags": []
            },
            "outputs": [
                {
                    "data": {
                        "text/plain": "['tabby',\n 'mama_puss',\n 'lynx',\n 'korat',\n 'husky',\n 'rott',\n 'retriever',\n 'labrador',\n 'bulldog',\n 'wild',\n 'pitt']"
                    },
                    "metadata": {},
                    "execution_count": 369,
                    "output_type": "execute_result"
                }
            ],
            "execution_count": 369
        },
        {
            "cell_type": "markdown",
            "source": [
                "### **String to list**"
            ],
            "metadata": {
                "azdata_cell_guid": "e1c6492d-3fcd-4386-b623-810facf50958"
            },
            "attachments": {}
        },
        {
            "cell_type": "code",
            "source": [
                "fl = 'county'\r\n",
                "str_list = list(fl)\r\n",
                "str_list"
            ],
            "metadata": {
                "azdata_cell_guid": "23314b8b-ed08-408d-a712-611ded22d508",
                "language": "python",
                "tags": []
            },
            "outputs": [
                {
                    "data": {
                        "text/plain": "['c', 'o', 'u', 'n', 't', 'y']"
                    },
                    "metadata": {},
                    "execution_count": 370,
                    "output_type": "execute_result"
                }
            ],
            "execution_count": 370
        },
        {
            "cell_type": "markdown",
            "source": [
                "### **split**"
            ],
            "metadata": {
                "language": "python",
                "azdata_cell_guid": "54f82d74-ecaa-4303-91af-a32c9dae154c"
            },
            "attachments": {}
        },
        {
            "cell_type": "code",
            "source": [
                "# returns individual words as list\r\n",
                "str_words = 'Almeda retroville 4u skirt'\r\n",
                "spl = str_words.split()\r\n",
                "spl"
            ],
            "metadata": {
                "language": "python",
                "azdata_cell_guid": "826a8977-7485-4eb3-a5a1-1f94cac53ff5"
            },
            "outputs": [
                {
                    "data": {
                        "text/plain": "['Almeda', 'retroville', '4u', 'skirt']"
                    },
                    "metadata": {},
                    "execution_count": 371,
                    "output_type": "execute_result"
                }
            ],
            "execution_count": 371
        },
        {
            "cell_type": "code",
            "source": [
                "# split with delimiter\r\n",
                "retro = 'we-was-passing-notes in the-bathroom'\r\n",
                "retro_split = retro.split('-')\r\n",
                "retro_split"
            ],
            "metadata": {
                "language": "python",
                "azdata_cell_guid": "5b429728-9416-406c-b2be-e63e49392165",
                "tags": []
            },
            "outputs": [
                {
                    "data": {
                        "text/plain": "['we', 'was', 'passing', 'notes in the', 'bathroom']"
                    },
                    "metadata": {},
                    "execution_count": 372,
                    "output_type": "execute_result"
                }
            ],
            "execution_count": 372
        },
        {
            "cell_type": "markdown",
            "source": [
                "### **join()**"
            ],
            "metadata": {
                "language": "python",
                "azdata_cell_guid": "116a6515-834a-4292-ade5-8a352c4133d6"
            },
            "attachments": {}
        },
        {
            "cell_type": "code",
            "source": [
                "delimiter = ' '\r\n",
                "word = delimiter.join(retro_split)\r\n",
                "word"
            ],
            "metadata": {
                "language": "python",
                "azdata_cell_guid": "78a69da0-54f2-4c3f-8025-aa2527deca3f",
                "tags": []
            },
            "outputs": [
                {
                    "data": {
                        "text/plain": "'we was passing notes in the bathroom'"
                    },
                    "metadata": {},
                    "execution_count": 373,
                    "output_type": "execute_result"
                }
            ],
            "execution_count": 373
        },
        {
            "cell_type": "markdown",
            "source": [
                "### **Object aliasing**"
            ],
            "metadata": {
                "language": "python",
                "azdata_cell_guid": "3174e08a-411a-4680-9504-7bd668131203"
            },
            "attachments": {}
        },
        {
            "cell_type": "code",
            "source": [
                "# multiple referencing \r\n",
                "a = ['a', 'c', 'd']\r\n",
                "b = a\r\n",
                "if a is b:\r\n",
                "    print('These are the same')"
            ],
            "metadata": {
                "azdata_cell_guid": "ba31d4fe-8881-41f9-8bab-19deb2ff2854",
                "language": "python"
            },
            "outputs": [
                {
                    "name": "stdout",
                    "text": "These are the same\n",
                    "output_type": "stream"
                }
            ],
            "execution_count": 374
        },
        {
            "cell_type": "code",
            "source": [
                "b[0] = 'sesh'\r\n",
                "b"
            ],
            "metadata": {
                "azdata_cell_guid": "b06295ad-5131-4244-abaa-7b8db424842b",
                "language": "python"
            },
            "outputs": [
                {
                    "data": {
                        "text/plain": "['sesh', 'c', 'd']"
                    },
                    "metadata": {},
                    "execution_count": 375,
                    "output_type": "execute_result"
                }
            ],
            "execution_count": 375
        },
        {
            "cell_type": "code",
            "source": [
                "# list a also changes, this is multiple referencing \r\n",
                "# always make list copies to avoid aliasing errors\r\n",
                "a"
            ],
            "metadata": {
                "azdata_cell_guid": "2e0639d0-5438-4f9a-afdb-cb0d14b4c679",
                "language": "python"
            },
            "outputs": [
                {
                    "data": {
                        "text/plain": "['sesh', 'c', 'd']"
                    },
                    "metadata": {},
                    "execution_count": 376,
                    "output_type": "execute_result"
                }
            ],
            "execution_count": 376
        }
    ]
}