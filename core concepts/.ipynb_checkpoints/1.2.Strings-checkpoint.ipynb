{
 "cells": [
  {
   "cell_type": "code",
   "execution_count": null,
   "id": "d26bd245-295c-462d-89dd-103ac13d2679",
   "metadata": {},
   "outputs": [],
   "source": []
  },
  {
   "cell_type": "code",
   "execution_count": null,
   "id": "a9ada60b-d720-4aa8-8b77-f1e4f5386857",
   "metadata": {},
   "outputs": [],
   "source": []
  },
  {
   "cell_type": "code",
   "execution_count": 1,
   "id": "1d183bfd-3831-400c-b362-7f96d1fef1b1",
   "metadata": {},
   "outputs": [
    {
     "data": {
      "text/plain": [
       "'The dog of Mary said \"Woof\".'"
      ]
     },
     "execution_count": 1,
     "metadata": {},
     "output_type": "execute_result"
    }
   ],
   "source": [
    "'The dog of Mary said \"Woof\".'"
   ]
  },
  {
   "cell_type": "code",
   "execution_count": null,
   "id": "b17107c3-52c3-4159-899a-44f7d2e9c924",
   "metadata": {},
   "outputs": [],
   "source": []
  }
 ],
 "metadata": {
  "kernelspec": {
   "display_name": "Python 3 (ipykernel)",
   "language": "python",
   "name": "python3"
  },
  "language_info": {
   "codemirror_mode": {
    "name": "ipython",
    "version": 3
   },
   "file_extension": ".py",
   "mimetype": "text/x-python",
   "name": "python",
   "nbconvert_exporter": "python",
   "pygments_lexer": "ipython3",
   "version": "3.11.5"
  }
 },
 "nbformat": 4,
 "nbformat_minor": 5
}
