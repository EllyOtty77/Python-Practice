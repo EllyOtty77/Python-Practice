{
    "metadata": {
        "kernelspec": {
            "name": "SQL",
            "display_name": "SQL",
            "language": "sql"
        },
        "language_info": {
            "name": "sql",
            "version": ""
        }
    },
    "nbformat_minor": 2,
    "nbformat": 4,
    "cells": [
        {
            "cell_type": "markdown",
            "source": [
                "# **Files**"
            ],
            "metadata": {
                "azdata_cell_guid": "579672f5-453d-4690-8922-c6c30f09220c"
            },
            "attachments": {}
        },
        {
            "cell_type": "markdown",
            "source": [
                "- You can (and should) iterate over files one line at a time, rather than reading the whole thing into memory at once. \n",
                "- Using with when opening a file for writing ensures that the file will be flushed and closed.\n",
                "- The csv module makes it easy to read from and write to CSV files.\n",
                "- The json module’s dump and load functions allow us to move between Python data structures and JSON-formatted strings. \n",
                "- Reading from files into built-in Python data types is a common and powerful techniqueYou can (and should) iterate over files one line at a time, rather than reading the whole thing into memory at once. \n",
                "- Using with when opening a file for writing ensures that the file will be flushed and closed. \n",
                "- The csv module makes it easy to read from and write to CSV files. \n",
                "-  The json module’s dump and load functions allow us to move between Python data structures and JSON-formatted strings. \n",
                "- Reading from files into built-in Python data types is a common and powerful technique"
            ],
            "metadata": {
                "azdata_cell_guid": "0accfc3e-c4b5-4206-afbc-02f6300ff939"
            },
            "attachments": {}
        },
        {
            "cell_type": "markdown",
            "source": [
                "## **Read**"
            ],
            "metadata": {
                "language": "python",
                "azdata_cell_guid": "20156026-2fba-4470-a094-efb593ec22bc"
            },
            "attachments": {}
        },
        {
            "cell_type": "code",
            "source": [
                "# When we want to read or write a file we first must open the file.\r\n",
                "file_path = \"C:/Users/Eliud/Documents/GitHub/product_mart/workbench.txt\"\r\n",
                "with open(file_path) as file_object:\r\n",
                "    for line in file_object:\r\n",
                "        print(line)"
            ],
            "metadata": {
                "azdata_cell_guid": "b9f22969-f103-4b96-89ab-5b95e9799a5f",
                "language": "sql"
            },
            "outputs": [],
            "execution_count": 2
        },
        {
            "cell_type": "markdown",
            "source": [
                "## **Search**"
            ],
            "metadata": {
                "language": "python",
                "azdata_cell_guid": "c2feefe2-582b-41a0-8645-ef49d733c04b"
            },
            "attachments": {}
        },
        {
            "cell_type": "code",
            "source": [
                "# Searching through a file\r\n",
                "fhand = open('programming.txt')\r\n",
                "count = 0\r\n",
                "for line in fhand:\r\n",
                "    if line.startswith('I love'):\r\n",
                "        print(line)\r\n",
                ""
            ],
            "metadata": {
                "azdata_cell_guid": "2815a644-f5b4-4d8d-8fa5-ac045ea6db58",
                "language": "sql"
            },
            "outputs": [
                {
                    "output_type": "stream",
                    "name": "stdout",
                    "text": "I love programming.\n\nI love creating new games.I also love finding meaning in large datasets.\n\nI love creating apps that can run in a browser.\n\n"
                }
            ],
            "execution_count": 5
        },
        {
            "cell_type": "code",
            "source": [
                "# Letting the user choose the file name\r\n",
                "fname = input('Enter the file name: ')\r\n",
                "fhand = open(fname)\r\n",
                "count = 0\r\n",
                "for line in fhand:\r\n",
                "    if line.startswith('I love'):\r\n",
                "        count = count + 1\r\n",
                "print('There were', count, 'subject lines in', fname)"
            ],
            "metadata": {
                "azdata_cell_guid": "97577cd0-67bb-44a1-bcf1-8ec473736c89",
                "language": "sql"
            },
            "outputs": [
                {
                    "output_type": "stream",
                    "name": "stdout",
                    "text": "There were 3 subject lines in programming.txt\n"
                }
            ],
            "execution_count": 8
        },
        {
            "cell_type": "markdown",
            "source": [
                "## **Write**"
            ],
            "metadata": {
                "language": "python",
                "azdata_cell_guid": "69a5be39-2b8b-4e03-a961-55f094c0f72a"
            },
            "attachments": {}
        },
        {
            "cell_type": "code",
            "source": [
                "# Writing to a file\r\n",
                "filename = 'programming.txt'\r\n",
                "\r\n",
                "with open(filename, 'w') as file_object:\r\n",
                "    file_object.write(\"I love programming.\")\r\n",
                "    # multiple\r\n",
                "    file_object.write(\"\\nI love creating new games.\")"
            ],
            "metadata": {
                "azdata_cell_guid": "a782432c-22dd-4552-bf5d-a32e52e17ce5",
                "language": "sql"
            },
            "outputs": [],
            "execution_count": 3
        },
        {
            "cell_type": "code",
            "source": [
                "# Append\r\n",
                "with open(filename, 'a') as file_object:\r\n",
                "    file_object.write(\"I also love finding meaning in large datasets.\\n\")\r\n",
                "    file_object.write(\"I love creating apps that can run in a browser.\\n\")"
            ],
            "metadata": {
                "azdata_cell_guid": "29f05d1d-b819-41dc-ad40-eda7dfac39d9",
                "language": "sql"
            },
            "outputs": [],
            "execution_count": 4
        },
        {
            "cell_type": "markdown",
            "source": [
                "## **Projects**"
            ],
            "metadata": {
                "azdata_cell_guid": "493b981e-9156-4fd0-935b-029c8eaaea72"
            },
            "attachments": {}
        },
        {
            "cell_type": "markdown",
            "source": [
                "### **Word count**"
            ],
            "metadata": {
                "azdata_cell_guid": "dbde93cc-79b7-48ed-8adc-866871f27393"
            },
            "attachments": {}
        },
        {
            "cell_type": "code",
            "source": [
                "def count_words(filename):\r\n",
                "    \"\"\"Count the approximate number of words in a file.\"\"\"\r\n",
                "    try:\r\n",
                "        with open(filename, encoding='utf-8') as f:\r\n",
                "            contents = f.read()\r\n",
                "    except FileNotFoundError:\r\n",
                "        print(f\"Sorry, the file {filename} does not exist.\")\r\n",
                "    else:\r\n",
                "        words = contents.split()\r\n",
                "        num_words = len(words)\r\n",
                "        print(f\"The file {filename} has about {num_words} words.\")\r\n",
                "\r\n",
                "filename = 'programming.txt'\r\n",
                "count_words(filename)"
            ],
            "metadata": {
                "azdata_cell_guid": "07c89676-86c6-45ce-9b38-6cd8e18c5d31",
                "language": "sql"
            },
            "outputs": [
                {
                    "output_type": "stream",
                    "name": "stdout",
                    "text": "Sorry, the file programming.txt does not exist.\n"
                }
            ],
            "execution_count": 2
        },
        {
            "cell_type": "markdown",
            "source": [
                "### **Longest line**"
            ],
            "metadata": {
                "azdata_cell_guid": "4c8f5132-83d5-48b2-9a07-cb9d1d78b275"
            },
            "attachments": {}
        },
        {
            "cell_type": "code",
            "source": [
                "import os\r\n",
                "\r\n",
                "def find_longest_word(filename):\r\n",
                "    longest_word = ''\r\n",
                "    for one_line in open(filename):\r\n",
                "        for one_word in one_line.split():\r\n",
                "            if len(one_word) > len(longest_word):\r\n",
                "                longest_word = one_word\r\n",
                "    return longest_word\r\n",
                "\r\n",
                "def find_all_longest_words(dirname):\r\n",
                "    return {filename:\r\n",
                "        find_longest_word(os.path.join(dirname, filename))\r\n",
                "        for filename in os.listdir(dirname)\r\n",
                "        if os.path.isfile(os.path.join(dirname, filename))}\r\n",
                "print(find_all_longest_words('.'))"
            ],
            "metadata": {
                "azdata_cell_guid": "d4c8ebef-f520-4a68-91a2-0d38d5b4ac1e",
                "language": "sql"
            },
            "outputs": [],
            "execution_count": null
        },
        {
            "cell_type": "markdown",
            "source": [
                "### **JSON**"
            ],
            "metadata": {
                "azdata_cell_guid": "feedc051-f21e-4805-bd3a-ff5b8df44e2f"
            },
            "attachments": {}
        },
        {
            "cell_type": "code",
            "source": [
                "# dump\r\n",
                "import json\r\n",
                "\r\n",
                "numbers = [2, 3, 5, 7, 11, 13]\r\n",
                "filename = 'numbers.json'\r\n",
                "with open(filename, 'w') as f:\r\n",
                "    json.dump(numbers, f)\r\n",
                "\r\n",
                "# load\r\n",
                "import json\r\n",
                "\r\n",
                "filename = 'numbers2.json'\r\n",
                "with open(filename) as f:\r\n",
                "    numbers = json.load(f)\r\n",
                "\r\n",
                "print(numbers)"
            ],
            "metadata": {
                "azdata_cell_guid": "f11fd8d1-ca7a-48e5-9f95-4d1dd40596e8",
                "language": "sql"
            },
            "outputs": [],
            "execution_count": 3
        }
    ]
}