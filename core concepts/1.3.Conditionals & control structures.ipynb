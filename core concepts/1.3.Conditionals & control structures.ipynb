{
    "metadata": {
        "kernelspec": {
            "name": "SQL",
            "display_name": "SQL",
            "language": "sql"
        },
        "language_info": {
            "name": "sql",
            "version": ""
        }
    },
    "nbformat_minor": 2,
    "nbformat": 4,
    "cells": [
        {
            "cell_type": "markdown",
            "source": [
                "## **Boolean expressions**\n",
                "\n",
                "A boolean expression is an expression that is either true or false"
            ],
            "metadata": {
                "azdata_cell_guid": "45d4602b-735d-49e7-bfcf-c75d4bfbbe24"
            },
            "attachments": {}
        },
        {
            "cell_type": "code",
            "source": [
                "5 == 5"
            ],
            "metadata": {
                "azdata_cell_guid": "12040b0b-8b4b-4bd9-b9d5-5f141c4997a5",
                "language": "sql"
            },
            "outputs": [
                {
                    "output_type": "execute_result",
                    "execution_count": 3,
                    "data": {
                        "text/plain": "True"
                    },
                    "metadata": {}
                }
            ],
            "execution_count": 3
        },
        {
            "cell_type": "code",
            "source": [
                "5 == 6"
            ],
            "metadata": {
                "azdata_cell_guid": "0b3942d6-59fc-41a3-84a6-01090c881fba",
                "language": "sql"
            },
            "outputs": [
                {
                    "output_type": "execute_result",
                    "execution_count": 4,
                    "data": {
                        "text/plain": "False"
                    },
                    "metadata": {}
                }
            ],
            "execution_count": 4
        },
        {
            "cell_type": "code",
            "source": [
                "# True and False are special values that belong to the class bool; they are not strings:\r\n",
                "type(True)\r\n",
                "type(False)"
            ],
            "metadata": {
                "azdata_cell_guid": "c88e47bb-81ab-42df-a2c7-64833f214440",
                "language": "sql"
            },
            "outputs": [
                {
                    "output_type": "execute_result",
                    "execution_count": 7,
                    "data": {
                        "text/plain": "bool"
                    },
                    "metadata": {}
                }
            ],
            "execution_count": 7
        },
        {
            "cell_type": "markdown",
            "source": [
                "## **Comparison operators**"
            ],
            "metadata": {
                "language": "python",
                "azdata_cell_guid": "6a553983-9c44-4415-8ec1-b052db2aaefa"
            },
            "attachments": {}
        },
        {
            "cell_type": "code",
            "source": [
                "# The == operator is one of the comparison operators; the others are:\r\n",
                "\r\n",
                "# x != y ( x is not equal to y)\r\n",
                "\r\n",
                "# x > y (x is greater than y)\r\n",
                "\r\n",
                "# x < y  (x is less than y)\r\n",
                "\r\n",
                "# x >= y (x is greater than or equal to y)\r\n",
                "\r\n",
                "# x <= y (x is less than or equal to )\r\n",
                "\r\n",
                "# x is y (x is the same as y\r\n",
                "\r\n",
                "# x is not y (x is not the same as y)\r\n",
                ""
            ],
            "metadata": {
                "language": "sql",
                "azdata_cell_guid": "6bdb1cab-d4ae-4b5b-ba91-23b32cb7740b"
            },
            "outputs": [],
            "execution_count": 10
        },
        {
            "cell_type": "markdown",
            "source": [
                "## **Logical operators**\n",
                "\n",
                "There are three logical operators: <span style=\"color: #676867;\">and</span>, <span style=\"color: #676867;\">or</span>, <span style=\"color: #676867;\">and</span> <span style=\"color: #676867;\">not</span>."
            ],
            "metadata": {
                "azdata_cell_guid": "d9d9d33a-9882-4ab5-a20c-827474ca1c88"
            },
            "attachments": {}
        },
        {
            "cell_type": "code",
            "source": [
                "x = 7\r\n",
                "x > 0 and x < 10 \r\n",
                "# (is true only if x is greater than 0 and less than 10)"
            ],
            "metadata": {
                "language": "sql",
                "azdata_cell_guid": "fd7b0f56-1f8c-487d-bf1c-4165336aa11e"
            },
            "outputs": [
                {
                    "output_type": "execute_result",
                    "execution_count": 11,
                    "data": {
                        "text/plain": "True"
                    },
                    "metadata": {}
                }
            ],
            "execution_count": 11
        },
        {
            "cell_type": "code",
            "source": [
                "n = 4\r\n",
                "n%2 == 0 or n%3 == 0 \r\n",
                "# is true if either of the conditions is true, that is, if the number is divisible by 2 or 3."
            ],
            "metadata": {
                "azdata_cell_guid": "09632dce-c20f-4cfd-9d4d-bfc1acb43e97",
                "language": "sql"
            },
            "outputs": [
                {
                    "output_type": "execute_result",
                    "execution_count": 14,
                    "data": {
                        "text/plain": "True"
                    },
                    "metadata": {}
                }
            ],
            "execution_count": 14
        },
        {
            "cell_type": "code",
            "source": [
                "# The not operator negates a boolean expression:\r\n",
                "x = 5\r\n",
                "y = 6\r\n",
                "not (x > y) \r\n",
                "# is true if x > y is false; that is, if x is less than or equal to y."
            ],
            "metadata": {
                "language": "sql",
                "azdata_cell_guid": "a03f8f51-6b76-4c0a-a48e-bea73a11be3f"
            },
            "outputs": [
                {
                    "output_type": "execute_result",
                    "execution_count": 16,
                    "data": {
                        "text/plain": "True"
                    },
                    "metadata": {}
                }
            ],
            "execution_count": 16
        },
        {
            "cell_type": "markdown",
            "source": [
                "## **Conditional statements**"
            ],
            "metadata": {
                "azdata_cell_guid": "e343e0c2-ec3a-4233-b555-408eba0912b8"
            },
            "attachments": {}
        },
        {
            "cell_type": "markdown",
            "source": [
                "### **if statements**\n",
                "\n",
                "The boolean expression after the if statement is called the condition\n",
                "\n",
                "We end the if statement with a colon character (:) and the line(s) after the if statement are indented"
            ],
            "metadata": {
                "azdata_cell_guid": "12ac3c64-9adc-4bb9-8f47-d14d34892f7c"
            },
            "attachments": {}
        },
        {
            "cell_type": "code",
            "source": [
                "if x > 0 :\r\n",
                "    print('x is positive')"
            ],
            "metadata": {
                "azdata_cell_guid": "e132969a-6409-4d41-8604-19874a303b79",
                "language": "sql"
            },
            "outputs": [
                {
                    "output_type": "stream",
                    "name": "stdout",
                    "text": "x is positive\n"
                }
            ],
            "execution_count": 17
        },
        {
            "cell_type": "code",
            "source": [
                "# Occasionally, it is useful to have a body with nostatements (usually as a place holder for code you haven’t written yet). \r\n",
                "# In thatcase, you can use the pass statement, which does nothing.\r\n",
                "if x < 0 :\r\n",
                "    pass"
            ],
            "metadata": {
                "language": "sql",
                "azdata_cell_guid": "d35c6473-e308-41c2-959c-beb9465d6500"
            },
            "outputs": [],
            "execution_count": 20
        },
        {
            "cell_type": "markdown",
            "source": [
                "### **if.. else statements**\n",
                "\n",
                "There are two possibilities the condition allows"
            ],
            "metadata": {
                "language": "python",
                "azdata_cell_guid": "0c134fbd-dcc4-4d4a-848d-abc40499fc7e"
            },
            "attachments": {}
        },
        {
            "cell_type": "code",
            "source": [
                "if x%2 == 0 :\r\n",
                "    print('x is even')\r\n",
                "else :\r\n",
                "    print('x is odd')"
            ],
            "metadata": {
                "azdata_cell_guid": "2ec53f44-1a94-44b0-a3ae-91de0eddc1e7",
                "language": "sql"
            },
            "outputs": [
                {
                    "output_type": "stream",
                    "name": "stdout",
                    "text": "x is odd\n"
                }
            ],
            "execution_count": 21
        },
        {
            "cell_type": "markdown",
            "source": [
                "### **Chained conditionals**\n",
                "\n",
                "we need more than two branches"
            ],
            "metadata": {
                "language": "python",
                "azdata_cell_guid": "ee9c46b8-4368-4d6c-9fc3-c6ccbea18f0c"
            },
            "attachments": {}
        },
        {
            "cell_type": "code",
            "source": [
                "if x < y:\r\n",
                "    print('x is less than y')\r\n",
                "elif x > y:\r\n",
                "    print('x is greater than y')\r\n",
                "else:\r\n",
                "    print('x and y are equal')"
            ],
            "metadata": {
                "language": "sql",
                "azdata_cell_guid": "601e99a4-11c4-4bec-87a7-1e7e3ff631af"
            },
            "outputs": [
                {
                    "output_type": "stream",
                    "name": "stdout",
                    "text": "x is less than y\n"
                }
            ],
            "execution_count": 22
        },
        {
            "cell_type": "code",
            "source": [
                "# There is no limit on the number of elif statements. \r\n",
                "# If there is an else clause, it has to be at the end, but there doesn’t have to be one\r\n",
                "choice = 'c'\r\n",
                "\r\n",
                "if choice == 'a':\r\n",
                "    print('Bad guess')\r\n",
                "elif choice == 'b':\r\n",
                "    print('Good guess')\r\n",
                "elif choice == 'c':\r\n",
                "    print('Close, but not correct')"
            ],
            "metadata": {
                "language": "sql",
                "azdata_cell_guid": "45b79039-7723-453d-be2b-39b2211b450d"
            },
            "outputs": [
                {
                    "output_type": "stream",
                    "name": "stdout",
                    "text": "Close, but not correct\n"
                }
            ],
            "execution_count": 25
        },
        {
            "cell_type": "markdown",
            "source": [
                "### **Nested conditionals**"
            ],
            "metadata": {
                "azdata_cell_guid": "800cf10e-8724-4d04-ac90-08e8b5eb9932"
            },
            "attachments": {}
        },
        {
            "cell_type": "code",
            "source": [
                "if x == y:\r\n",
                "    print('x and y are equal')\r\n",
                "else:\r\n",
                "    if x < y:\r\n",
                "        print('x is less than y')\r\n",
                "    else:\r\n",
                "        print('x is greater than y')\r\n",
                "\r\n",
                "# Although the indentation of the statements makes the structure apparent, nested conditionals become difficult to read very quickly.\r\n",
                "# In general, it is a good idea to avoid them when you can"
            ],
            "metadata": {
                "azdata_cell_guid": "205f092c-57ff-427c-b02d-ffae3c387e07",
                "language": "sql"
            },
            "outputs": [
                {
                    "output_type": "stream",
                    "name": "stdout",
                    "text": "x is less than y\n"
                }
            ],
            "execution_count": 27
        },
        {
            "cell_type": "markdown",
            "source": [
                "### **try-except**\n",
                "\n",
                "Handling an exception with a try statement is called catching an exception"
            ],
            "metadata": {
                "azdata_cell_guid": "c87e4de5-d858-41a9-b520-31266e38e300"
            },
            "attachments": {}
        },
        {
            "cell_type": "code",
            "source": [
                "inp = input('Enter Fahrenheit Temperature:')\r\n",
                "try:\r\n",
                "    fahr = float(inp)\r\n",
                "    cel = (fahr - 32.0) * 5.0 / 9.0\r\n",
                "    print(cel)\r\n",
                "except:\r\n",
                "    print('Please enter a number')\r\n",
                "\r\n",
                "# Python starts by executing the sequence of statements in the try block. \r\n",
                "# If all goes well, it skips the except block and proceeds. \r\n",
                "# If an exception occurs in the try block, Python jumps out of the try block and executes the sequence of statements in the except block."
            ],
            "metadata": {
                "azdata_cell_guid": "de1fa0b0-0782-4f1f-a6c7-db08643f061e",
                "language": "sql"
            },
            "outputs": [
                {
                    "output_type": "stream",
                    "name": "stdout",
                    "text": "Please enter a number\n"
                }
            ],
            "execution_count": 30
        },
        {
            "cell_type": "markdown",
            "source": [
                "## **Iteration**"
            ],
            "metadata": {
                "language": "python",
                "azdata_cell_guid": "1fe72022-a3ca-4413-b417-6d22bd27711d"
            },
            "attachments": {}
        },
        {
            "cell_type": "markdown",
            "source": [
                "### **while statement**"
            ],
            "metadata": {
                "language": "python",
                "azdata_cell_guid": "d81399b5-e5c6-44b5-b343-9a7c006e6a98"
            },
            "attachments": {}
        },
        {
            "cell_type": "code",
            "source": [
                "n = 5\r\n",
                "while n > 0:\r\n",
                "    print(n)\r\n",
                "    n = n - 1\r\n",
                "print('Blastoff!')\r\n",
                "# This type of flow is called a loop because the third step loops back around to the top\r\n",
                "# The body of the loop should change the value of one or more variables so that \r\n",
                "# eventually the condition becomes false and the loop terminates"
            ],
            "metadata": {
                "language": "sql",
                "azdata_cell_guid": "ac4091bb-38ce-4648-9c1e-9d1678da1877"
            },
            "outputs": [
                {
                    "output_type": "stream",
                    "name": "stdout",
                    "text": "5\n4\n3\n2\n1\nBlastoff!\n"
                }
            ],
            "execution_count": 32
        },
        {
            "cell_type": "markdown",
            "source": [
                "### **“Infinite loops” and break**\n",
                "\n",
                "A loop in which the terminating condition is never satisfied or for which there is no terminating condition is called an infinite loop"
            ],
            "metadata": {
                "azdata_cell_guid": "167efd5d-9690-4598-991a-b4a62518e5e7"
            },
            "attachments": {}
        },
        {
            "cell_type": "code",
            "source": [
                "n = 10\r\n",
                "while True:\r\n",
                "    print(n, end=' ')\r\n",
                "    n = n - 1\r\n",
                "print('Done!')\r\n",
                "\r\n",
                "# This program will run forever or until your battery runs out because \r\n",
                "# the logical expression at the top of the loop is always true by virtue of the fact that the expression is the constant value True"
            ],
            "metadata": {
                "azdata_cell_guid": "05700ed9-79aa-4f36-a221-099e925eed66",
                "language": "sql"
            },
            "outputs": [],
            "execution_count": null
        },
        {
            "cell_type": "code",
            "source": [
                "# Suppose you want to take input from the user until they type done\r\n",
                "\r\n",
                "while True:\r\n",
                "    line = input('> ')\r\n",
                "    if line == 'done':\r\n",
                "        break\r\n",
                "    print(line)\r\n",
                "print('Done!')\r\n",
                "\r\n",
                "# This way of writing while loops is common because you can check the condition anywhere in the loop (not just at the top) and \r\n",
                "# you can express the stop condition affirmatively (“stop when this happens”) rather than negatively (“keep going until that happens.”)"
            ],
            "metadata": {
                "azdata_cell_guid": "7a4dbd78-5590-4e31-a857-886656dd6df1",
                "language": "sql"
            },
            "outputs": [
                {
                    "output_type": "stream",
                    "name": "stdout",
                    "text": "s\n"
                },
                {
                    "output_type": "stream",
                    "name": "stdout",
                    "text": "dfgd\n"
                },
                {
                    "output_type": "stream",
                    "name": "stdout",
                    "text": "Done!\n"
                }
            ],
            "execution_count": 33
        },
        {
            "cell_type": "code",
            "source": [
                "#  use the continue statement to skip to the next iteration without finishing the body of the loop for the current iteration.\r\n",
                "while True:\r\n",
                "    line = input('> ')\r\n",
                "    if line[0] == '#':\r\n",
                "        continue\r\n",
                "    if line == 'done':\r\n",
                "        break\r\n",
                "    print(line)\r\n",
                "print('Done!')\r\n",
                "\r\n",
                "# All the lines are printed except the one that starts with the hash sign because when the continue is executed, \r\n",
                "# it ends the current iteration and jumps back to the while statement to start the next iteration, thus skipping the print statement"
            ],
            "metadata": {
                "azdata_cell_guid": "14eb639a-ae46-4bb4-aca9-b1cef2a091f6",
                "language": "sql"
            },
            "outputs": [
                {
                    "output_type": "stream",
                    "name": "stdout",
                    "text": "sdf\n"
                },
                {
                    "output_type": "stream",
                    "name": "stdout",
                    "text": "sd\n"
                },
                {
                    "output_type": "stream",
                    "name": "stdout",
                    "text": "sdf\n"
                },
                {
                    "output_type": "stream",
                    "name": "stdout",
                    "text": "Done!\n"
                }
            ],
            "execution_count": 35
        },
        {
            "cell_type": "markdown",
            "source": [
                "### **for loops**\n",
                "\n",
                " the for loop is looping through a known set of items so it runs through as many iterations as there are items in the set."
            ],
            "metadata": {
                "azdata_cell_guid": "f3720615-6eaa-4cec-9831-8acf364a858b"
            },
            "attachments": {}
        },
        {
            "cell_type": "code",
            "source": [
                "friends = ['Joseph', 'Glenn', 'Sally']\r\n",
                "for friend in friends:\r\n",
                "    print('Happy New Year:', friend)\r\n",
                "print('Done!')"
            ],
            "metadata": {
                "azdata_cell_guid": "cf39b0ca-7709-4959-b232-88a0c8b987bf",
                "language": "sql"
            },
            "outputs": [
                {
                    "output_type": "stream",
                    "name": "stdout",
                    "text": "Happy New Year: Joseph\nHappy New Year: Glenn\nHappy New Year: Sally\nDone!\n"
                }
            ],
            "execution_count": 36
        },
        {
            "cell_type": "code",
            "source": [
                "for friend in friends:\r\n",
                "    print('Happy New Year:', friend)"
            ],
            "metadata": {
                "azdata_cell_guid": "61cecd7c-1147-4d04-8c83-0359239354f0",
                "language": "sql"
            },
            "outputs": [
                {
                    "output_type": "stream",
                    "name": "stdout",
                    "text": "Happy New Year: Joseph\nHappy New Year: Glenn\nHappy New Year: Sally\n"
                }
            ],
            "execution_count": 37
        },
        {
            "cell_type": "markdown",
            "source": [
                "### **Counting and summing loops**"
            ],
            "metadata": {
                "azdata_cell_guid": "01be4d5c-c35f-45bd-be01-98150a576838"
            },
            "attachments": {}
        },
        {
            "cell_type": "code",
            "source": [
                "count = 0\r\n",
                "for itervar in [3, 41, 12, 9, 74, 15]:\r\n",
                "    count = count + 1\r\n",
                "print('Count: ', count)"
            ],
            "metadata": {
                "azdata_cell_guid": "a0fb74e7-8a87-4084-abf3-e83feeddd007",
                "language": "sql"
            },
            "outputs": [
                {
                    "output_type": "stream",
                    "name": "stdout",
                    "text": "Count:  6\n"
                }
            ],
            "execution_count": 38
        },
        {
            "cell_type": "code",
            "source": [
                "total = 0\r\n",
                "for itervar in [3, 41, 12, 9, 74, 15]:\r\n",
                "    total = total + itervar\r\n",
                "print('Total: ', total)\r\n",
                "\r\n",
                "# As the loop executes, total accumulates the sum of the elements; a variable used this way is sometimes called an accumulator.\r\n",
                "# Neither the counting loop nor the summing loop are particularly useful in practice because\r\n",
                "# there are built-in functions len() and sum() that compute the number of items in a list and the total of the items in the list respectively"
            ],
            "metadata": {
                "azdata_cell_guid": "6074eec8-c0ef-435a-8495-b10b033e7d73",
                "language": "sql"
            },
            "outputs": [
                {
                    "output_type": "stream",
                    "name": "stdout",
                    "text": "Total:  154\n"
                }
            ],
            "execution_count": 39
        }
    ]
}