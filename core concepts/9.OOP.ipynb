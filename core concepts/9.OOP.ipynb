{
    "metadata": {
        "kernelspec": {
            "name": "python3",
            "display_name": "Python 3",
            "language": "python"
        },
        "language_info": {
            "name": "python",
            "version": "3.11.5",
            "mimetype": "text/x-python",
            "codemirror_mode": {
                "name": "ipython",
                "version": 3
            },
            "pygments_lexer": "ipython3",
            "nbconvert_exporter": "python",
            "file_extension": ".py"
        }
    },
    "nbformat_minor": 2,
    "nbformat": 4,
    "cells": [
        {
            "cell_type": "markdown",
            "source": [
                "# **Object-Oriented Programming**"
            ],
            "metadata": {
                "language": "python",
                "azdata_cell_guid": "7d89299a-6918-4d28-84ba-fc16f33ff571"
            },
            "attachments": {}
        },
        {
            "cell_type": "markdown",
            "source": [
                "- In object-oriented programming you write <u>**classes**</u> that represent real-world things and situations, and you create <u>**objects**</u> based on these classes\n",
                "- When you write a class, you define the general behavior that a whole category of objects can haveMaking an object from a class is called <u>**instantiation**</u> and you work with instances of a class."
            ],
            "metadata": {
                "language": "python",
                "azdata_cell_guid": "2fc64c20-4479-4515-9248-3a3ca17dd33f"
            },
            "attachments": {}
        },
        {
            "cell_type": "code",
            "source": [
                "class Dog:\r\n",
                "    \"\"\"A simple attempt to model a dog.\"\"\"\r\n",
                "\r\n",
                "    def __init__(self, name, age):\r\n",
                "        \"\"\"Initialize name and age attributes.\"\"\"\r\n",
                "        self.name = name\r\n",
                "        self.age = age\r\n",
                "\r\n",
                "    def sit(self):\r\n",
                "        \"\"\"Simulate a dog sitting in response to a command.\"\"\"\r\n",
                "        print(f\"{self.name} is now sitting.\")\r\n",
                "\r\n",
                "    def roll_over(self):\r\n",
                "        \"\"\"Simulate rolling over in response to a command.\"\"\"\r\n",
                "        print(f\"{self.name} rolled over!\")"
            ],
            "metadata": {
                "azdata_cell_guid": "e7529f5a-a985-4f49-9da8-ae3361ed3ff3",
                "language": "python"
            },
            "outputs": [],
            "execution_count": 5
        },
        {
            "cell_type": "markdown",
            "source": [
                "### <span style=\"color: var(--vscode-foreground);\"><b>The __init__() Method</b></span>"
            ],
            "metadata": {
                "azdata_cell_guid": "53a82e16-13ba-43a7-944c-9a9805b3acc7"
            },
            "attachments": {}
        },
        {
            "cell_type": "markdown",
            "source": [
                "- The **\\_\\_init\\_\\_()** method at  is a special <span style=\"color: var(--vscode-foreground);\">&nbsp;method that Python runs automatically whenever we create a new instance.&nbsp;</span> \n",
                "- This method has two leading underscores and two trailing underscores, a convention that helps prevent Python’s default method names from conflicting with your method names.\n",
                "- Every method call associated with an instance automatically passes self, which is a reference to the instance itself; it gives the individual instance access to the attributes and methods in the class. \n",
                "- When an instance is created, attributes can be defined without being passed in as parameters. These attributes can be defined in the \\_\\_init\\_\\_() method, where they are assigned a default value."
            ],
            "metadata": {
                "azdata_cell_guid": "ae17daa9-db84-47e9-970b-6fe893bb52f6"
            },
            "attachments": {}
        },
        {
            "cell_type": "markdown",
            "source": [
                "### **Making an Instance from a Class**"
            ],
            "metadata": {
                "azdata_cell_guid": "e4a10459-6187-4b1e-ba26-7a34a44b7963"
            },
            "attachments": {}
        },
        {
            "cell_type": "code",
            "source": [
                "# The class Dog is a set of instructions that tells Python how to make individual instances representing specific dogs\r\n",
                "my_dog = Dog('Willie', 6)\r\n",
                "print(f\"My dog's name is {my_dog.name}.\")"
            ],
            "metadata": {
                "azdata_cell_guid": "34d45578-0a11-4cfb-b1f2-595f26218316",
                "language": "python"
            },
            "outputs": [
                {
                    "name": "stdout",
                    "text": "My dog's name is Willie.\n",
                    "output_type": "stream"
                }
            ],
            "execution_count": 7
        },
        {
            "cell_type": "markdown",
            "source": [
                "### **Accessing Attributes**"
            ],
            "metadata": {
                "azdata_cell_guid": "9dd3823c-8730-44a7-a8b6-6782d9a7fd26"
            },
            "attachments": {}
        },
        {
            "cell_type": "code",
            "source": [
                "my_dog.name\r\n",
                "# This is the same attribute referred to as self.name in the class Dog."
            ],
            "metadata": {
                "azdata_cell_guid": "322f42a0-7371-4fba-bf58-53076b563ea4",
                "language": "python"
            },
            "outputs": [
                {
                    "data": {
                        "text/plain": "'Willie'"
                    },
                    "metadata": {},
                    "execution_count": 8,
                    "output_type": "execute_result"
                }
            ],
            "execution_count": 8
        },
        {
            "cell_type": "markdown",
            "source": [
                "### **Calling Methods**"
            ],
            "metadata": {
                "azdata_cell_guid": "5300f694-1339-45f9-858a-5e51c7b90609"
            },
            "attachments": {}
        },
        {
            "cell_type": "code",
            "source": [
                "# After we create an instance from the class Dog, we can use dot notation to call any method defined in Dog\r\n",
                "my_dog.sit()\r\n",
                "my_dog.roll_over()"
            ],
            "metadata": {
                "azdata_cell_guid": "32b1f298-c873-471b-bcf0-0760ae80f358",
                "language": "python"
            },
            "outputs": [
                {
                    "name": "stdout",
                    "text": "Willie is now sitting.\nWillie rolled over!\n",
                    "output_type": "stream"
                }
            ],
            "execution_count": 9
        },
        {
            "cell_type": "markdown",
            "source": [
                "### **Setting a Default Value for an Attribute** \n",
                "\n",
                "\\- When an instance is created, attributes can be defined without being passed in as parameters. These attributes can be defined in the \\_\\_init\\_\\_() method, where they are assigned a default value."
            ],
            "metadata": {
                "azdata_cell_guid": "6079658f-ed6f-40c6-beb4-ddd0f4bd1cef"
            },
            "attachments": {}
        },
        {
            "cell_type": "code",
            "source": [
                "class Car:\r\n",
                "\r\n",
                "    def __init__(self, make, model, year):\r\n",
                "        \"\"\"Initialize attributes to describe a car.\"\"\"\r\n",
                "        self.make = make\r\n",
                "        self.model = model\r\n",
                "        self.year = year\r\n",
                "        self.odometer_reading = 0\r\n",
                "\r\n",
                "    def get_descriptive_name(self):\r\n",
                "        \"\"\"Return a neatly formatted descriptive name.\"\"\"\r\n",
                "        long_name = f\"{self.year} {self.make} {self.model}\"\r\n",
                "        return long_name.title()\r\n",
                "    \r\n",
                "    def update_odometer(self, mileage):\r\n",
                "        \"\"\"\r\n",
                "        Set the odometer reading to the given value.\r\n",
                "        Reject the change if it attempts to roll the odometer back.\r\n",
                "        \"\"\"\r\n",
                "\r\n",
                "        if mileage >= self.odometer_reading:\r\n",
                "            self.odometer_reading = mileage\r\n",
                "        else:\r\n",
                "            print(\"You can't roll back an odometer!\")\r\n",
                "\r\n",
                "    def read_odometer(self):\r\n",
                "        \"\"\"Print a statement showing the car's mileage.\"\"\"\r\n",
                "        print(f\"This car has {self.odometer_reading} miles on it.\")"
            ],
            "metadata": {
                "azdata_cell_guid": "ad9dcd80-da1e-4031-8aac-9341915f70a3",
                "language": "python"
            },
            "outputs": [],
            "execution_count": 24
        },
        {
            "cell_type": "code",
            "source": [
                "my_new_car = Car('audi', 'a4', 2019)\r\n",
                "my_new_car.read_odometer()"
            ],
            "metadata": {
                "azdata_cell_guid": "6accffa0-8ba0-4ec3-b7d1-be163016a36c",
                "language": "python"
            },
            "outputs": [
                {
                    "name": "stdout",
                    "text": "This car has 0 miles on it.\n",
                    "output_type": "stream"
                }
            ],
            "execution_count": 25
        },
        {
            "cell_type": "markdown",
            "source": [
                "### **Modifying Attribute Values**"
            ],
            "metadata": {
                "azdata_cell_guid": "8f7fb292-b3a3-43f6-bd00-97870bc0c04b"
            },
            "attachments": {}
        },
        {
            "cell_type": "code",
            "source": [
                "# Directly\r\n",
                "my_new_car.odometer_reading = 23\r\n",
                "my_new_car.read_odometer()"
            ],
            "metadata": {
                "azdata_cell_guid": "e3d1088c-4e26-43ac-9398-3572bb874dd9",
                "language": "python"
            },
            "outputs": [
                {
                    "name": "stdout",
                    "text": "This car has 23 miles on it.\n",
                    "output_type": "stream"
                }
            ],
            "execution_count": 16
        },
        {
            "cell_type": "code",
            "source": [
                "# Through a Method\r\n",
                "# def update_odometer(self, mileage):\r\n",
                "#     \"\"\"Set the odometer reading to the given value.\"\"\"\r\n",
                "#     self.odometer_reading = mileage\r\n",
                "\r\n",
                "my_new_car.update_odometer(23)\r\n",
                "my_new_car.read_odometer()"
            ],
            "metadata": {
                "azdata_cell_guid": "fbecf4e9-619b-4b3a-b342-750e05ed0fca",
                "language": "python"
            },
            "outputs": [
                {
                    "name": "stdout",
                    "text": "You can't roll back an odometer!\nThis car has 25 miles on it.\n",
                    "output_type": "stream"
                }
            ],
            "execution_count": 31
        },
        {
            "cell_type": "markdown",
            "source": [
                "## **Inheritance**"
            ],
            "metadata": {
                "azdata_cell_guid": "9583dc41-3d55-4106-af79-3adc14273cf1"
            },
            "attachments": {}
        },
        {
            "cell_type": "markdown",
            "source": [
                "- If the class you’re writing is a specialized version of another class you wrote, you can use inheritance. When one class inherits from another, it takes on the attributes and methods of the first class. The original class is called the **<u>parent class,</u>** and the new class is the <u>**child class.**</u> The child class can inherit any or all of the attributes and methods of its parent class, but it’s also free to define new attributes and methods of its own.\n",
                "- When you’re writing a new class based on an existing class, you’ll often want to call the \\_\\_init\\_\\_() method from the parent class. This will initialize any attributes that were defined in the parent \\_\\_init\\_\\_() method and make them available in the child class\n",
                "- The name **<u>super</u>** comes from a convention of calling the parent class a <u>**superclass**</u> and the child class a **<u>subclass</u>**."
            ],
            "metadata": {
                "azdata_cell_guid": "6d1e4cd2-ca12-4d4a-83e7-1db8b8a26ff6"
            },
            "attachments": {}
        },
        {
            "cell_type": "code",
            "source": [
                "class Car:\r\n",
                "\r\n",
                "    def __init__(self, make, model, year):\r\n",
                "        \"\"\"Initialize attributes to describe a car.\"\"\"\r\n",
                "        self.make = make\r\n",
                "        self.model = model\r\n",
                "        self.year = year\r\n",
                "        self.odometer_reading = 0\r\n",
                "\r\n",
                "    def get_descriptive_name(self):\r\n",
                "        \"\"\"Return a neatly formatted descriptive name.\"\"\"\r\n",
                "        long_name = f\"{self.year} {self.make} {self.model}\"\r\n",
                "        return long_name.title()\r\n",
                "    \r\n",
                "    def update_odometer(self, mileage):\r\n",
                "        \"\"\"\r\n",
                "        Set the odometer reading to the given value.\r\n",
                "        Reject the change if it attempts to roll the odometer back.\r\n",
                "        \"\"\"\r\n",
                "\r\n",
                "        if mileage >= self.odometer_reading:\r\n",
                "            self.odometer_reading = mileage\r\n",
                "        else:\r\n",
                "            print(\"You can't roll back an odometer!\")\r\n",
                "\r\n",
                "    def read_odometer(self):\r\n",
                "        \"\"\"Print a statement showing the car's mileage.\"\"\"\r\n",
                "        print(f\"This car has {self.odometer_reading} miles on it.\")\r\n",
                "\r\n",
                "class ElectricCar(Car):\r\n",
                "    \"\"\"Represent aspects of a car, specific to electric vehicles.\"\"\"\r\n",
                "\r\n",
                "    def __init__(self, make, model, year):\r\n",
                "        \"\"\"\r\n",
                "        Initialize attributes of the parent class.\r\n",
                "        Then initialize attributes specific to an electric car.\r\n",
                "        \"\"\"\r\n",
                "        super().__init__(make, model, year)\r\n",
                "        self.battery_size = 75\r\n",
                "\r\n",
                "    def describe_battery(self):\r\n",
                "        \"\"\"Print a statement describing the battery size.\"\"\"\r\n",
                "        print(f\"This car has a {self.battery_size}-kWh battery.\")\r\n",
                ""
            ],
            "metadata": {
                "azdata_cell_guid": "b05ed541-adc6-4410-8fad-5606fb13bc9a",
                "language": "python"
            },
            "outputs": [],
            "execution_count": 36
        },
        {
            "cell_type": "code",
            "source": [
                "my_tesla = ElectricCar('tesla', 'model s', 2019)\r\n",
                "print(my_tesla.get_descriptive_name())\r\n",
                "my_tesla.describe_battery()"
            ],
            "metadata": {
                "azdata_cell_guid": "25e22341-b1f5-4047-a3f9-a28bd9ddd099",
                "language": "python"
            },
            "outputs": [
                {
                    "name": "stdout",
                    "text": "2019 Tesla Model S\nThis car has a 75-kWh battery.\n",
                    "output_type": "stream"
                }
            ],
            "execution_count": 37
        },
        {
            "cell_type": "markdown",
            "source": [
                "### <span style=\"font-size: 14px; color: var(--vscode-foreground);\"><b>Overriding Methods from the Parent Class</b></span>\n",
                "\n",
                "\\- You can override any method from the parent class that doesn’t fit what you’re trying to model with the child class.   \n",
                "\\- Say the class Car had a method called fill\\_gas\\_tank(). This method is meaningless for an all-electric vehicle, so you might want to override this method"
            ],
            "metadata": {
                "azdata_cell_guid": "cf56364b-8585-492d-816f-9df1062e7ddd"
            },
            "attachments": {}
        },
        {
            "cell_type": "code",
            "source": [
                "def fill_gas_tank(self):\r\n",
                "    \"\"\"Electric cars don't have gas tanks.\"\"\"\r\n",
                "    print(\"This car doesn't need a gas tank!\")\r\n",
                "\r\n",
                "# Now if someone tries to call fill_gas_tank() with an electric car, \r\n",
                "# Python will ignore the method fill_gas_tank() in Car and run this code instead. "
            ],
            "metadata": {
                "azdata_cell_guid": "845cf5cf-63af-462c-a7b4-e1bf97c1cd29",
                "language": "python"
            },
            "outputs": [],
            "execution_count": null
        },
        {
            "cell_type": "markdown",
            "source": [
                "### <span style=\"color: var(--vscode-foreground);\"><b>Instances as Attributes</b></span>\n",
                "\n",
                "- You can break your large class into smaller classes that work together. For example we can stop and move those attributes and methods to a separate class called Battery\n",
                "- Then we can use a Battery instance as an attribute in the ElectricCar class"
            ],
            "metadata": {
                "azdata_cell_guid": "3039cc10-8853-4f37-b751-53cb5aac255f"
            },
            "attachments": {}
        },
        {
            "cell_type": "code",
            "source": [
                " class Battery:\r\n",
                "    \"\"\"A simple attempt to model a battery for an electric car.\"\"\"\r\n",
                "\r\n",
                "    def __init__(self, battery_size=75):\r\n",
                "        \"\"\"Initialize the battery's attributes.\"\"\"\r\n",
                "        self.battery_size = battery_size\r\n",
                "    def describe_battery(self):\r\n",
                "        \"\"\"Print a statement describing the battery size.\"\"\"\r\n",
                "        print(f\"This car has a {self.battery_size}-kWh battery.\")\r\n",
                "\r\n",
                "\r\n",
                "    class ElectricCar(Car):\r\n",
                "        \"\"\"Represent aspects of a car, specific to electric vehicles.\"\"\"\r\n",
                "    \r\n",
                "        def __init__(self, make, model, year):\r\n",
                "            \"\"\"\r\n",
                "            Initialize attributes of the parent class.\r\n",
                "            Then initialize attributes specific to an electric car.\r\n",
                "            \"\"\"\r\n",
                "            super().__init__(make, model, year)\r\n",
                "            self.battery = Battery()"
            ],
            "metadata": {
                "azdata_cell_guid": "328519b4-8517-4272-9c54-2f3009be6f7e",
                "language": "python"
            },
            "outputs": [],
            "execution_count": null
        },
        {
            "cell_type": "markdown",
            "source": [
                "### **Importing Classes**"
            ],
            "metadata": {
                "azdata_cell_guid": "201dd0fb-d8f4-4258-b1b4-ef4b94fe2f66"
            },
            "attachments": {}
        },
        {
            "cell_type": "code",
            "source": [
                "from car import Car\r\n",
                "\r\n",
                "my_new_car = Car('audi', 'a4', 2019)\r\n",
                "print(my_new_car.get_descriptive_name())\r\n",
                "\r\n",
                "my_new_car.odometer_reading = 23\r\n",
                "my_new_car.read_odometer()"
            ],
            "metadata": {
                "azdata_cell_guid": "4922c812-88b5-4826-891a-59a52939a401",
                "language": "python"
            },
            "outputs": [],
            "execution_count": null
        },
        {
            "cell_type": "code",
            "source": [
                "from car import Car, ElectricCar\r\n",
                "\r\n",
                "my_beetle = Car('volkswagen', 'beetle', 2019)\r\n",
                "print(my_beetle.get_descriptive_name())\r\n",
                "\r\n",
                "my_tesla = ElectricCar('tesla', 'roadster', 2019)\r\n",
                "print(my_tesla.get_descriptive_name())"
            ],
            "metadata": {
                "azdata_cell_guid": "76e729a4-5b98-4afd-9a93-977c793dec13",
                "language": "python"
            },
            "outputs": [],
            "execution_count": null
        }
    ]
}