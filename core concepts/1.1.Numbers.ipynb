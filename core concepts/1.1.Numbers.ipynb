{
    "metadata": {
        "kernelspec": {
            "name": "python3",
            "display_name": "Python 3",
            "language": "python"
        },
        "language_info": {
            "name": "python",
            "version": "3.11.5",
            "mimetype": "text/x-python",
            "codemirror_mode": {
                "name": "ipython",
                "version": 3
            },
            "pygments_lexer": "ipython3",
            "nbconvert_exporter": "python",
            "file_extension": ".py"
        }
    },
    "nbformat_minor": 2,
    "nbformat": 4,
    "cells": [
        {
            "cell_type": "markdown",
            "source": [
                "# **Numbers**"
            ],
            "metadata": {
                "azdata_cell_guid": "ea952b98-2e12-4379-981e-bb1010633c5a",
                "language": ""
            },
            "attachments": {}
        },
        {
            "cell_type": "markdown",
            "source": [
                "- Python has three different numeric types: int, float, and complex\n",
                "- <span style=\"font-size: 14px;\">Integers in Python are whole numbers without any decimal point. They can be positive, negative, or zero</span>\n",
                "- <span style=\"font-size: 14px;\">Floating-point numbers are numbers with a decimal point or in exponential form. They represent real numbers and can be positive, negative, or zero&nbsp;</span> \n",
                "- Complex numbers consist of a real part and an imaginary part expressed as `x + yj`<span style=\"white-space-collapse: preserve; color: rgb(236, 236, 236); font-family: Söhne, ui-sans-serif, system-ui, -apple-system, &quot;Segoe UI&quot;, Roboto, Ubuntu, Cantarell, &quot;Noto Sans&quot;, sans-serif, &quot;Helvetica Neue&quot;, Arial, &quot;Apple Color Emoji&quot;, &quot;Segoe UI Emoji&quot;, &quot;Segoe UI Symbol&quot;, &quot;Noto Color Emoji&quot;; font-size: 16px; background-color: rgb(33, 33, 33);\">, where </span> `x` <span style=\"white-space-collapse: preserve; color: rgb(236, 236, 236); font-family: Söhne, ui-sans-serif, system-ui, -apple-system, &quot;Segoe UI&quot;, Roboto, Ubuntu, Cantarell, &quot;Noto Sans&quot;, sans-serif, &quot;Helvetica Neue&quot;, Arial, &quot;Apple Color Emoji&quot;, &quot;Segoe UI Emoji&quot;, &quot;Segoe UI Symbol&quot;, &quot;Noto Color Emoji&quot;; font-size: 16px; background-color: rgb(33, 33, 33);\"> is the real part, and </span> `y` <span style=\"white-space-collapse: preserve; color: rgb(236, 236, 236); font-family: Söhne, ui-sans-serif, system-ui, -apple-system, &quot;Segoe UI&quot;, Roboto, Ubuntu, Cantarell, &quot;Noto Sans&quot;, sans-serif, &quot;Helvetica Neue&quot;, Arial, &quot;Apple Color Emoji&quot;, &quot;Segoe UI Emoji&quot;, &quot;Segoe UI Symbol&quot;, &quot;Noto Color Emoji&quot;; font-size: 16px; background-color: rgb(33, 33, 33);\"> is the imaginary part</span>"
            ],
            "metadata": {
                "azdata_cell_guid": "5f867d24-02ed-4a66-8ebf-699cf69f72ad"
            },
            "attachments": {}
        },
        {
            "cell_type": "code",
            "source": [
                "# Integers\r\n",
                "x = 5\r\n",
                "y = -10\r\n",
                "z = 0\r\n",
                "\r\n",
                "y"
            ],
            "metadata": {
                "azdata_cell_guid": "a850d9c1-0b12-4311-b05f-6d601f580e9a",
                "language": "python"
            },
            "outputs": [
                {
                    "output_type": "execute_result",
                    "execution_count": 18,
                    "data": {
                        "text/plain": "-10"
                    },
                    "metadata": {}
                }
            ],
            "execution_count": 18
        },
        {
            "cell_type": "code",
            "source": [
                "# Floating-point examples\r\n",
                "a = 3.14\r\n",
                "b = -0.001\r\n",
                "c = 2.5e3 \r\n",
                "\r\n",
                "c"
            ],
            "metadata": {
                "azdata_cell_guid": "26948cd3-255b-4c19-985d-6c39432c7277",
                "language": "python"
            },
            "outputs": [
                {
                    "output_type": "execute_result",
                    "execution_count": 21,
                    "data": {
                        "text/plain": "2500.0"
                    },
                    "metadata": {}
                }
            ],
            "execution_count": 21
        },
        {
            "cell_type": "code",
            "source": [
                "# Complex number examples\r\n",
                "# The modulus (%) and the floor division (//) operations are not valid for complex numbers\r\n",
                "p = 2 + 3j\r\n",
                "q = -1j\r\n",
                "r = complex(4, -2)\r\n",
                "\r\n",
                "r"
            ],
            "metadata": {
                "azdata_cell_guid": "18c9d8a3-7b70-43c8-a0d1-faab6e38c6c4",
                "language": "python"
            },
            "outputs": [
                {
                    "output_type": "execute_result",
                    "execution_count": 22,
                    "data": {
                        "text/plain": "(4-2j)"
                    },
                    "metadata": {}
                }
            ],
            "execution_count": 22
        },
        {
            "cell_type": "code",
            "source": [
                "# The real and imaginary parts of a complex number can be retrieved using its real and imag attributes \r\n",
                "z = 2 + 3j\r\n",
                "z.real\r\n",
                "z.imag"
            ],
            "metadata": {
                "azdata_cell_guid": "0f91b314-ba3f-4b8f-b8bc-f24331364a02",
                "language": "python",
                "tags": []
            },
            "outputs": [
                {
                    "output_type": "execute_result",
                    "execution_count": 41,
                    "data": {
                        "text/plain": "3.0"
                    },
                    "metadata": {}
                }
            ],
            "execution_count": 41
        },
        {
            "cell_type": "code",
            "source": [
                "# The conjugate of a complex number has the same real part but an imaginary part with an equal magnitude and an opposite sign.\r\n",
                "# It can be obtained using the conjugate() method:\r\n",
                "z.conjugate()"
            ],
            "metadata": {
                "azdata_cell_guid": "d82b2203-cd12-4467-ba13-1b6936bfc913",
                "language": "python"
            },
            "outputs": [
                {
                    "output_type": "execute_result",
                    "execution_count": 42,
                    "data": {
                        "text/plain": "(2-3j)"
                    },
                    "metadata": {}
                }
            ],
            "execution_count": 42
        },
        {
            "cell_type": "code",
            "source": [
                "# A simpler way to find the magnitude of a complex number is with the abs() function\r\n",
                "abs(z)"
            ],
            "metadata": {
                "azdata_cell_guid": "5fa3ff2f-e18f-4146-95c1-e4a4d887dbfb",
                "language": "python"
            },
            "outputs": [
                {
                    "output_type": "execute_result",
                    "execution_count": 44,
                    "data": {
                        "text/plain": "3.605551275463989"
                    },
                    "metadata": {}
                }
            ],
            "execution_count": 44
        },
        {
            "cell_type": "markdown",
            "source": [
                "### **Arithmetic**"
            ],
            "metadata": {
                "azdata_cell_guid": "e1d612f3-582c-426f-a71a-a8205017b1dc",
                "language": "python"
            },
            "attachments": {}
        },
        {
            "cell_type": "code",
            "source": [
                "x = 10\r\n",
                "y = 3\r\n",
                "\r\n",
                "x + y\r\n",
                "x-y\r\n",
                "x*y\r\n",
                "x/y"
            ],
            "metadata": {
                "azdata_cell_guid": "0cf25f0e-eb18-4f3e-aa2c-5eaaf89c1b0f",
                "language": "python",
                "tags": []
            },
            "outputs": [
                {
                    "output_type": "execute_result",
                    "execution_count": 29,
                    "data": {
                        "text/plain": "1"
                    },
                    "metadata": {}
                }
            ],
            "execution_count": 29
        },
        {
            "cell_type": "code",
            "source": [
                "\r\n",
                "# Exponentiation\r\n",
                "x ** y\r\n",
                "8 ** (1/3)"
            ],
            "metadata": {
                "azdata_cell_guid": "1f26e7ac-7003-402d-a51a-3f993433884d",
                "language": "python"
            },
            "outputs": [
                {
                    "output_type": "execute_result",
                    "execution_count": 33,
                    "data": {
                        "text/plain": "2.0"
                    },
                    "metadata": {}
                }
            ],
            "execution_count": 33
        },
        {
            "cell_type": "code",
            "source": [
                "# Modulo division gives remainder\r\n",
                "x % y"
            ],
            "metadata": {
                "azdata_cell_guid": "f00356a5-be7a-44fa-8980-08780e7c1f6f",
                "language": "python"
            },
            "outputs": [
                {
                    "output_type": "execute_result",
                    "execution_count": 32,
                    "data": {
                        "text/plain": "1"
                    },
                    "metadata": {}
                }
            ],
            "execution_count": 32
        },
        {
            "cell_type": "code",
            "source": [
                "# The floor division operator divides the first number by the secondnumber \r\n",
                "# and then rounds down the result to the next lowest integer. \r\n",
                "-3 // 2"
            ],
            "metadata": {
                "azdata_cell_guid": "e169d4a8-21ae-475f-964a-8234c24984ca",
                "language": "python",
                "tags": []
            },
            "outputs": [
                {
                    "output_type": "execute_result",
                    "execution_count": 31,
                    "data": {
                        "text/plain": "-2"
                    },
                    "metadata": {}
                }
            ],
            "execution_count": 31
        },
        {
            "cell_type": "markdown",
            "source": [
                "### **Fractions**"
            ],
            "metadata": {
                "azdata_cell_guid": "fb6f0bb1-0d95-4597-b013-e20c6a568c53",
                "language": "python"
            },
            "attachments": {}
        },
        {
            "cell_type": "code",
            "source": [
                "from fractions import Fraction\r\n",
                "f = Fraction(3, 4)\r\n",
                "f\r\n",
                "f + 1 + 1.5"
            ],
            "metadata": {
                "azdata_cell_guid": "6ec13bcc-855d-45d3-98ec-364b547936ba",
                "language": "python"
            },
            "outputs": [
                {
                    "output_type": "execute_result",
                    "execution_count": 36,
                    "data": {
                        "text/plain": "3.25"
                    },
                    "metadata": {}
                }
            ],
            "execution_count": 36
        },
        {
            "cell_type": "code",
            "source": [
                "Fraction(3, 4) + 1 + Fraction(1/4)"
            ],
            "metadata": {
                "azdata_cell_guid": "528291de-6979-4b33-8542-27af33ef21b4",
                "language": "python"
            },
            "outputs": [
                {
                    "output_type": "execute_result",
                    "execution_count": 37,
                    "data": {
                        "text/plain": "Fraction(2, 1)"
                    },
                    "metadata": {}
                }
            ],
            "execution_count": 37
        },
        {
            "cell_type": "markdown",
            "source": [
                "### **Type conversion**"
            ],
            "metadata": {
                "azdata_cell_guid": "b3027811-43dd-4e23-b0c1-33b2fcc8a578",
                "language": "python"
            },
            "attachments": {}
        },
        {
            "cell_type": "code",
            "source": [
                "# Type conversion examples\r\n",
                "a = 10\r\n",
                "b = 3.5\r\n",
                "\r\n",
                "int_from_float = int(b)\r\n",
                "float_from_int = float(a)\r\n",
                "complex_from_int = complex(a)\r\n",
                "\r\n",
                "print(int_from_float)    # Output: 3\r\n",
                "print(float_from_int)    # Output: 10.0\r\n",
                "print(complex_from_int)  # Output: (10+0j)\r\n"
            ],
            "metadata": {
                "azdata_cell_guid": "f5af3908-8b99-4d6c-b9fc-00e62af3c487",
                "language": "python"
            },
            "outputs": [
                {
                    "output_type": "stream",
                    "name": "stdout",
                    "text": "3\n10.0\n(10+0j)\n"
                }
            ],
            "execution_count": 30
        },
        {
            "cell_type": "markdown",
            "source": [
                "### **Random**"
            ],
            "metadata": {
                "azdata_cell_guid": "155be9ae-850f-46b1-9ca0-84b356f5a213",
                "language": "python"
            },
            "attachments": {}
        },
        {
            "cell_type": "markdown",
            "source": [
                "- The random module doesn’t just generate random numbers. It also has functions to choose one or more elements from a Python sequence"
            ],
            "metadata": {
                "azdata_cell_guid": "585fec3c-e288-4f34-b14a-ea10ee983052",
                "language": "python"
            },
            "attachments": {}
        },
        {
            "cell_type": "code",
            "source": [
                "import random\r\n",
                "number = random.randint(1,\r\n",
                "100)\r\n",
                "number"
            ],
            "metadata": {
                "azdata_cell_guid": "86bef254-5030-4bf3-9aae-a79ab9fa9f9c",
                "language": "python",
                "tags": []
            },
            "outputs": [
                {
                    "output_type": "execute_result",
                    "execution_count": 5,
                    "data": {
                        "text/plain": "45"
                    },
                    "metadata": {}
                }
            ],
            "execution_count": 5
        },
        {
            "cell_type": "markdown",
            "source": [
                "### **Math module**"
            ],
            "metadata": {
                "language": "python",
                "azdata_cell_guid": "46171c14-42cf-4de4-909d-eba6be3b27c0"
            },
            "attachments": {}
        },
        {
            "cell_type": "code",
            "source": [
                "from math import ceil,floor\r\n",
                "\r\n",
                "# ceil rounds up to the nearest whole number(above .1 translates to the next whole no.)\r\n",
                "round_up = ceil(12.5)\r\n",
                "\r\n",
                "# floor rounds down to the nearest whole number\r\n",
                "round_down = floor(12.5)\r\n",
                "\r\n",
                "print(round_up)\r\n",
                "print(round_down)"
            ],
            "metadata": {
                "language": "python",
                "azdata_cell_guid": "5f788f35-f27f-4962-ab6a-855baee5bca6"
            },
            "outputs": [
{
    "name": "stdout",
    "text": "13\n12\n",
    "output_type": "stream"
}
],
            "execution_count": 17
        },
        {
            "cell_type": "markdown",
            "source": [
                "## **Practice projects**"
            ],
            "metadata": {
                "azdata_cell_guid": "e84405d3-1000-497f-9d8e-cb2a1f88d81f",
                "language": "python"
            },
            "attachments": {}
        },
        {
            "cell_type": "markdown",
            "source": [
                "### **Guessing game**"
            ],
            "metadata": {
                "azdata_cell_guid": "85503a11-4b4d-4fda-8775-a4002ca10d5d",
                "jp-MarkdownHeadingCollapsed": true
            },
            "attachments": {}
        },
        {
            "cell_type": "code",
            "source": [
                "def guessing_game():\r\n",
                "    answer = random.randint(0, 100)\r\n",
                "    while True:\r\n",
                "        user_guess = int(input('What is your guess? '))\r\n",
                "\r\n",
                "        if user_guess == answer:\r\n",
                "            print(f'Right! The answer is {user_guess}')\r\n",
                "            break\r\n",
                "        if user_guess < answer:\r\n",
                "            print(f'Your guess of {user_guess} is too low!')\r\n",
                "        else:\r\n",
                "            print(f'Your guess of {user_guess} is too high!')\r\n",
                "\r\n",
                "guessing_game()"
            ],
            "metadata": {
                "azdata_cell_guid": "079e7ae9-5442-4d3e-adea-e4ac78881a04",
                "language": "python"
            },
            "outputs": [
                {
                    "output_type": "stream",
                    "name": "stdout",
                    "text": "Your guess of 16 is too low!\n"
                },
                {
                    "output_type": "stream",
                    "name": "stdout",
                    "text": "Your guess of 56 is too high!\n"
                },
                {
                    "output_type": "stream",
                    "name": "stdout",
                    "text": "Your guess of 40 is too low!\n"
                },
                {
                    "output_type": "stream",
                    "name": "stdout",
                    "text": "Your guess of 45 is too high!\n"
                },
                {
                    "output_type": "stream",
                    "name": "stdout",
                    "text": "Right! The answer is 44\n"
                }
            ],
            "execution_count": 10
        },
        {
            "cell_type": "markdown",
            "source": [
                "### **Sum**"
            ],
            "metadata": {
                "azdata_cell_guid": "921f63c3-5611-464f-94b9-e692dbf709db",
                "jp-MarkdownHeadingCollapsed": true
            },
            "attachments": {}
        },
        {
            "cell_type": "code",
            "source": [
                "def mysum(*numbers):\r\n",
                "    output = 0\r\n",
                "    for number in numbers:\r\n",
                "        output += number\r\n",
                "    return output\r\n",
                "print(mysum(10, 60, 30, 40))"
            ],
            "metadata": {
                "azdata_cell_guid": "db43de7a-2f7c-4252-9c93-b69d45866b0f",
                "language": "python"
            },
            "outputs": [
                {
                    "output_type": "stream",
                    "name": "stdout",
                    "text": "140\n"
                }
            ],
            "execution_count": 13
        },
        {
            "cell_type": "markdown",
            "source": [
                "### **Factors**"
            ],
            "metadata": {
                "azdata_cell_guid": "3f2ed216-7c9a-48cc-8dc4-fd92c37dd927",
                "jp-MarkdownHeadingCollapsed": true,
                "language": "python"
            },
            "attachments": {}
        },
        {
            "cell_type": "code",
            "source": [
                "'''\r\n",
                "Find the factors of an integer\r\n",
                "'''\r\n",
                "def factors(b):\r\n",
                "    for i in range(1, b+1):\r\n",
                "        if b % i == 0:\r\n",
                "            print(i)\r\n",
                "if __name__ == '__main__':\r\n",
                "    b = input('Your Number Please: ')\r\n",
                "    b = float(b)\r\n",
                "\r\n",
                "    if b > 0 and b.is_integer():\r\n",
                "        factors(int(b))\r\n",
                "    else:\r\n",
                "        print('Please enter a positive integer')"
            ],
            "metadata": {
                "azdata_cell_guid": "992dfc39-67c0-4120-b622-bbc682b4478e",
                "language": "python"
            },
            "outputs": [
                {
                    "output_type": "stream",
                    "name": "stdout",
                    "text": "1\n2\n11\n22\n"
                }
            ],
            "execution_count": 47
        },
        {
            "cell_type": "markdown",
            "source": [
                "### **Conversion table**"
            ],
            "metadata": {
                "azdata_cell_guid": "0966d3ed-496b-4083-93d5-49d275c7247e",
                "jp-MarkdownHeadingCollapsed": true
            },
            "attachments": {}
        },
        {
            "cell_type": "code",
            "source": [
                "'''\r\n",
                "Unit converter: Miles and Kilometers\r\n",
                "'''\r\n",
                "def print_menu():\r\n",
                "    print('1. Kilometers to Miles')\r\n",
                "    print('2. Miles to Kilometers')\r\n",
                "def km_miles():\r\n",
                "    km = float(input('Enter distance in kilometers: '))\r\n",
                "    miles = km / 1.609\r\n",
                "    \r\n",
                "    print('Distance in miles: {0}'.format(miles))\r\n",
                "\r\n",
                "def miles_km():\r\n",
                "    miles = float(input('Enter distance in miles: '))\r\n",
                "    km = miles * 1.609\r\n",
                "    \r\n",
                "    print('Distance in kilometers: {0}'.format(km))\r\n",
                "\r\n",
                "if __name__ == '__main__':\r\n",
                "    print_menu()\r\n",
                "    choice = input('Which conversion would you like to do?: ')\r\n",
                "    if choice == '1':\r\n",
                "        km_miles()\r\n",
                " \r\n",
                "    if choice == '2':\r\n",
                "        miles_km()"
            ],
            "metadata": {
                "azdata_cell_guid": "b58b8453-d1c2-4385-8df2-d11b756b496e",
                "language": "python"
            },
            "outputs": [
                {
                    "output_type": "stream",
                    "name": "stdout",
                    "text": "1. Kilometers to Miles\n2. Miles to Kilometers\n"
                },
                {
                    "output_type": "stream",
                    "name": "stdout",
                    "text": "Distance in kilometers: 273.53\n"
                }
            ],
            "execution_count": 50
        },
        {
            "cell_type": "markdown",
            "source": [
                "The print\\_menu() function is called, which prints a menu with two unit conversion choices. The user is asked to select one of the two conversions. If the choice is entered as 1 (kilometers to miles), the function km\\_miles() is called. \n",
                "\n",
                "If the choice is entered as 2 (miles to kilometers), the function miles\\_km() is called. In both of these functions, the user is first asked to enter a distance in the unit chosen for conversion (kilometers for km\\_miles() and miles for miles\\_km()). The program then performs the conversion using the corresponding formula and displays the result"
            ],
            "metadata": {
                "azdata_cell_guid": "d2c6b33d-ed20-4cf5-babb-4da3218e87f2"
            },
            "attachments": {}
        }
    ]
}