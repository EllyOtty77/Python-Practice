{
    "metadata": {
        "kernelspec": {
            "name": "python3",
            "display_name": "Python 3",
            "language": "python"
        },
        "language_info": {
            "name": "python",
            "version": "3.11.5",
            "mimetype": "text/x-python",
            "codemirror_mode": {
                "name": "ipython",
                "version": 3
            },
            "pygments_lexer": "ipython3",
            "nbconvert_exporter": "python",
            "file_extension": ".py"
        }
    },
    "nbformat_minor": 2,
    "nbformat": 4,
    "cells": [
        {
            "cell_type": "markdown",
            "source": [
                "# **Dictionaries**"
            ],
            "metadata": {
                "azdata_cell_guid": "dc2d3cc8-61ec-4aee-b7cf-c74afd0f077f"
            },
            "attachments": {}
        },
        {
            "cell_type": "markdown",
            "source": [
                "- A dictionary is a mapping between a set of indices (which are called keys) and a set of values. Each key maps to a value. The association of a key and a value is called a key-value pair or sometimes an item \n",
                "- **<span style=\"font-size:11.0pt;line-height:107%;\n",
                "    font-family:&quot;Calibri&quot;,sans-serif;mso-ascii-theme-font:minor-latin;mso-fareast-font-family:\n",
                "    Calibri;mso-fareast-theme-font:minor-latin;mso-hansi-theme-font:minor-latin;\n",
                "    mso-bidi-font-family:&quot;Times New Roman&quot;;mso-bidi-theme-font:minor-bidi;\n",
                "    mso-ansi-language:EN-US;mso-fareast-language:EN-US;mso-bidi-language:AR-SA\">In&nbsp;</span>**   <span style=\"color: var(--vscode-foreground);\">other programming languages, they can be known as “hashes,” “associative arrays,” “hash maps,” or “hash tables.”</span>\n",
                "- In a list, the index positions have to be integers; in a dictionary, the indices can be (almost) any type."
            ],
            "metadata": {
                "azdata_cell_guid": "3ec57396-60f2-42d8-a7de-e5825f4b6432"
            },
            "attachments": {}
        },
        {
            "cell_type": "code",
            "source": [
                "# The curly brackets, {}, represent an empty dictionary\r\n",
                "artists = {}\r\n",
                "artists"
            ],
            "metadata": {
                "azdata_cell_guid": "cd14781b-4aee-4e1f-ad6f-e508fa3bdfe8",
                "language": "python"
            },
            "outputs": [
                {
                    "data": {
                        "text/plain": "{}"
                    },
                    "metadata": {},
                    "execution_count": 1,
                    "output_type": "execute_result"
                }
            ],
            "execution_count": 1
        },
        {
            "cell_type": "markdown",
            "source": [
                "The function dict creates a new dictionary with no items. Because dict is the name of a built-in function, you should avoid using it as a variable name."
            ],
            "metadata": {
                "language": "python",
                "azdata_cell_guid": "1615d08e-deb0-4a32-94f6-1087ba88f64a"
            },
            "attachments": {}
        },
        {
            "cell_type": "code",
            "source": [
                "music = dict()\r\n",
                "music  "
            ],
            "metadata": {
                "language": "python",
                "azdata_cell_guid": "efdabe95-5955-43bc-86a9-19cfed89a654"
            },
            "outputs": [
                {
                    "data": {
                        "text/plain": "{}"
                    },
                    "metadata": {},
                    "execution_count": 11,
                    "output_type": "execute_result"
                }
            ],
            "execution_count": 11
        },
        {
            "cell_type": "code",
            "source": [
                "labels = dict(zip(['Carti', 'Lone', 'Ken', 'Trav', 'Yeat'],\r\n",
                "                  ['Opium', 'Opium', 'Opium', 'Cactus', 'Twizzyrich']))\r\n",
                "labels"
            ],
            "metadata": {
                "language": "python",
                "azdata_cell_guid": "73e44146-bdd3-4a30-a417-eb40fa83b128"
            },
            "outputs": [
                {
                    "data": {
                        "text/plain": "{'Carti': 'Opium',\n 'Lone': 'Opium',\n 'Ken': 'Opium',\n 'Trav': 'Cactus',\n 'Yeat': 'Twizzyrich'}"
                    },
                    "metadata": {},
                    "execution_count": 31,
                    "output_type": "execute_result"
                }
            ],
            "execution_count": 31
        },
        {
            "cell_type": "code",
            "source": [
                "# To add items to the dictionary, you can use square brackets:\r\n",
                "artists['name'] = 'Ken Carson'\r\n",
                "artists['song'] = 'Overtime'\r\n",
                "artists"
            ],
            "metadata": {
                "azdata_cell_guid": "5ddd28bd-9dfc-46d6-ad8a-190542baeb47",
                "language": "python",
                "tags": []
            },
            "outputs": [
                {
                    "data": {
                        "text/plain": "{'name': 'Ken Carson', 'song': 'Overtime'}"
                    },
                    "metadata": {},
                    "execution_count": 2,
                    "output_type": "execute_result"
                }
            ],
            "execution_count": 2
        },
        {
            "cell_type": "code",
            "source": [
                "# modifying values\r\n",
                "artists['song'] = \"It's over\"\r\n",
                "artists"
            ],
            "metadata": {
                "language": "python",
                "azdata_cell_guid": "7e4e0e34-d3e2-4e49-b2b9-e4891dab30c4",
                "tags": []
            },
            "outputs": [
                {
                    "data": {
                        "text/plain": "{'name': 'Ken Carson', 'song': \"It's over\"}"
                    },
                    "metadata": {},
                    "execution_count": 14,
                    "output_type": "execute_result"
                }
            ],
            "execution_count": 14
        },
        {
            "cell_type": "code",
            "source": [
                "# removing key-value pair\r\n",
                "del artists['song']\r\n",
                "artists"
            ],
            "metadata": {
                "language": "python",
                "azdata_cell_guid": "d8af2428-daaf-48ee-84f7-d9cdbd1d5578"
            },
            "outputs": [
                {
                    "data": {
                        "text/plain": "{'name': 'Ken Carson'}"
                    },
                    "metadata": {},
                    "execution_count": 17,
                    "output_type": "execute_result"
                }
            ],
            "execution_count": 17
        },
        {
            "cell_type": "code",
            "source": [
                "#  multiple items\r\n",
                "artist_info = {\r\n",
                "    'name': 'Ken Carson',\r\n",
                "    'age': 21,\r\n",
                "    'location': 'Atlanta',\r\n",
                "    'music label': 'Opium',\r\n",
                "    'genre': 'Trap',}\r\n",
                "artist_info"
            ],
            "metadata": {
                "language": "python",
                "azdata_cell_guid": "4287c099-9cc7-4df5-ad6e-61636221438c"
            },
            "outputs": [
                {
                    "data": {
                        "text/plain": "{'name': 'Ken Carson',\n 'age': 21,\n 'location': 'Atlanta',\n 'music label': 'Opium',\n 'genre': 'Trap'}"
                    },
                    "metadata": {},
                    "execution_count": 28,
                    "output_type": "execute_result"
                }
            ],
            "execution_count": 28
        },
        {
            "cell_type": "markdown",
            "source": [
                "<span style=\"color: var(--vscode-foreground);\">The order of items in a dictionary is unpredictable. But that’s not a problem because the elements of a dictionary are never indexed with integer indices. Instead, you use the keys to look up the corresponding values</span>"
            ],
            "metadata": {
                "language": "python",
                "azdata_cell_guid": "44697319-6cc8-43b9-9cd9-a4c11d099c2d"
            },
            "attachments": {}
        },
        {
            "cell_type": "code",
            "source": [
                "artists['name']"
            ],
            "metadata": {
                "azdata_cell_guid": "b5981dd0-d53a-4c48-89c6-fd898d600de5",
                "language": "python"
            },
            "outputs": [
                {
                    "data": {
                        "text/plain": "'Ken Carson'"
                    },
                    "metadata": {},
                    "execution_count": 3,
                    "output_type": "execute_result"
                }
            ],
            "execution_count": 3
        },
        {
            "cell_type": "code",
            "source": [
                "# If the key isn’t in the dictionary, you get an exception\r\n",
                "artists['plays']"
            ],
            "metadata": {
                "azdata_cell_guid": "e4fadfcd-ddb9-4762-9a18-a9a2a8e55bee",
                "language": "python"
            },
            "outputs": [
                {
                    "traceback": [
                        "\u001b[1;31m---------------------------------------------------------------------------\u001b[0m",
                        "\u001b[1;31mKeyError\u001b[0m                                  Traceback (most recent call last)",
                        "Cell \u001b[1;32mIn[4], line 2\u001b[0m\n\u001b[0;32m      1\u001b[0m \u001b[38;5;66;03m# If the key isn’t in the dictionary, you get an exception\u001b[39;00m\n\u001b[1;32m----> 2\u001b[0m \u001b[43martists\u001b[49m\u001b[43m[\u001b[49m\u001b[38;5;124;43m'\u001b[39;49m\u001b[38;5;124;43mplays\u001b[39;49m\u001b[38;5;124;43m'\u001b[39;49m\u001b[43m]\u001b[49m\n",
                        "\u001b[1;31mKeyError\u001b[0m: 'plays'"
                    ],
                    "ename": "KeyError",
                    "evalue": "'plays'",
                    "output_type": "error"
                }
            ],
            "execution_count": 4
        },
        {
            "cell_type": "markdown",
            "source": [
                "The len function works on dictionaries; it returns the number of key-value pairs:"
            ],
            "metadata": {
                "azdata_cell_guid": "96339811-8148-4403-9698-f905d27ab8f6"
            },
            "attachments": {}
        },
        {
            "cell_type": "code",
            "source": [
                "len(artists)"
            ],
            "metadata": {
                "azdata_cell_guid": "edb1c286-2759-421a-be09-034af5de59ce",
                "language": "python"
            },
            "outputs": [
                {
                    "data": {
                        "text/plain": "2"
                    },
                    "metadata": {},
                    "execution_count": 5,
                    "output_type": "execute_result"
                }
            ],
            "execution_count": 5
        },
        {
            "cell_type": "markdown",
            "source": [
                "The in operator tells you whether something appears as a key in the dictionary (appearing as a value is not good enough)."
            ],
            "metadata": {
                "azdata_cell_guid": "3d508aad-f98d-4129-89ae-8c3877885873"
            },
            "attachments": {}
        },
        {
            "cell_type": "code",
            "source": [
                "'song' in artists"
            ],
            "metadata": {
                "azdata_cell_guid": "a0c577cf-77ad-42c5-a605-55098c7a31f8",
                "language": "python"
            },
            "outputs": [
                {
                    "data": {
                        "text/plain": "True"
                    },
                    "metadata": {},
                    "execution_count": 6,
                    "output_type": "execute_result"
                }
            ],
            "execution_count": 6
        },
        {
            "cell_type": "code",
            "source": [
                "'Overtime' in artists"
            ],
            "metadata": {
                "azdata_cell_guid": "bb4ab4b2-e5d7-49f1-8662-f440d4c364cb",
                "language": "python"
            },
            "outputs": [
                {
                    "data": {
                        "text/plain": "False"
                    },
                    "metadata": {},
                    "execution_count": 7,
                    "output_type": "execute_result"
                }
            ],
            "execution_count": 7
        },
        {
            "cell_type": "markdown",
            "source": [
                "## **Dictionary methods**"
            ],
            "metadata": {
                "azdata_cell_guid": "4de0c42e-1e62-4c58-89a5-c98c2cb428e4"
            },
            "attachments": {}
        },
        {
            "cell_type": "markdown",
            "source": [
                "- To see whether something appears as a value in a dictionary, you can use the method values, which returns the values as a list, and then use the in operator:\n",
                "- The in operator uses different algorithms for lists and dictionaries. For lists, it uses a linear search algorithm. As the list gets longer, the search time gets longer in direct proportion to the length of the list. For dictionaries, Python uses an algorithm called a hash table that has a remarkable property: the in operator takes about the same amount of time no matter how many items there are in a dictionary.\n",
                "- wikipedia.org/wiki/Hash\\_table."
            ],
            "metadata": {
                "azdata_cell_guid": "b93076f8-fe5c-4c14-9fe5-de3778ef9b57"
            },
            "attachments": {}
        },
        {
            "cell_type": "code",
            "source": [
                "vals = list(artists.values())\r\n",
                "'Overtime' in vals"
            ],
            "metadata": {
                "azdata_cell_guid": "1563b721-52de-4fff-a34d-8ae223268ad5",
                "language": "python"
            },
            "outputs": [
                {
                    "data": {
                        "text/plain": "True"
                    },
                    "metadata": {},
                    "execution_count": 10,
                    "output_type": "execute_result"
                }
            ],
            "execution_count": 10
        },
        {
            "cell_type": "markdown",
            "source": [
                "Dictionaries have a method called get that takes a key and a default value. If the key appears in the dictionary, get returns the corresponding value; otherwise it returns the default value."
            ],
            "metadata": {
                "azdata_cell_guid": "2753456c-5ada-429f-8572-a943703c0e21"
            },
            "attachments": {}
        },
        {
            "cell_type": "code",
            "source": [
                ">>> counts = { 'chuck' : 1 , 'annie' : 42, 'jan': 100}\r\n",
                ">>> print(counts.get('jan', 0))"
            ],
            "metadata": {
                "azdata_cell_guid": "0bcac040-0f80-447c-90c4-ee1ba00e068c",
                "language": "python"
            },
            "outputs": [
                {
                    "name": "stdout",
                    "text": "100\n",
                    "output_type": "stream"
                }
            ],
            "execution_count": 23
        },
        {
            "cell_type": "code",
            "source": [
                "artist_info.get('age')"
            ],
            "metadata": {
                "language": "python",
                "azdata_cell_guid": "cd8437d1-759a-44ed-a971-f5ced8c997c2"
            },
            "outputs": [
                {
                    "data": {
                        "text/plain": "21"
                    },
                    "metadata": {},
                    "execution_count": 29,
                    "output_type": "execute_result"
                }
            ],
            "execution_count": 29
        },
        {
            "cell_type": "code",
            "source": [
                "# if key is non-existent, we set default value, otherwise None is the default\r\n",
                "artist_racks = artist_info.get('racks', 'we dont have that info')\r\n",
                "artist_racks"
            ],
            "metadata": {
                "language": "python",
                "azdata_cell_guid": "2d239139-e8ac-4719-9b28-98ff68c13ecd"
            },
            "outputs": [
                {
                    "data": {
                        "text/plain": "'we dont have that info'"
                    },
                    "metadata": {},
                    "execution_count": 30,
                    "output_type": "execute_result"
                }
            ],
            "execution_count": 30
        },
        {
            "cell_type": "markdown",
            "source": [
                "We can use get to write our histogram loop more concisely. Because the get method automatically handles the case where a key is not in a dictionary, we can reduce four lines down to one and eliminate the if statement"
            ],
            "metadata": {
                "azdata_cell_guid": "de1e24ed-f78e-4c03-b403-5ab0a502f978"
            },
            "attachments": {}
        },
        {
            "cell_type": "code",
            "source": [
                "word = 'brontosaurus'\r\n",
                "d = dict()\r\n",
                "for c in word:\r\n",
                "    d[c] = d.get(c,0) + 1\r\n",
                "print(d)"
            ],
            "metadata": {
                "azdata_cell_guid": "1be09868-770e-4273-bbe7-1fa44283d029",
                "language": "python"
            },
            "outputs": [
                {
                    "name": "stdout",
                    "text": "{'b': 1, 'r': 2, 'o': 2, 'n': 1, 't': 1, 's': 2, 'a': 1, 'u': 2}\n",
                    "output_type": "stream"
                }
            ],
            "execution_count": 18
        },
        {
            "cell_type": "code",
            "source": [
                "# update method\r\n",
                "labels.update({'salvia path': 'Epic'})\r\n",
                "labels"
            ],
            "metadata": {
                "language": "python",
                "azdata_cell_guid": "482df502-d284-4dd5-bc4c-0cfcfeed9e6c"
            },
            "outputs": [
                {
                    "data": {
                        "text/plain": "{'Carti': 'Opium',\n 'Lone': 'Opium',\n 'Ken': 'Opium',\n 'Trav': 'Cactus',\n 'Yeat': 'Twizzyrich',\n 'salvia path': 'Epic'}"
                    },
                    "metadata": {},
                    "execution_count": 40,
                    "output_type": "execute_result"
                }
            ],
            "execution_count": 40
        },
        {
            "cell_type": "code",
            "source": [
                "# clear items\r\n",
                "labels.clear()\r\n",
                "labels"
            ],
            "metadata": {
                "language": "python",
                "azdata_cell_guid": "92334420-8b25-48ff-806d-c064c168ea7a"
            },
            "outputs": [
                {
                    "data": {
                        "text/plain": "{}"
                    },
                    "metadata": {},
                    "execution_count": 41,
                    "output_type": "execute_result"
                }
            ],
            "execution_count": 41
        },
        {
            "cell_type": "markdown",
            "source": [
                "## **Nested dictionaries**"
            ],
            "metadata": {
                "language": "python",
                "azdata_cell_guid": "f92158b1-4a32-46c4-bc5a-5ac450198308"
            },
            "attachments": {}
        },
        {
            "cell_type": "code",
            "source": [
                "# Nesting Dictionaries in list\r\n",
                "all_artists = [artists, artist_info]\r\n",
                "all_artists"
            ],
            "metadata": {
                "language": "python",
                "azdata_cell_guid": "1d4818d6-6407-40d8-aa31-64edf8cd01c7"
            },
            "outputs": [
                {
                    "data": {
                        "text/plain": "[{'name': 'Ken Carson'},\n {'name': 'Ken Carson',\n  'age': 21,\n  'location': 'Atlanta',\n  'music label': 'Opium',\n  'genre': 'Trap'}]"
                    },
                    "metadata": {},
                    "execution_count": 37,
                    "output_type": "execute_result"
                }
            ],
            "execution_count": 37
        },
        {
            "cell_type": "code",
            "source": [
                "# Dictionary in a dictionary\r\n",
                "\r\n",
                "cats = {\r\n",
                "    'Lynx': {\r\n",
                "        'Social': 'Medium',\r\n",
                "        'Fur': 'Tough',\r\n",
                "        'Age': 13,\r\n",
                "    },\r\n",
                "    'Siamese': {\r\n",
                "        'Social': 'High',\r\n",
                "        'Fur': 'Softer',\r\n",
                "        'Age': 7,\r\n",
                "    },\r\n",
                "    'Tabby': {\r\n",
                "        'Social': 'High',\r\n",
                "        'Fur': 'Soft',\r\n",
                "        'Age': 5,\r\n",
                "    },\r\n",
                "}\r\n",
                "\r\n",
                "for cat, cat_info in cats.items():\r\n",
                "    print(f\"The {cat} has the following features:{cat_info}\")"
            ],
            "metadata": {
                "language": "python",
                "azdata_cell_guid": "28f1a4df-fde2-41ed-bce1-c6e1e19eee19"
            },
            "outputs": [
                {
                    "name": "stdout",
                    "text": "The Lynx has the following features:{'Social': 'Medium', 'Fur': 'Tough', 'Age': 13}\nThe Siamese has the following features:{'Social': 'High', 'Fur': 'Softer', 'Age': 7}\nThe Tabby has the following features:{'Social': 'High', 'Fur': 'Soft', 'Age': 5}\n",
                    "output_type": "stream"
                }
            ],
            "execution_count": 39
        },
        {
            "cell_type": "markdown",
            "source": [
                "## **Looping and dictionaries**"
            ],
            "metadata": {
                "azdata_cell_guid": "0fd6814e-aabb-47ac-9f16-8fc9593099e7"
            },
            "attachments": {}
        },
        {
            "cell_type": "code",
            "source": [
                "# If you use a dictionary as the sequence in a for statement, it traverses the keys of the dictionary. \r\n",
                "# This loop prints each key and the corresponding value:\r\n",
                "counts = { 'chuck' : 1 , 'annie' : 42, 'jan': 100}\r\n",
                "for key in counts:\r\n",
                "    print(key, counts[key])"
            ],
            "metadata": {
                "azdata_cell_guid": "499c32bf-454a-47be-91db-a46aeb352880",
                "language": "python"
            },
            "outputs": [
                {
                    "name": "stdout",
                    "text": "chuck 1\nannie 42\njan 100\n",
                    "output_type": "stream"
                }
            ],
            "execution_count": 24
        },
        {
            "cell_type": "code",
            "source": [
                "# If we wanted to find all the entries in a dictionary\r\n",
                "# with a value above ten, we could write the following code:\r\n",
                "counts = { 'chuck' : 1 , 'annie' : 42, 'jan': 100}\r\n",
                "for key in counts:\r\n",
                "    if counts[key] > 10 :\r\n",
                "        print(key, counts[key])"
            ],
            "metadata": {
                "azdata_cell_guid": "977ffe65-f074-4540-9f71-70f2925e00ea",
                "language": "python"
            },
            "outputs": [
                {
                    "name": "stdout",
                    "text": "annie 42\njan 100\n",
                    "output_type": "stream"
                }
            ],
            "execution_count": 25
        },
        {
            "cell_type": "code",
            "source": [
                "# If you want to print the keys in alphabetical order, you first make a list of the keys in the dictionary    \r\n",
                "# using the keys method available in dictionary objects, and then sort that list \r\n",
                "# and loop through the sorted list, looking up each key and printing out key-value pairs\r\n",
                "counts = { 'chuck' : 1 , 'annie' : 42, 'jan': 100}\r\n",
                "lst = list(counts.keys())\r\n",
                "print(lst)\r\n",
                "lst.sort()\r\n",
                "for key in lst:\r\n",
                "    print(key, counts[key])"
            ],
            "metadata": {
                "azdata_cell_guid": "618aa2d9-7020-41d5-ac11-e215615dd086",
                "language": "python"
            },
            "outputs": [
                {
                    "name": "stdout",
                    "text": "['chuck', 'annie', 'jan']\nannie 42\nchuck 1\njan 100\n",
                    "output_type": "stream"
                }
            ],
            "execution_count": 26
        },
        {
            "cell_type": "code",
            "source": [
                "# ordered loop\r\n",
                "for key in sorted(artist_info.keys()):\r\n",
                "    print(key.title())"
            ],
            "metadata": {
                "azdata_cell_guid": "1fe4cbbb-b8e7-4f1d-831a-1bc518c27fd6",
                "language": "python"
            },
            "outputs": [
                {
                    "name": "stdout",
                    "text": "Age\nGenre\nLocation\nMusic Label\nName\n",
                    "output_type": "stream"
                }
            ],
            "execution_count": 32
        },
        {
            "cell_type": "code",
            "source": [
                "# To remove duplicates we convert to set\r\n",
                "labels"
            ],
            "metadata": {
                "azdata_cell_guid": "60b78f8c-8a23-4d75-ae39-97cfc05e8b1b",
                "language": "python"
            },
            "outputs": [
                {
                    "data": {
                        "text/plain": "{'Carti': 'Opium',\n 'Lone': 'Opium',\n 'Ken': 'Opium',\n 'Trav': 'Cactus',\n 'Yeat': 'Twizzyrich'}"
                    },
                    "metadata": {},
                    "execution_count": 34,
                    "output_type": "execute_result"
                }
            ],
            "execution_count": 34
        },
        {
            "cell_type": "code",
            "source": [
                "for label in set(labels.values()):\r\n",
                "        print(label)"
            ],
            "metadata": {
                "azdata_cell_guid": "e64468e3-930a-486a-b27f-7d8db18ee37d",
                "language": "python"
            },
            "outputs": [
                {
                    "name": "stdout",
                    "text": "Opium\nCactus\nTwizzyrich\n",
                    "output_type": "stream"
                }
            ],
            "execution_count": 35
        },
        {
            "cell_type": "markdown",
            "source": [
                "## **Dictionary projects**"
            ],
            "metadata": {
                "azdata_cell_guid": "9b0a4251-ffed-42d6-bc86-6d014d82a2b4"
            },
            "attachments": {}
        },
        {
            "cell_type": "markdown",
            "source": [
                "### **Restaurant**"
            ],
            "metadata": {
                "azdata_cell_guid": "0e8ea851-0124-4ef0-87c6-e88430c9276f"
            },
            "attachments": {}
        },
        {
            "cell_type": "code",
            "source": [
                "# Defines a constant dict with item names (strings) and prices (integers\r\n",
                "MENU = {'sandwich': 10, 'tea': 7, 'salad': 9}\r\n",
                "\r\n",
                "def restaurant():\r\n",
                "    total = 0\r\n",
                "    while True:\r\n",
                "        order = input('Order: ').strip()  # Gets the user’s input, and uses str.strip to remove leading trailing whitespace\r\n",
                "        if not order:\r\n",
                "            break # If “order” is an empty string, break out of the loop.\r\n",
                "        if order in MENU:\r\n",
                "            price = MENU[order]\r\n",
                "            total += price\r\n",
                "            print(f'{order} is {price}, total is {total}')\r\n",
                "        else:\r\n",
                "            # If “order” is neither empty nor in the dict, then we don’t serve this item.\r\n",
                "            print(f'We are fresh out of {order} today')\r\n",
                "    print(f'Your total is {total}')\r\n",
                "\r\n",
                "restaurant()\r\n",
                ""
            ],
            "metadata": {
                "azdata_cell_guid": "9f8c5ed1-8692-490e-bec8-5d4082b5709b",
                "language": "python"
            },
            "outputs": [
                {
                    "name": "stdout",
                    "text": "salad is 9, total is 9\n",
                    "output_type": "stream"
                },
                {
                    "name": "stdout",
                    "text": "tea is 7, total is 16\n",
                    "output_type": "stream"
                },
                {
                    "name": "stdout",
                    "text": "Your total is 16\n",
                    "output_type": "stream"
                }
            ],
            "execution_count": 44
        },
        {
            "cell_type": "markdown",
            "source": [
                "### **Rainfall**"
            ],
            "metadata": {
                "azdata_cell_guid": "e47ba2ad-b8f7-4c21-9549-6e83478c4ba7"
            },
            "attachments": {}
        },
        {
            "cell_type": "code",
            "source": [
                "def get_rainfall():\r\n",
                "    rainfall = {}\r\n",
                "\r\n",
                "    while True:\r\n",
                "        city_name = input('Enter city name: ')\r\n",
                "        if not city_name:\r\n",
                "            break\r\n",
                "\r\n",
                "        mm_rain = input('Enter mm rain: ')\r\n",
                "        rainfall[city_name] = rainfall.get(city_name,\r\n",
                "                        0) + int(mm_rain)\r\n",
                "    for city, rain in rainfall.items():\r\n",
                "        print(f'{city}: {rain}')\r\n",
                "get_rainfall()"
            ],
            "metadata": {
                "azdata_cell_guid": "fcf02744-b0cf-41d0-a1e7-d34f57ee0cde",
                "language": "python"
            },
            "outputs": [
                {
                    "name": "stdout",
                    "text": "Kach: 1600\nLA: 1200\n",
                    "output_type": "stream"
                }
            ],
            "execution_count": 45
        }
    ]
}