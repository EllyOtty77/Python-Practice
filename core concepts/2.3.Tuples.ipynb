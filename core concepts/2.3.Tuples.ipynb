{
 "cells": [
  {
   "attachments": {},
   "cell_type": "markdown",
   "metadata": {
    "azdata_cell_guid": "8b05f74a-da00-48c1-9fb2-82ae5f907266",
    "language": ""
   },
   "source": [
    "# Tuples"
   ]
  },
  {
   "attachments": {},
   "cell_type": "markdown",
   "metadata": {
    "azdata_cell_guid": "6227e71d-a702-4c36-8270-3ce2147197e6"
   },
   "source": [
    "- Tuples are immutable sequences, similar to lists, denoted by parentheses\n",
    "- They can store heterogeneous data types \n",
    "- To change a tuple, reassign a new tuple to the variable\n",
    "- Tuples cannot be modified once created. Attempting to change elements raises a TypeError. <span style=\"font-size: 16pt; font-family: &quot;Courier New&quot;, monospace; color: rgb(93, 105, 187); background-color: transparent; font-variant-numeric: normal; font-variant-east-asian: normal; font-variant-alternates: normal; vertical-align: baseline; white-space-collapse: preserve;\"># TypeError: 'tuple' object does not support item assignment</span>"
   ]
  },
  {
   "cell_type": "code",
   "execution_count": 2,
   "metadata": {
    "azdata_cell_guid": "9580b74b-f234-4e4a-900e-1da29cdb0cfa",
    "language": "sql",
    "tags": [
     "hide_input"
    ]
   },
   "outputs": [
    {
     "data": {
      "text/plain": [
       "(3, 5)"
      ]
     },
     "execution_count": 2,
     "metadata": {},
     "output_type": "execute_result"
    }
   ],
   "source": [
    "t = (3,5)\r\n",
    "t"
   ]
  },
  {
   "attachments": {},
   "cell_type": "markdown",
   "metadata": {
    "azdata_cell_guid": "fd4bbccb-520c-4131-a9d8-58025c642b77"
   },
   "source": [
    "### <span style=\"color: var(--vscode-foreground);\"><b>Tuples can contain other tuples, leading to nested structures:</b></span>"
   ]
  },
  {
   "cell_type": "code",
   "execution_count": 4,
   "metadata": {
    "azdata_cell_guid": "893f8812-f308-45af-99f6-04dbcf3b7999",
    "language": "sql",
    "tags": [
     "hide_input"
    ]
   },
   "outputs": [
    {
     "data": {
      "text/plain": [
       "('Bob', ('dev', 'mgr'))"
      ]
     },
     "execution_count": 4,
     "metadata": {},
     "output_type": "execute_result"
    }
   ],
   "source": [
    "T1 = ('Bob', ('dev', 'mgr'))\r\n",
    "T1"
   ]
  },
  {
   "attachments": {},
   "cell_type": "markdown",
   "metadata": {
    "azdata_cell_guid": "cd72c59c-f406-4db3-81e6-9fad4b1a7d93"
   },
   "source": [
    "### <span style=\"color: var(--vscode-foreground);\"><b>Tuples can be created from iterable objects like strings:</b></span>"
   ]
  },
  {
   "cell_type": "code",
   "execution_count": 5,
   "metadata": {
    "azdata_cell_guid": "913d543e-4bfa-44cb-a6b2-875030ee88f3",
    "language": "sql"
   },
   "outputs": [
    {
     "data": {
      "text/plain": [
       "('s', 'p', 'a', 'm', 'm')"
      ]
     },
     "execution_count": 5,
     "metadata": {},
     "output_type": "execute_result"
    }
   ],
   "source": [
    "T2 = tuple('spamm')\r\n",
    "T2"
   ]
  },
  {
   "attachments": {},
   "cell_type": "markdown",
   "metadata": {
    "azdata_cell_guid": "27fea302-aad7-41f5-9d01-c7edb4471974"
   },
   "source": [
    "### <span style=\"color: var(--vscode-foreground);\"><b>Tuple Slicing and Concatenation:</b></span>"
   ]
  },
  {
   "cell_type": "code",
   "execution_count": 7,
   "metadata": {
    "azdata_cell_guid": "bd5b435d-62eb-40a6-b3a7-6cac81ed9660",
    "language": "sql"
   },
   "outputs": [
    {
     "data": {
      "text/plain": [
       "('a', 'm', 'm')"
      ]
     },
     "execution_count": 7,
     "metadata": {},
     "output_type": "execute_result"
    }
   ],
   "source": [
    "T2[2:]"
   ]
  },
  {
   "attachments": {},
   "cell_type": "markdown",
   "metadata": {
    "azdata_cell_guid": "aec394a8-ef0c-441c-87fa-c2f16656e921"
   },
   "source": [
    "### <span style=\"color: var(--vscode-foreground);\"><b>Tuple Indexing and Searching</b></span>"
   ]
  },
  {
   "cell_type": "code",
   "execution_count": 10,
   "metadata": {
    "azdata_cell_guid": "2df6efb2-83d8-41c1-9ca3-db967a0945e8",
    "language": "sql"
   },
   "outputs": [
    {
     "data": {
      "text/plain": [
       "2"
      ]
     },
     "execution_count": 10,
     "metadata": {},
     "output_type": "execute_result"
    }
   ],
   "source": [
    "# Use index() to find the index of an element \r\n",
    "T2.index('p')"
   ]
  },
  {
   "cell_type": "code",
   "execution_count": 12,
   "metadata": {
    "azdata_cell_guid": "b03b9500-d573-423d-ada6-dc6b3c6ea369",
    "language": "sql"
   },
   "outputs": [
    {
     "data": {
      "text/plain": [
       "2"
      ]
     },
     "execution_count": 12,
     "metadata": {},
     "output_type": "execute_result"
    }
   ],
   "source": [
    "# Use count() to count occurrences\r\n",
    "T2.count('m')"
   ]
  },
  {
   "attachments": {},
   "cell_type": "markdown",
   "metadata": {
    "azdata_cell_guid": "6c37eb5a-364c-4d02-a120-ccc5f08c4465"
   },
   "source": [
    "### <span style=\"color: var(--vscode-foreground);\"><b>Sorting Tuples</b></span>"
   ]
  },
  {
   "cell_type": "code",
   "execution_count": 14,
   "metadata": {
    "azdata_cell_guid": "182d9660-1dbc-40d5-86c9-d60b35601b1f",
    "language": "sql"
   },
   "outputs": [
    {
     "data": {
      "text/plain": [
       "['a', 'm', 'm', 'p', 's']"
      ]
     },
     "execution_count": 14,
     "metadata": {},
     "output_type": "execute_result"
    }
   ],
   "source": [
    "# Tuples can be sorted using sorted() or by converting to a list\r\n",
    "sorted(T2)"
   ]
  },
  {
   "cell_type": "code",
   "execution_count": 17,
   "metadata": {
    "azdata_cell_guid": "e1e89e49-817c-4883-9fc0-8b8d11e40e4c",
    "language": "sql"
   },
   "outputs": [
    {
     "data": {
      "text/plain": [
       "['aa', 'bb', 'cc', 'dd']"
      ]
     },
     "execution_count": 17,
     "metadata": {},
     "output_type": "execute_result"
    }
   ],
   "source": [
    "# List conversion\r\n",
    "T3 = ('cc', 'aa', 'dd', 'bb')\r\n",
    "# Make a list from a tuple's items\r\n",
    "tmp = list(T3)\r\n",
    "tmp.sort()\r\n",
    "tmp"
   ]
  },
  {
   "attachments": {},
   "cell_type": "markdown",
   "metadata": {
    "azdata_cell_guid": "a988afe9-750b-419d-bdd0-1f1403e9217c"
   },
   "source": [
    "### <span style=\"color: var(--vscode-foreground);\"><b>Level-deep Immutability of Tuples</b></span>"
   ]
  },
  {
   "cell_type": "code",
   "execution_count": 22,
   "metadata": {
    "azdata_cell_guid": "b566f14c-5f9a-4fc2-a705-a53443b69291",
    "language": "sql"
   },
   "outputs": [
    {
     "name": "stdout",
     "output_type": "stream",
     "text": [
      "(1, ['spam', 3], 4)\n"
     ]
    }
   ],
   "source": [
    "# Tuples are immutable, but if a tuple contains mutable objects, those objects can be modified.\r\n",
    "T4 = (1, [2, 3], 4)\r\n",
    "T4[1][0] = 'spam'\r\n",
    "print(T4)"
   ]
  },
  {
   "cell_type": "code",
   "execution_count": 25,
   "metadata": {
    "azdata_cell_guid": "b4d3f485-6cf1-43cd-b788-e85eb00c0f5a",
    "language": "sql"
   },
   "outputs": [
    {
     "data": {
      "text/plain": [
       "('Bob', 40.5, ['dev', 'mgr'])"
      ]
     },
     "execution_count": 25,
     "metadata": {},
     "output_type": "execute_result"
    }
   ],
   "source": [
    "# Tuples maintain the integrity of data, even if the original data structure is mutable.\r\n",
    "bob = dict(name='Bob', age=40.5, jobs=['dev', 'mgr'])\r\n",
    "tup = tuple(bob.values())\r\n",
    "tup"
   ]
  },
  {
   "attachments": {},
   "cell_type": "markdown",
   "metadata": {
    "azdata_cell_guid": "573991e8-2c00-4d31-98bf-e0ec1cdf4808"
   },
   "source": [
    "### <span style=\"color: var(--vscode-foreground);\"><b>Named Tuples</b></span>"
   ]
  },
  {
   "attachments": {},
   "cell_type": "markdown",
   "metadata": {
    "azdata_cell_guid": "c70cf548-42c4-45ce-81a0-e5bd6e506048"
   },
   "source": [
    "- Named tuples provide named fields, combining aspects of tuples, classes, and dictionaries.\n",
    "- They are created using the namedtuple factory function\n",
    "- Named tuples can be accessed by position or attribute\n",
    "- Named tuples offer extra utility at the cost of additional code and some performance overhead. \n",
    "- They are a tradeoff between functionality and simplicity."
   ]
  },
  {
   "cell_type": "code",
   "execution_count": 28,
   "metadata": {
    "azdata_cell_guid": "17fb6808-9294-4753-acd7-ce1a2dcafa64",
    "language": "sql"
   },
   "outputs": [
    {
     "name": "stdout",
     "output_type": "stream",
     "text": [
      "Rec(name='Bob', age=40.5, jobs=['dev', 'mgr'])\n",
      "40.5\n",
      "40.5\n"
     ]
    }
   ],
   "source": [
    "# Import extension type\r\n",
    "from collections import namedtuple\r\n",
    "# Make a generated class\r\n",
    "Rec = namedtuple('Rec', ['name', 'age', 'jobs'])\r\n",
    "# A named-tuple record\r\n",
    "\r\n",
    "\r\n",
    "bob = Rec('Bob', age=40.5, jobs=['dev', 'mgr'])\r\n",
    "print(bob)\r\n",
    "\r\n",
    "\r\n",
    "# Access by position\r\n",
    "print( bob[1])\r\n",
    "\r\n",
    "\r\n",
    "# Access by attribute\r\n",
    "print(bob.age)"
   ]
  },
  {
   "attachments": {},
   "cell_type": "markdown",
   "metadata": {
    "azdata_cell_guid": "aad1ea1f-aa39-4e41-914c-c993085b8d2d"
   },
   "source": [
    "###  <span style=\"color: var(--vscode-foreground);\"><b>&nbsp;Converting Named Tuples to Dictionary</b></span>"
   ]
  },
  {
   "cell_type": "code",
   "execution_count": 29,
   "metadata": {
    "azdata_cell_guid": "4677d21b-82cf-4ad2-b233-d5d4c726fd71",
    "language": "sql"
   },
   "outputs": [
    {
     "name": "stdout",
     "output_type": "stream",
     "text": [
      "Bob\n"
     ]
    }
   ],
   "source": [
    "# Named tuples can be converted to dictionaries using the _asdict() method:\r\n",
    "O = bob._asdict()\r\n",
    "print(O['name'])"
   ]
  }
 ],
 "metadata": {
  "kernelspec": {
   "display_name": "Python 3 (ipykernel)",
   "language": "python",
   "name": "python3"
  },
  "language_info": {
   "codemirror_mode": {
    "name": "ipython",
    "version": 3
   },
   "file_extension": ".py",
   "mimetype": "text/x-python",
   "name": "python",
   "nbconvert_exporter": "python",
   "pygments_lexer": "ipython3",
   "version": "3.11.5"
  }
 },
 "nbformat": 4,
 "nbformat_minor": 4
}
