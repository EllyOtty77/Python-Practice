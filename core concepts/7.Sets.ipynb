{
    "metadata": {
        "kernelspec": {
            "name": "python3",
            "display_name": "Python 3",
            "language": "python"
        },
        "language_info": {
            "name": "python",
            "version": "3.11.5",
            "mimetype": "text/x-python",
            "codemirror_mode": {
                "name": "ipython",
                "version": 3
            },
            "pygments_lexer": "ipython3",
            "nbconvert_exporter": "python",
            "file_extension": ".py"
        }
    },
    "nbformat_minor": 2,
    "nbformat": 4,
    "cells": [
        {
            "cell_type": "markdown",
            "source": [
                "# **Sets**"
            ],
            "metadata": {
                "azdata_cell_guid": "263873dc-d7b3-4c82-9503-1dbe045d611a"
            },
            "attachments": {}
        },
        {
            "cell_type": "markdown",
            "source": [
                "- Sets are unordered collections of unique elements\n",
                "- Sets are extremely useful when you need to look something up in a large collection, such as filenames, email addresses, or postal codes, because searching is O(1), just as in a dict\n",
                "- They aid to remove duplicate values from an input list—such as IP addresses in a log file, or the license plate numbers of vehicles that have passed through a parking garage entrance in a given day."
            ],
            "metadata": {
                "azdata_cell_guid": "fc8bb23f-ad0f-4fa1-8202-542c5c867152"
            },
            "attachments": {}
        },
        {
            "cell_type": "code",
            "source": [
                "# Sets can be created using {} or set() function\r\n",
                "my_set = {1, 2, 3, 5}\r\n",
                "my_set"
            ],
            "metadata": {
                "azdata_cell_guid": "b38c7431-89e7-4bb8-9335-c8d1b4df5543",
                "language": "python"
            },
            "outputs": [
                {
                    "data": {
                        "text/plain": "{1, 2, 3, 5}"
                    },
                    "metadata": {},
                    "execution_count": 1,
                    "output_type": "execute_result"
                }
            ],
            "execution_count": 1
        },
        {
            "cell_type": "code",
            "source": [
                "set_2 = set([1,2,5,7])\r\n",
                "set_2"
            ],
            "metadata": {
                "azdata_cell_guid": "31469fde-e2a1-4126-95e2-04c1eb413ba9",
                "language": "python"
            },
            "outputs": [
                {
                    "data": {
                        "text/plain": "{1, 2, 5, 7}"
                    },
                    "metadata": {},
                    "execution_count": 2,
                    "output_type": "execute_result"
                }
            ],
            "execution_count": 2
        },
        {
            "cell_type": "code",
            "source": [
                "# since sets are unordered, you cannot access elements using index; use in instead\r\n",
                "3 in my_set"
            ],
            "metadata": {
                "azdata_cell_guid": "73a488b0-af24-409c-b05e-b6e896c5058c",
                "language": "python"
            },
            "outputs": [
                {
                    "data": {
                        "text/plain": "True"
                    },
                    "metadata": {},
                    "execution_count": 3,
                    "output_type": "execute_result"
                }
            ],
            "execution_count": 3
        },
        {
            "cell_type": "markdown",
            "source": [
                "## **Set methods**"
            ],
            "metadata": {
                "language": "python",
                "azdata_cell_guid": "42b82005-febc-42ae-af2a-0c6f2df57c5d"
            },
            "attachments": {}
        },
        {
            "cell_type": "code",
            "source": [
                "# You can add items with  add method\r\n",
                "my_set.add(4)\r\n",
                "my_set"
            ],
            "metadata": {
                "azdata_cell_guid": "ead2a274-b8d4-472e-bf8b-16abceefaf47",
                "language": "python",
                "tags": []
            },
            "outputs": [
                {
                    "data": {
                        "text/plain": "{1, 2, 3, 4, 5}"
                    },
                    "metadata": {},
                    "execution_count": 4,
                    "output_type": "execute_result"
                }
            ],
            "execution_count": 4
        },
        {
            "cell_type": "code",
            "source": [
                "# use remove or discard to remove items\r\n",
                "my_set.remove(2)\r\n",
                "my_set"
            ],
            "metadata": {
                "azdata_cell_guid": "c6a3c7c2-0795-421e-960e-dc75beda8b59",
                "language": "python"
            },
            "outputs": [
                {
                    "data": {
                        "text/plain": "{1, 3, 4, 5}"
                    },
                    "metadata": {},
                    "execution_count": 5,
                    "output_type": "execute_result"
                }
            ],
            "execution_count": 5
        },
        {
            "cell_type": "code",
            "source": [
                "# Set union\r\n",
                "union_set = my_set| set_2\r\n",
                "union_set"
            ],
            "metadata": {
                "azdata_cell_guid": "1860acac-bd62-4c75-a260-92167d3a63fb",
                "language": "python"
            },
            "outputs": [
                {
                    "data": {
                        "text/plain": "{1, 2, 3, 4, 5, 7}"
                    },
                    "metadata": {},
                    "execution_count": 6,
                    "output_type": "execute_result"
                }
            ],
            "execution_count": 6
        },
        {
            "cell_type": "code",
            "source": [
                "new_set = my_set.union(set_2)\r\n",
                "new_set"
            ],
            "metadata": {
                "azdata_cell_guid": "b8b97b58-317f-4ecd-9ca8-f4932aae6fa0",
                "language": "python"
            },
            "outputs": [
                {
                    "data": {
                        "text/plain": "{1, 2, 3, 4, 5, 7}"
                    },
                    "metadata": {},
                    "execution_count": 7,
                    "output_type": "execute_result"
                }
            ],
            "execution_count": 7
        },
        {
            "cell_type": "code",
            "source": [
                "# Intersection\r\n",
                "inter_set = my_set.intersection(set_2) # my_set & set_2\r\n",
                "inter_set"
            ],
            "metadata": {
                "azdata_cell_guid": "e35186d5-f3c9-4307-a141-c70cad45a1e1",
                "language": "python"
            },
            "outputs": [
                {
                    "data": {
                        "text/plain": "{1, 5}"
                    },
                    "metadata": {},
                    "execution_count": 8,
                    "output_type": "execute_result"
                }
            ],
            "execution_count": 8
        },
        {
            "cell_type": "code",
            "source": [
                "# Difference\r\n",
                "diff_set = my_set.difference(set_2) # my_set - set_2\r\n",
                "diff_set"
            ],
            "metadata": {
                "azdata_cell_guid": "882a3e7c-0315-45d3-85e3-80e374fd4110",
                "language": "python"
            },
            "outputs": [
                {
                    "data": {
                        "text/plain": "{3, 4}"
                    },
                    "metadata": {},
                    "execution_count": 9,
                    "output_type": "execute_result"
                }
            ],
            "execution_count": 9
        },
        {
            "cell_type": "code",
            "source": [
                "# Symmetric Difference\r\n",
                "sym_diff = my_set.symmetric_difference(set_2) #my_set^set_2\r\n",
                "sym_diff"
            ],
            "metadata": {
                "azdata_cell_guid": "f82d4e59-ed2d-469e-861e-312141fce7eb",
                "language": "python"
            },
            "outputs": [
                {
                    "data": {
                        "text/plain": "{2, 3, 4, 7}"
                    },
                    "metadata": {},
                    "execution_count": 10,
                    "output_type": "execute_result"
                }
            ],
            "execution_count": 10
        },
        {
            "cell_type": "markdown",
            "source": [
                "## **Iteration**"
            ],
            "metadata": {
                "azdata_cell_guid": "e010d245-1824-42f6-aed3-b8ae16e3fedd"
            },
            "attachments": {}
        },
        {
            "cell_type": "code",
            "source": [
                "for element in my_set:\r\n",
                "    print(element)"
            ],
            "metadata": {
                "azdata_cell_guid": "5172c693-d070-47df-aa5b-c8e54a255370",
                "language": "python"
            },
            "outputs": [
                {
                    "name": "stdout",
                    "text": "1\n3\n4\n5\n",
                    "output_type": "stream"
                }
            ],
            "execution_count": 11
        }
    ]
}