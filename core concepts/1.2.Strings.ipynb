{
    "metadata": {
        "kernelspec": {
            "name": "python3",
            "display_name": "Python 3",
            "language": "python"
        },
        "language_info": {
            "name": "python",
            "version": "3.11.5",
            "mimetype": "text/x-python",
            "codemirror_mode": {
                "name": "ipython",
                "version": 3
            },
            "pygments_lexer": "ipython3",
            "nbconvert_exporter": "python",
            "file_extension": ".py"
        }
    },
    "nbformat_minor": 2,
    "nbformat": 4,
    "cells": [
        {
            "cell_type": "markdown",
            "source": [
                "# **Strings**"
            ],
            "metadata": {
                "azdata_cell_guid": "3e7e2c52-9101-410e-8d1f-ee3864be8d47",
                "language": ""
            },
            "attachments": {}
        },
        {
            "cell_type": "markdown",
            "source": [
                "- A string is a sequence of characters including letters, spaces, punctuation marks, and even numbers\n",
                "    \n",
                "- Strings are used to represent text, such as names, addresses, and other non-numeric data.\n",
                "    \n",
                "- Strings must always be enclosed in quotation marks, either double (\") or single (').\n",
                "    \n",
                "- Strings are immutable, which means you can’t change an existing string. The best you can do is create a new string that is a variation on the original"
            ],
            "metadata": {
                "azdata_cell_guid": "338baef1-3cb0-46f9-bf4f-497673c43adf"
            },
            "attachments": {}
        },
        {
            "cell_type": "code",
            "source": [
                "# If a string contains double quotation marks, enclose the entire string in single quotation marks\r\n",
                "'The dog of Mary said \"Woof\".'"
            ],
            "metadata": {
                "azdata_cell_guid": "778cd6e5-63e3-4869-9477-3056238d8ec8",
                "language": "python"
            },
            "outputs": [
                {
                    "output_type": "execute_result",
                    "execution_count": 11,
                    "data": {
                        "text/plain": "'The dog of Mary said \"Woof\".'"
                    },
                    "metadata": {}
                }
            ],
            "execution_count": 11
        },
        {
            "cell_type": "code",
            "source": [
                "# If a string contains an apostrophe, enclose the entire string in double quotation marks to avoid confusion\r\n",
                "\"Mary's dog said Woof\""
            ],
            "metadata": {
                "azdata_cell_guid": "cbd8e27a-a197-4c06-9d4b-f835ded840d6",
                "language": "python"
            },
            "outputs": [
                {
                    "output_type": "execute_result",
                    "execution_count": 12,
                    "data": {
                        "text/plain": "\"Mary's dog said Woof\""
                    },
                    "metadata": {}
                }
            ],
            "execution_count": 12
        },
        {
            "cell_type": "markdown",
            "source": [
                "<span style=\"color: var(--vscode-foreground);\">You can access the characters one at a time with the bracket operator</span>"
            ],
            "metadata": {
                "language": "python",
                "azdata_cell_guid": "ec6e167f-160d-445e-9ec2-f34df9a7e426"
            },
            "attachments": {}
        },
        {
            "cell_type": "code",
            "source": [
                "fruit = 'banana'\r\n",
                "letter = fruit[1]\r\n",
                "letter"
            ],
            "metadata": {
                "language": "python",
                "azdata_cell_guid": "60a527cc-838e-49a9-a317-9096b0fb3a7e"
            },
            "outputs": [
                {
                    "output_type": "execute_result",
                    "execution_count": 13,
                    "data": {
                        "text/plain": "'a'"
                    },
                    "metadata": {}
                }
            ],
            "execution_count": 13
        },
        {
            "cell_type": "markdown",
            "source": [
                "- <span style=\"color: var(--vscode-foreground);\">Escape characters are used to avoid the special meaning of characters, such as quotation marks and apostrophes</span>\n",
                "- To escape a character, precede it with a backslash (\\\\)"
            ],
            "metadata": {
                "language": "python",
                "azdata_cell_guid": "15d86691-32f0-48f2-a49f-f28b7641ca7e"
            },
            "attachments": {}
        },
        {
            "cell_type": "code",
            "source": [
                "# To include double quotation marks in a double-quoted string:\r\n",
                "print(\"Mary's dog said \\\"Woof\\\".\")"
            ],
            "metadata": {
                "azdata_cell_guid": "6afb0726-0531-4310-bd2a-0bdd55312f2d",
                "language": "python"
            },
            "outputs": [
                {
                    "output_type": "stream",
                    "name": "stdout",
                    "text": "Mary's dog said \"Woof\".\n"
                }
            ],
            "execution_count": 14
        },
        {
            "cell_type": "code",
            "source": [
                "# To include an apostrophe in a single-quoted string\r\n",
                "print('Mary\\'s dog said \"Woof\".')"
            ],
            "metadata": {
                "azdata_cell_guid": "4ed89697-7ea7-49b1-b560-a20c8350a126",
                "language": "python"
            },
            "outputs": [
                {
                    "output_type": "stream",
                    "name": "stdout",
                    "text": "Mary's dog said \"Woof\".\n"
                }
            ],
            "execution_count": 15
        },
        {
            "cell_type": "markdown",
            "source": [
                "### **Alter string values**"
            ],
            "metadata": {
                "language": "sql",
                "azdata_cell_guid": "85baa23b-b871-4dc7-bf9e-3ed2849a7487"
            },
            "attachments": {}
        },
        {
            "cell_type": "code",
            "source": [
                "# original value is unchanged\r\n",
                "fact = \"The Moon has no atmosphere.\"\r\n",
                "fact + \"No sound can be heard on the Moon.\"\r\n",
                "fact"
            ],
            "metadata": {
                "language": "python",
                "azdata_cell_guid": "cf0916c2-da53-4c46-bb84-f75b6bf5af30"
            },
            "outputs": [
                {
                    "output_type": "execute_result",
                    "execution_count": 18,
                    "data": {
                        "text/plain": "'The Moon has no atmosphere.'"
                    },
                    "metadata": {}
                }
            ],
            "execution_count": 18
        },
        {
            "cell_type": "code",
            "source": [
                "# To keep this new result, assign it to a new variable\r\n",
                "fact = \"The Moon has no atmosphere.\"\r\n",
                "two_facts = fact + \"No sound can be heard on the Moon.\"\r\n",
                "print(two_facts)"
            ],
            "metadata": {
                "language": "python",
                "azdata_cell_guid": "99f30f34-87fc-4259-906e-f18d040329da"
            },
            "outputs": [
                {
                    "output_type": "stream",
                    "name": "stdout",
                    "text": "The Moon has no atmosphere.No sound can be heard on the Moon.\n"
                }
            ],
            "execution_count": 19
        },
        {
            "cell_type": "markdown",
            "source": [
                "### **Multiline strings**"
            ],
            "metadata": {
                "language": "python",
                "azdata_cell_guid": "3510652e-6ffa-4e6a-9143-0f074464f794"
            },
            "attachments": {}
        },
        {
            "cell_type": "code",
            "source": [
                "# You can use the escape sequence \\n to add line breaks within a string.\r\n",
                "print(\"The old pond\\nA frog jumped in,\\nKerplunk!\")"
            ],
            "metadata": {
                "azdata_cell_guid": "1d7c5fed-4c7f-4964-a283-9189f905c034",
                "language": "python"
            },
            "outputs": [
                {
                    "name": "stdout",
                    "text": "The old pond\nA frog jumped in,\nKerplunk!\n",
                    "output_type": "stream"
                }
            ],
            "execution_count": 2
        },
        {
            "cell_type": "code",
            "source": [
                "# using triple quotation marks:\r\n",
                "multiline = \"\"\"Facts about the Moon:\r\n",
                " There is no atmosphere. \r\n",
                " There is no sound.\"\"\"\r\n",
                "print(multiline)"
            ],
            "metadata": {
                "language": "python",
                "azdata_cell_guid": "17239f3c-da78-4d14-b417-376c818da66f"
            },
            "outputs": [
                {
                    "name": "stdout",
                    "text": "Facts about the Moon:\n There is no atmosphere. \n There is no sound.\n",
                    "output_type": "stream"
                }
            ],
            "execution_count": 1
        },
        {
            "cell_type": "markdown",
            "source": [
                "### **Use \\\\t to add tabs to strings**"
            ],
            "metadata": {
                "azdata_cell_guid": "0916ee5f-1305-4da7-9122-2e7646ca695e"
            },
            "attachments": {}
        },
        {
            "cell_type": "code",
            "source": [
                "print(\"Artist:\\tStreams\")"
            ],
            "metadata": {
                "azdata_cell_guid": "358bb9ff-9340-43cb-9235-9469acfbf260",
                "language": "python"
            },
            "outputs": [
                {
                    "output_type": "stream",
                    "name": "stdout",
                    "text": "Artist:\tStreams\n"
                }
            ],
            "execution_count": 17
        },
        {
            "cell_type": "markdown",
            "source": [
                "## **String methods**"
            ],
            "metadata": {
                "azdata_cell_guid": "f43ae728-b8f6-48b3-af33-d81e33d04eeb"
            },
            "attachments": {}
        },
        {
            "cell_type": "markdown",
            "source": [
                "### **len()**"
            ],
            "metadata": {
                "azdata_cell_guid": "a39d3ac3-191e-4307-80fe-63a8d2461481"
            },
            "attachments": {}
        },
        {
            "cell_type": "code",
            "source": [
                "# len is a built-in function that returns the number of characters in a string:\r\n",
                "len(fruit)"
            ],
            "metadata": {
                "azdata_cell_guid": "5d38e7db-fe7d-4573-ae5b-5a6d515e1cca",
                "language": "python"
            },
            "outputs": [
                {
                    "output_type": "execute_result",
                    "execution_count": 20,
                    "data": {
                        "text/plain": "6"
                    },
                    "metadata": {}
                }
            ],
            "execution_count": 20
        },
        {
            "cell_type": "markdown",
            "source": [
                "### **Traversal**"
            ],
            "metadata": {
                "azdata_cell_guid": "cba6fa4d-eb4e-46db-99a6-6ec65b576a81"
            },
            "attachments": {}
        },
        {
            "cell_type": "code",
            "source": [
                "for char in fruit:\r\n",
                "    print(char)"
            ],
            "metadata": {
                "azdata_cell_guid": "341a6426-c325-4e8b-ba55-ed667c5904cb",
                "language": "python"
            },
            "outputs": [
                {
                    "output_type": "stream",
                    "name": "stdout",
                    "text": "b\na\nn\na\nn\na\n"
                }
            ],
            "execution_count": 21
        },
        {
            "cell_type": "markdown",
            "source": [
                "### **Slicing**\n",
                "\n",
                "A segment of a string is called a slice"
            ],
            "metadata": {
                "azdata_cell_guid": "55d61a9f-a314-42be-a8b3-8c02f86715c5"
            },
            "attachments": {}
        },
        {
            "cell_type": "code",
            "source": [
                " s = 'Monty Python'\r\n",
                " print(s[0:5])"
            ],
            "metadata": {
                "azdata_cell_guid": "372e0f7d-2670-4ed0-849e-664baa2f001b",
                "language": "python",
                "tags": [
                    "hide_input"
                ]
            },
            "outputs": [
                {
                    "output_type": "stream",
                    "name": "stdout",
                    "text": "Monty\n"
                }
            ],
            "execution_count": 22
        },
        {
            "cell_type": "markdown",
            "source": [
                "### **in operator**"
            ],
            "metadata": {
                "azdata_cell_guid": "988e964d-806a-483b-bc75-3c540a544fe2"
            },
            "attachments": {}
        },
        {
            "cell_type": "code",
            "source": [
                "# The word in is a boolean operator that takes two strings and returns True if the first appears as a substring in the second:\r\n",
                "'a' in 'banana'"
            ],
            "metadata": {
                "azdata_cell_guid": "6265563d-f20e-4a9d-b707-e23068fda593",
                "language": "python"
            },
            "outputs": [
                {
                    "output_type": "execute_result",
                    "execution_count": 23,
                    "data": {
                        "text/plain": "True"
                    },
                    "metadata": {}
                }
            ],
            "execution_count": 23
        },
        {
            "cell_type": "code",
            "source": [
                " 'seed' in 'banana'"
            ],
            "metadata": {
                "azdata_cell_guid": "3cdf7af6-a5a3-4e7d-9477-fe8770b50234",
                "language": "python"
            },
            "outputs": [
                {
                    "output_type": "execute_result",
                    "execution_count": 24,
                    "data": {
                        "text/plain": "False"
                    },
                    "metadata": {}
                }
            ],
            "execution_count": 24
        },
        {
            "cell_type": "markdown",
            "source": [
                "### **String comparison**"
            ],
            "metadata": {
                "azdata_cell_guid": "3c1db0c2-24a2-4a94-a57f-22d862fc8f3d"
            },
            "attachments": {}
        },
        {
            "cell_type": "code",
            "source": [
                "# To see if two strings are equal:\r\n",
                "word = input()\r\n",
                "if word == 'banana':\r\n",
                "    print('All right, bananas.')"
            ],
            "metadata": {
                "azdata_cell_guid": "1eb373cb-246b-47ee-a89f-57e4a81d178b",
                "language": "python"
            },
            "outputs": [],
            "execution_count": 25
        },
        {
            "cell_type": "code",
            "source": [
                "# To do a case-insensitive comparison, you can convert a string to all lowercase letters by using the .lower() method\r\n",
                "text = \"Temperatures on the Moon can vary wildly.\""
            ],
            "metadata": {
                "language": "python",
                "azdata_cell_guid": "b7c1bc23-46f3-464b-90bc-7783d278b50c"
            },
            "outputs": [],
            "execution_count": 26
        },
        {
            "cell_type": "code",
            "source": [
                "print(\"temperatures\" in text)"
            ],
            "metadata": {
                "language": "python",
                "azdata_cell_guid": "a41a5faa-ae20-4109-985e-12f0dc6f72bf"
            },
            "outputs": [
                {
                    "name": "stdout",
                    "text": "False\n",
                    "output_type": "stream"
                }
            ],
            "execution_count": 27
        },
        {
            "cell_type": "code",
            "source": [
                "print(\"temperatures\" in text.lower())"
            ],
            "metadata": {
                "language": "python",
                "azdata_cell_guid": "e93ae38a-414a-473a-9a76-416771c7103b"
            },
            "outputs": [
                {
                    "name": "stdout",
                    "text": "True\n",
                    "output_type": "stream"
                }
            ],
            "execution_count": 28
        },
        {
            "cell_type": "markdown",
            "source": [
                "### **dir**\n",
                "\n",
                "\\-lists the methods available for an object"
            ],
            "metadata": {
                "azdata_cell_guid": "d98f04f4-a901-4c4d-8fae-a8ad21e65d8e"
            },
            "attachments": {}
        },
        {
            "cell_type": "code",
            "source": [
                "stuff = 'Hello world'\r\n",
                "dir(stuff)"
            ],
            "metadata": {
                "azdata_cell_guid": "94b2c483-f065-4297-a79b-f2d48b0b84e9",
                "language": "python"
            },
            "outputs": [],
            "execution_count": 32
        },
        {
            "cell_type": "markdown",
            "source": [
                "### **type**\n",
                "\n",
                "**\\-** <span style=\"color: var(--vscode-foreground);\">shows the type of an object</span>"
            ],
            "metadata": {
                "azdata_cell_guid": "1b32fd57-9ee7-47e5-9b07-2274e8705f1a"
            },
            "attachments": {}
        },
        {
            "cell_type": "code",
            "source": [
                "stuff = 'Hello world'\r\n",
                "type(stuff)"
            ],
            "metadata": {
                "azdata_cell_guid": "05257fee-81c6-44a1-9348-5471dd8ed801",
                "language": "python"
            },
            "outputs": [
                {
                    "output_type": "execute_result",
                    "execution_count": 27,
                    "data": {
                        "text/plain": "str"
                    },
                    "metadata": {}
                }
            ],
            "execution_count": 27
        },
        {
            "cell_type": "markdown",
            "source": [
                "### **upper ()**"
            ],
            "metadata": {
                "language": "python",
                "azdata_cell_guid": "d03fc05e-299d-4afd-967f-d20a4d71c2ee"
            },
            "attachments": {}
        },
        {
            "cell_type": "code",
            "source": [
                "# the method upper takes a string and returns a new string with all uppercase letters:\r\n",
                "\r\n",
                "word = 'banana'\r\n",
                "new_word = word.upper()\r\n",
                "new_word"
            ],
            "metadata": {
                "azdata_cell_guid": "c4997c12-f7bd-4592-98ec-bce7b79e0d2e",
                "language": "python"
            },
            "outputs": [
                {
                    "data": {
                        "text/plain": "'BANANA'"
                    },
                    "metadata": {},
                    "execution_count": 5,
                    "output_type": "execute_result"
                }
            ],
            "execution_count": 5
        },
        {
            "cell_type": "markdown",
            "source": [
                "### **lower()**"
            ],
            "metadata": {
                "language": "python",
                "azdata_cell_guid": "f4c1954e-067f-494b-a3be-6fa4d225f75e"
            },
            "attachments": {}
        },
        {
            "cell_type": "code",
            "source": [
                "# Convert a string to all lowercase letters \r\n",
                "print(\"The Moon And The Earth\".lower()) "
            ],
            "metadata": {
                "language": "python",
                "azdata_cell_guid": "2a611d97-e72d-4dec-b4c6-07032db4e846"
            },
            "outputs": [
                {
                    "name": "stdout",
                    "text": "the moon and the earth\n",
                    "output_type": "stream"
                }
            ],
            "execution_count": 20
        },
        {
            "cell_type": "markdown",
            "source": [
                "### **title()**"
            ],
            "metadata": {
                "azdata_cell_guid": "a7d8410f-92e5-4422-ab0e-dd7c0e588ad1"
            },
            "attachments": {}
        },
        {
            "cell_type": "code",
            "source": [
                "# eturns the string in initial caps and can be used with a string directly\r\n",
                "print(\"temperatures and facts about the moon\".title())\r\n",
                "word.title()"
            ],
            "metadata": {
                "azdata_cell_guid": "2f144a39-c043-413d-8915-c93b2a93dd41",
                "language": "python"
            },
            "outputs": [
                {
                    "name": "stdout",
                    "text": "Temperatures And Facts About The Moon\n",
                    "output_type": "stream"
                },
                {
                    "data": {
                        "text/plain": "'Banana'"
                    },
                    "metadata": {},
                    "execution_count": 6,
                    "output_type": "execute_result"
                }
            ],
            "execution_count": 6
        },
        {
            "cell_type": "code",
            "source": [
                "text = \"hello world\"\r\n",
                "capitalized_text = text.capitalize()\r\n",
                "capitalized_text"
            ],
            "metadata": {
                "language": "python",
                "azdata_cell_guid": "dbcb049b-f614-4f36-9727-b9966baa0378"
            },
            "outputs": [
                {
                    "data": {
                        "text/plain": "'Hello world'"
                    },
                    "metadata": {},
                    "execution_count": 34,
                    "output_type": "execute_result"
                }
            ],
            "execution_count": 34
        },
        {
            "cell_type": "markdown",
            "source": [
                "### **split()**"
            ],
            "metadata": {
                "azdata_cell_guid": "b3aed085-2cb5-401d-8081-01f4b931c8c3"
            },
            "attachments": {}
        },
        {
            "cell_type": "code",
            "source": [
                "# Without arguments, the method will separate the string at every space. Creates a list\r\n",
                "temperatures = \"Daylight: 260 F Nighttime: -280 F\"\r\n",
                "temperatures_list = temperatures.split()\r\n",
                "temperatures_list[-2]"
            ],
            "metadata": {
                "azdata_cell_guid": "6395e061-94ad-4961-aa10-f0fdc9db6e1c",
                "language": "python"
            },
            "outputs": [
                {
                    "data": {
                        "text/plain": "'-280'"
                    },
                    "metadata": {},
                    "execution_count": 9,
                    "output_type": "execute_result"
                }
            ],
            "execution_count": 9
        },
        {
            "cell_type": "code",
            "source": [
                "# split the string at the end of each line\r\n",
                "temperatures = \"Daylight: 260 F\\n Nighttime: -280 F\"\r\n",
                "temperatures_list = temperatures.split('\\n')\r\n",
                "print(temperatures_list)"
            ],
            "metadata": {
                "azdata_cell_guid": "e9101004-46fa-4178-8668-f1667a48d13a",
                "language": "python"
            },
            "outputs": [
                {
                    "name": "stdout",
                    "text": "['Daylight: 260 F', ' Nighttime: -280 F']\n",
                    "output_type": "stream"
                }
            ],
            "execution_count": 10
        },
        {
            "cell_type": "markdown",
            "source": [
                "### **join()**"
            ],
            "metadata": {
                "language": "python",
                "azdata_cell_guid": "8994311a-bcb1-4d5b-90e5-37a43f2f2ede"
            },
            "attachments": {}
        },
        {
            "cell_type": "code",
            "source": [
                "# The .join() method requires an iterable (such as a Python list) as an argument, so its usage looks different from other string methods\r\n",
                "moon_facts = [\"The Moon is drifting away from the Earth.\", \"On average, the Moon is moving about 4cm every year.\"]\r\n",
                "print(' '.join(moon_facts))"
            ],
            "metadata": {
                "language": "python",
                "azdata_cell_guid": "4026ef93-5eab-4f64-87f5-b778b5fc2cfc",
                "tags": []
            },
            "outputs": [
                {
                    "name": "stdout",
                    "text": "The Moon is drifting away from the Earth. On average, the Moon is moving about 4cm every year.\n",
                    "output_type": "stream"
                }
            ],
            "execution_count": 29
        },
        {
            "cell_type": "markdown",
            "source": [
                "### **find ()**"
            ],
            "metadata": {
                "azdata_cell_guid": "4cba66f9-6963-491a-a35c-5fb1e67ed81d"
            },
            "attachments": {}
        },
        {
            "cell_type": "code",
            "source": [
                "# finding the position of a specific word in a string\r\n",
                "temperatures = \"\"\"Saturn has a daytime temperature of -170 degrees Celsius, while Mars has -28 Celsius.\"\"\""
            ],
            "metadata": {
                "azdata_cell_guid": "743cbbec-eaa7-4181-8830-031486ac9d65",
                "language": "python"
            },
            "outputs": [],
            "execution_count": 15
        },
        {
            "cell_type": "code",
            "source": [
                "# The .find() method returns a -1 when the word isn't found\r\n",
                "print(temperatures.find(\"Moon\"))"
            ],
            "metadata": {
                "azdata_cell_guid": "d9dc62f0-3704-4295-af57-bd7fda476db4",
                "language": "python"
            },
            "outputs": [
                {
                    "name": "stdout",
                    "text": "-1\n",
                    "output_type": "stream"
                }
            ],
            "execution_count": 16
        },
        {
            "cell_type": "code",
            "source": [
                "print(temperatures.find(\"of\"))"
            ],
            "metadata": {
                "azdata_cell_guid": "28ea4e68-0d8a-4226-aa38-eb062db6d9bd",
                "language": "python"
            },
            "outputs": [
                {
                    "name": "stdout",
                    "text": "33\n",
                    "output_type": "stream"
                }
            ],
            "execution_count": 17
        },
        {
            "cell_type": "code",
            "source": [
                "text = \"hello world\"\r\n",
                "index = text.rfind(\"o\")\r\n",
                "index"
            ],
            "metadata": {
                "language": "python",
                "azdata_cell_guid": "1b8bfba1-cfe0-4d4b-ba31-f36e6d926d01"
            },
            "outputs": [
                {
                    "data": {
                        "text/plain": "7"
                    },
                    "metadata": {},
                    "execution_count": 43,
                    "output_type": "execute_result"
                }
            ],
            "execution_count": 43
        },
        {
            "cell_type": "markdown",
            "source": [
                "### **count()**"
            ],
            "metadata": {
                "azdata_cell_guid": "cdfd0046-8705-40a5-b3f4-14748938baf9"
            },
            "attachments": {}
        },
        {
            "cell_type": "code",
            "source": [
                "# returns the total number of occurrences of a certain word in a string\r\n",
                "temperatures = \"\"\"Saturn has a daytime temperature of -170 degrees Celsius, while Mars has -28 Celsius.\"\"\"\r\n",
                "print(temperatures.count(\"Mars\"))\r\n",
                "print(temperatures.count(\"Moon\"))"
            ],
            "metadata": {
                "azdata_cell_guid": "2fbe595a-c9d6-4cf6-a39d-f0ac798fce3d",
                "language": "python"
            },
            "outputs": [
                {
                    "name": "stdout",
                    "text": "1\n0\n",
                    "output_type": "stream"
                }
            ],
            "execution_count": 18
        },
        {
            "cell_type": "markdown",
            "source": [
                "### **replace()**"
            ],
            "metadata": {
                "language": "python",
                "azdata_cell_guid": "96de45cc-de40-42f0-980c-0224749151b4"
            },
            "attachments": {}
        },
        {
            "cell_type": "code",
            "source": [
                "# find and replace occurrences of a character or group of characters:\r\n",
                "print(\"Saturn has a daytime temperature of -170 degrees Celsius, while Mars has -28 Celsius.\".replace(\"Celsius\", \"C\"))"
            ],
            "metadata": {
                "language": "python",
                "azdata_cell_guid": "3b89067b-1013-40d7-ab9e-729de7a03a8f"
            },
            "outputs": [
                {
                    "name": "stdout",
                    "text": "Saturn has a daytime temperature of -170 degrees C, while Mars has -28 C.\n",
                    "output_type": "stream"
                }
            ],
            "execution_count": 24
        },
        {
            "cell_type": "markdown",
            "source": [
                "### **format()**"
            ],
            "metadata": {
                "language": "python",
                "azdata_cell_guid": "2c8aef9c-3d7d-46c7-bd45-e4b56e915524"
            },
            "attachments": {}
        },
        {
            "cell_type": "code",
            "source": [
                "# The .format() method uses braces ({}) as placeholders within a string, and it uses variable assignment for replacing text.\r\n",
                "mass_percentage = \"1/6\"\r\n",
                "print(\"On the Moon, you would weigh about {} of your weight on Earth.\".format(mass_percentage))"
            ],
            "metadata": {
                "language": "python",
                "azdata_cell_guid": "fb23f35f-4a67-43ff-bdc6-019424fabe38"
            },
            "outputs": [
                {
                    "name": "stdout",
                    "text": "On the Moon, you would weigh about 1/6 of your weight on Earth.\n",
                    "output_type": "stream"
                }
            ],
            "execution_count": 31
        },
        {
            "cell_type": "markdown",
            "source": [
                "### **f-strings**"
            ],
            "metadata": {
                "language": "python",
                "azdata_cell_guid": "0eab18f1-dcd8-4624-8dbc-95082b925e0e"
            },
            "attachments": {}
        },
        {
            "cell_type": "code",
            "source": [
                "print(f\"On the Moon, you would weigh about {mass_percentage} of your weight on Earth.\")"
            ],
            "metadata": {
                "language": "python",
                "azdata_cell_guid": "ad03b9d6-ba0e-4857-9197-5c98ba6442a9"
            },
            "outputs": [
                {
                    "name": "stdout",
                    "text": "On the Moon, you would weigh about 1/6 of your weight on Earth.\n",
                    "output_type": "stream"
                }
            ],
            "execution_count": 32
        },
        {
            "cell_type": "code",
            "source": [
                "print(f\"On the Moon, you would weigh about {round(100/6, 1)}% of your weight on Earth.\")"
            ],
            "metadata": {
                "language": "python",
                "azdata_cell_guid": "0b2f6619-1b04-438d-9780-0172dd85b0a6"
            },
            "outputs": [
                {
                    "name": "stdout",
                    "text": "On the Moon, you would weigh about 16.7% of your weight on Earth.\n",
                    "output_type": "stream"
                }
            ],
            "execution_count": 33
        },
        {
            "cell_type": "markdown",
            "source": [
                "### **More methods**"
            ],
            "metadata": {
                "language": "python",
                "azdata_cell_guid": "8b0423ef-7491-4d9d-b941-4dabf9509423"
            },
            "attachments": {}
        },
        {
            "cell_type": "code",
            "source": [
                "# lstrip\r\n",
                "text = \"   hello world   \"\r\n",
                "stripped_text = text.lstrip()\r\n",
                "stripped_text"
            ],
            "metadata": {
                "language": "python",
                "azdata_cell_guid": "a73329a2-c847-4af5-906b-fc4a72093dbe"
            },
            "outputs": [
                {
                    "data": {
                        "text/plain": "'hello world   '"
                    },
                    "metadata": {},
                    "execution_count": 37,
                    "output_type": "execute_result"
                }
            ],
            "execution_count": 37
        },
        {
            "cell_type": "code",
            "source": [
                "# rstrip\r\n",
                "text = \"   hello world   \"\r\n",
                "stripped_text = text.rstrip()\r\n",
                "stripped_text"
            ],
            "metadata": {
                "language": "python",
                "azdata_cell_guid": "a2dc03be-35ba-4755-bf40-93306570b418"
            },
            "outputs": [
                {
                    "data": {
                        "text/plain": "'   hello world'"
                    },
                    "metadata": {},
                    "execution_count": 38,
                    "output_type": "execute_result"
                }
            ],
            "execution_count": 38
        },
        {
            "cell_type": "code",
            "source": [
                "# center(width)\r\n",
                "text = \"hello\"\r\n",
                "centered_text = text.center(10)\r\n",
                "centered_text"
            ],
            "metadata": {
                "language": "python",
                "azdata_cell_guid": "67fd90d6-f48e-4744-beaf-e1b0131f4fe8"
            },
            "outputs": [
                {
                    "data": {
                        "text/plain": "'  hello   '"
                    },
                    "metadata": {},
                    "execution_count": 39,
                    "output_type": "execute_result"
                }
            ],
            "execution_count": 39
        },
        {
            "cell_type": "code",
            "source": [
                "# partition(sep)\r\n",
                "text = \"hello world\"\r\n",
                "partitioned_text = text.partition(\" \")\r\n",
                "partitioned_text"
            ],
            "metadata": {
                "language": "python",
                "azdata_cell_guid": "322987ed-abf7-41d0-8aa9-613461b41705"
            },
            "outputs": [
                {
                    "data": {
                        "text/plain": "('hello', ' ', 'world')"
                    },
                    "metadata": {},
                    "execution_count": 40,
                    "output_type": "execute_result"
                }
            ],
            "execution_count": 40
        },
        {
            "cell_type": "code",
            "source": [
                "# rpartition(sep)\r\n",
                "text = \"hello world\"\r\n",
                "rpartitioned_text = text.rpartition(\" \")\r\n",
                "rpartitioned_text            "
            ],
            "metadata": {
                "language": "python",
                "azdata_cell_guid": "97b37f25-c805-4e65-ad44-cac8dc0a01a1"
            },
            "outputs": [
                {
                    "data": {
                        "text/plain": "('hello', ' ', 'world')"
                    },
                    "metadata": {},
                    "execution_count": 51,
                    "output_type": "execute_result"
                }
            ],
            "execution_count": 51
        },
        {
            "cell_type": "code",
            "source": [
                "# r index\r\n",
                "text = \"hello world\"\r\n",
                "index = text.rindex(\"o\")\r\n",
                "index   "
            ],
            "metadata": {
                "language": "python",
                "azdata_cell_guid": "f477202c-f3d5-4f22-ab5f-40330eaa9509"
            },
            "outputs": [
                {
                    "data": {
                        "text/plain": "7"
                    },
                    "metadata": {},
                    "execution_count": 45,
                    "output_type": "execute_result"
                }
            ],
            "execution_count": 45
        },
        {
            "cell_type": "code",
            "source": [
                "# rjust(width)\r\n",
                "text = \"hello\"\r\n",
                "right_justified_text = text.rjust(10)\r\n",
                "right_justified_text"
            ],
            "metadata": {
                "language": "python",
                "azdata_cell_guid": "926b4f4c-5a16-4898-aa4c-2b807c3e48c2"
            },
            "outputs": [
                {
                    "data": {
                        "text/plain": "'     hello'"
                    },
                    "metadata": {},
                    "execution_count": 46,
                    "output_type": "execute_result"
                }
            ],
            "execution_count": 46
        },
        {
            "cell_type": "code",
            "source": [
                "# expandtabs()\r\n",
                "text = \"hello\\tworld\"\r\n",
                "expanded_text = text.expandtabs()\r\n",
                "expanded_text"
            ],
            "metadata": {
                "language": "python",
                "azdata_cell_guid": "5b5ccef4-f613-4da3-adea-8c85acc43342"
            },
            "outputs": [
                {
                    "data": {
                        "text/plain": "'hello   world'"
                    },
                    "metadata": {},
                    "execution_count": 50,
                    "output_type": "execute_result"
                }
            ],
            "execution_count": 50
        },
        {
            "cell_type": "code",
            "source": [
                "# isspace()\r\n",
                "text = \"    \"\r\n",
                "is_space = text.isspace()\r\n",
                "is_space"
            ],
            "metadata": {
                "language": "python",
                "azdata_cell_guid": "faab1978-9b58-4abc-9f14-831f72cd5838"
            },
            "outputs": [
                {
                    "data": {
                        "text/plain": "True"
                    },
                    "metadata": {},
                    "execution_count": 54,
                    "output_type": "execute_result"
                }
            ],
            "execution_count": 54
        },
        {
            "cell_type": "code",
            "source": [
                "# splitlines()\r\n",
                "text = \"hello\\nworld\"\r\n",
                "split_lines = text.splitlines()\r\n",
                "split_lines"
            ],
            "metadata": {
                "language": "python",
                "azdata_cell_guid": "bdd5be67-b786-46a2-9632-bbe9ba6f76d9"
            },
            "outputs": [
                {
                    "data": {
                        "text/plain": "['hello', 'world']"
                    },
                    "metadata": {},
                    "execution_count": 55,
                    "output_type": "execute_result"
                }
            ],
            "execution_count": 55
        },
        {
            "cell_type": "code",
            "source": [
                "# swapcase()\r\n",
                "text = \"Hello World\"\r\n",
                "swapped_case_text = text.swapcase()\r\n",
                "swapped_case_text"
            ],
            "metadata": {
                "language": "python",
                "azdata_cell_guid": "e07b373a-fcb3-4a4d-8f10-0c646c796058"
            },
            "outputs": [
                {
                    "data": {
                        "text/plain": "'hELLO wORLD'"
                    },
                    "metadata": {},
                    "execution_count": 56,
                    "output_type": "execute_result"
                }
            ],
            "execution_count": 56
        },
        {
            "cell_type": "markdown",
            "source": [
                "### **String validation**"
            ],
            "metadata": {
                "language": "python",
                "azdata_cell_guid": "8af8374a-2089-4ef3-891c-a37bae1185dc"
            },
            "attachments": {}
        },
        {
            "cell_type": "code",
            "source": [
                "# .isnumeric() method, .isdecimal() can check for strings that look like decimals.\r\n",
                "mars_temperature = \"The highest temperature on Mars is about 30 C\"\r\n",
                "for item in mars_temperature.split():\r\n",
                "    if item.isnumeric():\r\n",
                "        print(item)\r\n",
                "\r\n",
                "# \"-70\".isnumeric() would return False. This is because the dash (-) isn't numeric. \r\n",
                "# If you need to check negative numbers in a string, the .isnumeric() method wouldn't work."
            ],
            "metadata": {
                "azdata_cell_guid": "5a488006-20ef-42f8-a414-0ee404c3f959",
                "language": "python"
            },
            "outputs": [
                {
                    "name": "stdout",
                    "text": "30\n",
                    "output_type": "stream"
                }
            ],
            "execution_count": 21
        },
        {
            "cell_type": "code",
            "source": [
                "#  For negative numbers, the dash is prefixed to the number, and that can be detected with the .startswith() method:\r\n",
                "print(\"-60\".startswith('-'))    "
            ],
            "metadata": {
                "language": "python",
                "azdata_cell_guid": "8a1e1de3-1755-4ea1-b917-26eca3f0be64"
            },
            "outputs": [
                {
                    "name": "stdout",
                    "text": "True\n",
                    "output_type": "stream"
                }
            ],
            "execution_count": 22
        },
        {
            "cell_type": "code",
            "source": [
                "#  .endswith() method helps with verifying the last character of a string\r\n",
                "if \"30 C\".endswith(\"C\"):\r\n",
                "    print(\"This temperature is in Celsius\")"
            ],
            "metadata": {
                "language": "python",
                "azdata_cell_guid": "5be47ba3-99c7-40d5-af88-742214882101"
            },
            "outputs": [
                {
                    "name": "stdout",
                    "text": "This temperature is in Celsius\n",
                    "output_type": "stream"
                }
            ],
            "execution_count": 23
        },
        {
            "cell_type": "code",
            "source": [
                "# isalpha()\r\n",
                "text = \"hello\"\r\n",
                "is_alpha = text.isalpha()\r\n",
                "is_alpha"
            ],
            "metadata": {
                "language": "python",
                "azdata_cell_guid": "5a65936c-4e61-4688-b2c0-431f8ead5123"
            },
            "outputs": [
                {
                    "data": {
                        "text/plain": "True"
                    },
                    "metadata": {},
                    "execution_count": 52,
                    "output_type": "execute_result"
                }
            ],
            "execution_count": 52
        },
        {
            "cell_type": "code",
            "source": [
                "# isdigit()\r\n",
                "text = \"123\"\r\n",
                "is_digit = text.isdigit()\r\n",
                "is_digit"
            ],
            "metadata": {
                "azdata_cell_guid": "3e738220-a0ef-4e25-bf1d-ba9f03d9e1cd",
                "language": "python"
            },
            "outputs": [
                {
                    "data": {
                        "text/plain": "True"
                    },
                    "metadata": {},
                    "execution_count": 53,
                    "output_type": "execute_result"
                }
            ],
            "execution_count": 53
        }
    ]
}